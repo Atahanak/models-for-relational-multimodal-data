{
 "cells": [
  {
   "cell_type": "code",
   "execution_count": 7,
   "metadata": {},
   "outputs": [],
   "source": [
    "import torch\n",
    "\n",
    "from torch_frame.data import DataLoader\n",
    "from torch_frame import stype\n",
    "from torch_frame.nn import (\n",
    "    EmbeddingEncoder,\n",
    "    LinearEncoder,\n",
    "    TimestampEncoder,\n",
    ")\n",
    "\n",
    "from src.datasets import IBMTransactionsAML\n",
    "from src.nn.models import FTTransformerGINeFused\n",
    "\n",
    "from icecream import ic\n",
    "import sys"
   ]
  },
  {
   "cell_type": "code",
   "execution_count": 8,
   "metadata": {},
   "outputs": [],
   "source": [
    "seed = 42\n",
    "batch_size = 200\n",
    "lr = 5e-4\n",
    "eps = 1e-8\n",
    "epochs = 3\n",
    "\n",
    "compile = False\n",
    "data_split = [0.6, 0.2, 0.2]\n",
    "split_type = 'temporal'\n",
    "\n",
    "khop_neighbors = [100, 100]\n",
    "pos_sample_prob = 0.15\n",
    "num_neg_samples = 64\n",
    "channels = 32\n",
    "\n",
    "pretrain = 'lp'\n",
    "\n",
    "device = 'cuda' if torch.cuda.is_available() else 'cpu'"
   ]
  },
  {
   "cell_type": "code",
   "execution_count": null,
   "metadata": {},
   "outputs": [],
   "source": [
    "dataset = IBMTransactionsAML(\n",
    "    root='/mnt/data/ibm-transactions-for-anti-money-laundering-aml/HI-Small_Trans-c.csv', \n",
    "    pretrain=pretrain, \n",
    "    split_type=split_type, \n",
    "    splits=data_split, \n",
    "    khop_neighbors=khop_neighbors\n",
    ")\n",
    "ic(dataset)\n",
    "dataset.materialize()\n",
    "dataset.df.head(5)\n",
    "train_dataset, val_dataset, test_dataset = dataset.split()\n",
    "ic(len(train_dataset), len(val_dataset), len(test_dataset))"
   ]
  },
  {
   "cell_type": "code",
   "execution_count": null,
   "metadata": {},
   "outputs": [],
   "source": [
    "# ic(dataset.feat_cols)\n",
    "dataset.materialize()\n",
    "is_classification = dataset.task_type.is_classification\n",
    "\n",
    "train_dataset, val_dataset, test_dataset = dataset.split()\n",
    "train_tensor_frame = train_dataset.tensor_frame\n",
    "train_loader = DataLoader(train_tensor_frame, batch_size=batch_size, shuffle=True)\n",
    "example = next(iter(train_loader))\n",
    "\n",
    "numerical_encoder = LinearEncoder()\n",
    "stype_encoder_dict = {\n",
    "    stype.categorical: EmbeddingEncoder(),\n",
    "    stype.numerical: numerical_encoder\n",
    "}\n",
    "\n",
    "if is_classification:\n",
    "    output_channels = dataset.num_classes\n",
    "else:\n",
    "    output_channels = 1\n",
    "\n",
    "model = FTTransformerGINeFused(\n",
    "    num_node_features=dataset.num_node_features,\n",
    "    num_edge_features=dataset.num_edge_features,\n",
    "    num_layers=3,\n",
    "    num_channels=channels,\n",
    "    num_classes=output_channels,\n",
    "    stype_encoder_dict=stype_encoder_dict,\n",
    "    timestamp_encoder=TimestampEncoder(),\n",
    ")\n",
    "\n",
    "pred = model(example)\n",
    "ic(example.y)\n",
    "ic(pred[0])\n",
    "ic(pred[1])"
   ]
  }
 ],
 "metadata": {
  "kernelspec": {
   "display_name": "rel-mmm",
   "language": "python",
   "name": "python3"
  },
  "language_info": {
   "codemirror_mode": {
    "name": "ipython",
    "version": 3
   },
   "file_extension": ".py",
   "mimetype": "text/x-python",
   "name": "python",
   "nbconvert_exporter": "python",
   "pygments_lexer": "ipython3",
   "version": "3.10.14"
  }
 },
 "nbformat": 4,
 "nbformat_minor": 2
}
