{
 "cells": [
  {
   "cell_type": "code",
   "execution_count": 13,
   "metadata": {},
   "outputs": [
    {
     "name": "stdout",
     "output_type": "stream",
     "text": [
      "The autoreload extension is already loaded. To reload it, use:\n",
      "  %reload_ext autoreload\n"
     ]
    }
   ],
   "source": [
    "%load_ext autoreload\n",
    "%autoreload 2"
   ]
  },
  {
   "cell_type": "code",
   "execution_count": 14,
   "metadata": {},
   "outputs": [],
   "source": [
    "import os\n",
    "import numpy as np\n",
    "import random\n",
    "import torch\n",
    "\n",
    "from torch_frame.data import DataLoader\n",
    "from torch_frame import stype\n",
    "from torch_frame.nn import (\n",
    "    EmbeddingEncoder,\n",
    "    LinearEncoder,\n",
    "    TimestampEncoder,\n",
    ")\n",
    "from torch_frame import TensorFrame\n",
    "\n",
    "from transformers import get_inverse_sqrt_schedule\n",
    "\n",
    "from src.datasets import IBMTransactionsAML\n",
    "from src.nn.models import FTTransformerGINeFused\n",
    "from src.utils.loss import lp_loss\n",
    "from src.utils.metric import mrr\n",
    "\n",
    "from tqdm import tqdm\n",
    "import wandb\n",
    "\n",
    "from icecream import ic\n",
    "import sys\n",
    "\n",
    "torch.set_float32_matmul_precision('high')"
   ]
  },
  {
   "cell_type": "code",
   "execution_count": 15,
   "metadata": {},
   "outputs": [],
   "source": [
    "seed = 42\n",
    "batch_size = 200\n",
    "lr = 5e-4\n",
    "eps = 1e-8\n",
    "epochs = 3\n",
    "\n",
    "compile = False\n",
    "data_split = [0.6, 0.2, 0.2]\n",
    "split_type = 'temporal'\n",
    "\n",
    "khop_neighbors = [100, 100]\n",
    "pos_sample_prob = 0.15\n",
    "num_neg_samples = 64\n",
    "channels = 32\n",
    "\n",
    "pretrain = 'lp'\n",
    "\n",
    "device = 'cuda' if torch.cuda.is_available() else 'cpu'\n",
    "args = {\n",
    "    'testing': False,\n",
    "    'batch_size': batch_size,\n",
    "    'seed': seed,\n",
    "    'device': device,\n",
    "    'lr': lr,\n",
    "    'eps': eps,\n",
    "    'epochs': epochs,\n",
    "    'compile': compile,\n",
    "    'data_split': data_split,\n",
    "    'pos_sample_prob': pos_sample_prob,\n",
    "    'channels': channels,\n",
    "    'split_type': split_type,\n",
    "    'num_neg_samples': num_neg_samples,\n",
    "    'pretrain': pretrain,\n",
    "    'khop_neighbors': khop_neighbors,\n",
    "}"
   ]
  },
  {
   "cell_type": "code",
   "execution_count": 4,
   "metadata": {},
   "outputs": [],
   "source": [
    "np.random.seed(seed)\n",
    "random.seed(seed)\n",
    "torch.manual_seed(seed)\n",
    "torch.cuda.manual_seed(seed)\n",
    "# When running on the CuDNN backend, two further options must be set\n",
    "torch.backends.cudnn.deterministic = True\n",
    "torch.backends.cudnn.benchmark = False\n",
    "# Set a fixed value for the hash seed\n",
    "os.environ[\"PYTHONHASHSEED\"] = str(seed)"
   ]
  },
  {
   "cell_type": "code",
   "execution_count": 5,
   "metadata": {},
   "outputs": [
    {
     "name": "stderr",
     "output_type": "stream",
     "text": [
      "Failed to detect the name of this notebook, you can set it manually with the WANDB_NOTEBOOK_NAME environment variable to enable code saving.\n",
      "\u001b[34m\u001b[1mwandb\u001b[0m: Currently logged in as: \u001b[33maakyildiz\u001b[0m. Use \u001b[1m`wandb login --relogin`\u001b[0m to force relogin\n"
     ]
    },
    {
     "data": {
      "text/html": [
       "Tracking run with wandb version 0.16.6"
      ],
      "text/plain": [
       "<IPython.core.display.HTML object>"
      ]
     },
     "metadata": {},
     "output_type": "display_data"
    },
    {
     "data": {
      "text/html": [
       "Run data is saved locally in <code>/proj/models-for-relational-multimodal-data/wandb/run-20240429_144848-t0i4nldm</code>"
      ],
      "text/plain": [
       "<IPython.core.display.HTML object>"
      ]
     },
     "metadata": {},
     "output_type": "display_data"
    },
    {
     "data": {
      "text/html": [
       "Syncing run <strong><a href='https://wandb.ai/aakyildiz/rel-mm/runs/t0i4nldm' target=\"_blank\">model=FTTransformerGINeFused,dataset=IBM-AML_Hi_Sm,objective=lp,khop_neighs=[100,100],channels=32,epoch=3</a></strong> to <a href='https://wandb.ai/aakyildiz/rel-mm' target=\"_blank\">Weights & Biases</a> (<a href='https://wandb.me/run' target=\"_blank\">docs</a>)<br/>"
      ],
      "text/plain": [
       "<IPython.core.display.HTML object>"
      ]
     },
     "metadata": {},
     "output_type": "display_data"
    },
    {
     "data": {
      "text/html": [
       " View project at <a href='https://wandb.ai/aakyildiz/rel-mm' target=\"_blank\">https://wandb.ai/aakyildiz/rel-mm</a>"
      ],
      "text/plain": [
       "<IPython.core.display.HTML object>"
      ]
     },
     "metadata": {},
     "output_type": "display_data"
    },
    {
     "data": {
      "text/html": [
       " View run at <a href='https://wandb.ai/aakyildiz/rel-mm/runs/t0i4nldm' target=\"_blank\">https://wandb.ai/aakyildiz/rel-mm/runs/t0i4nldm</a>"
      ],
      "text/plain": [
       "<IPython.core.display.HTML object>"
      ]
     },
     "metadata": {},
     "output_type": "display_data"
    }
   ],
   "source": [
    "wandb.login()\n",
    "run = wandb.init(\n",
    "    mode=\"disabled\" if args['testing'] else \"online\",\n",
    "    project=f\"rel-mm\", \n",
    "    name=\"model=FTTransformerGINeFused,dataset=IBM-AML_Hi_Sm,objective=lp,khop_neighs=[100,100],channels=32,epoch=3\",\n",
    "    #name=\"debug-temporal-LOL-channels256-LOL\",\n",
    "    config=args\n",
    ")"
   ]
  },
  {
   "cell_type": "code",
   "execution_count": 6,
   "metadata": {},
   "outputs": [
    {
     "name": "stderr",
     "output_type": "stream",
     "text": [
      "ic| num_nodes: 515080, max_id: 515079.0\n",
      "ic| self.df.head():    Timestamp From Bank  From ID To Bank     To ID  Amount Received  \\\n",
      "                    0       1200      B_10      0.0    B_10       0.0         0.296848   \n",
      "                    1       1200    B_3208      1.0     B_1  399658.0         0.000359   \n",
      "                    2          0    B_3209      2.0  B_3209       2.0         0.346651   \n",
      "                    3        120      B_12      3.0    B_12       3.0         0.286896   \n",
      "                    4        360      B_10      4.0    B_10       4.0         0.379751   \n",
      "                    \n",
      "                      Receiving Currency  Amount Paid Payment Currency Payment Format  \\\n",
      "                    0          US Dollar     0.296848        US Dollar   Reinvestment   \n",
      "                    1          US Dollar     0.000359        US Dollar         Cheque   \n",
      "                    2          US Dollar     0.346651        US Dollar   Reinvestment   \n",
      "                    3          US Dollar     0.286896        US Dollar   Reinvestment   \n",
      "                    4          US Dollar     0.379751        US Dollar   Reinvestment   \n",
      "                    \n",
      "                      Is Laundering  split                  link  \n",
      "                    0             0      0       [0.0, 0.0, 0.0]  \n",
      "                    1             0      0  [1.0, 399658.0, 1.0]  \n",
      "                    2             0      0       [2.0, 2.0, 2.0]  \n",
      "                    3             0      0       [3.0, 3.0, 3.0]  \n",
      "                    4             0      0       [4.0, 4.0, 4.0]  \n",
      "ic| len(self.train_edges): 3248921\n",
      "ic| len(val_edges): 965524\n",
      "ic| train_edge_index.max()+1: tensor(514736), num_nodes: 515080\n",
      "ic| dataset: IBMTransactionsAML()\n",
      "ic| len(train_dataset): 3248921\n",
      "    len(val_dataset): 965524\n",
      "    len(test_dataset): 863900\n"
     ]
    },
    {
     "data": {
      "text/plain": [
       "(3248921, 965524, 863900)"
      ]
     },
     "execution_count": 6,
     "metadata": {},
     "output_type": "execute_result"
    }
   ],
   "source": [
    "dataset = IBMTransactionsAML(\n",
    "    root='/mnt/data/ibm-transactions-for-anti-money-laundering-aml/HI-Small_Trans-c.csv', \n",
    "    pretrain=pretrain, \n",
    "    split_type=split_type, \n",
    "    splits=data_split, \n",
    "    khop_neighbors=khop_neighbors\n",
    ")\n",
    "ic(dataset)\n",
    "dataset.materialize()\n",
    "dataset.df.head(5)\n",
    "train_dataset, val_dataset, test_dataset = dataset.split()\n",
    "ic(len(train_dataset), len(val_dataset), len(test_dataset))"
   ]
  },
  {
   "cell_type": "code",
   "execution_count": 7,
   "metadata": {},
   "outputs": [],
   "source": [
    "def seed_worker(worker_id):\n",
    "    worker_seed = torch.initial_seed() % 2**32\n",
    "    np.random.seed(worker_seed)\n",
    "    random.seed(worker_seed)\n",
    "    torch.manual_seed(seed)\n",
    "    torch.cuda.manual_seed(seed)\n",
    "    \n",
    "g = torch.Generator()\n",
    "g.manual_seed(seed)\n",
    "tensor_frame = dataset.tensor_frame\n",
    "train_tensor_frame = train_dataset.tensor_frame\n",
    "train_loader = DataLoader(train_tensor_frame, batch_size=batch_size, shuffle=True, worker_init_fn=seed_worker, generator=g)\n",
    "val_tensor_frame = val_dataset.tensor_frame\n",
    "val_loader = DataLoader(val_tensor_frame, batch_size=batch_size, shuffle=False, worker_init_fn=seed_worker, generator=g)\n",
    "test_tensor_frame = test_dataset.tensor_frame\n",
    "test_loader = DataLoader(test_tensor_frame, batch_size=batch_size, shuffle=False, worker_init_fn=seed_worker, generator=g)\n",
    "\n"
   ]
  },
  {
   "cell_type": "code",
   "execution_count": 8,
   "metadata": {},
   "outputs": [],
   "source": [
    "from torch_frame.nn.encoder.stypewise_encoder import StypeWiseFeatureEncoder\n",
    "from torch_frame import NAStrategy\n",
    "stype_encoder_dict = {\n",
    "    stype.categorical: EmbeddingEncoder(),\n",
    "    stype.numerical: LinearEncoder(),\n",
    "    stype.timestamp: TimestampEncoder(na_strategy=NAStrategy.OLDEST_TIMESTAMP),\n",
    "}\n",
    "encoder = StypeWiseFeatureEncoder(\n",
    "            out_channels=channels,\n",
    "            col_stats=dataset.col_stats,\n",
    "            col_names_dict=train_tensor_frame.col_names_dict,\n",
    "            stype_encoder_dict=stype_encoder_dict,\n",
    ")"
   ]
  },
  {
   "cell_type": "code",
   "execution_count": 9,
   "metadata": {},
   "outputs": [],
   "source": [
    "def create_empty_rows(col_names_dict, num_rows):\n",
    "    feat_dict = {}\n",
    "    for stype, col_names in col_names_dict.items():\n",
    "        if stype == stype.categorical:\n",
    "            feat_dict[stype] = torch.full((num_rows, len(col_names)), -1)\n",
    "        elif stype == stype.numerical:\n",
    "            feat_dict[stype] = torch.full((num_rows, len(col_names)), float('NaN'))\n",
    "        elif stype == stype.timestamp:\n",
    "            #feat_dict[stype] = torch.full((num_rows, len(col_names)), -1)\n",
    "            #hack to get the timestamp encoder to work\n",
    "            row_values = [[1970, 0, 0, 3, 0, 0, 0]]\n",
    "            feat_dict[stype] = torch.tensor([row_values] * num_rows)\n",
    "    return feat_dict\n",
    "\n",
    "\n",
    "def lp_inputs(tf: TensorFrame, pos_sample_prob=0.15, train=True):   \n",
    "    edges = tf.y\n",
    "    batch_size = len(edges)\n",
    "    khop_source, khop_destination, idx = dataset.sample_neighbors(edges, train)\n",
    "\n",
    "    edge_data = tensor_frame.__getitem__(idx)\n",
    "    #ic(edge_data.feat_dict[stype.timestamp][0:5])\n",
    "\n",
    "    edge_attr, col_names = encoder(edge_data)\n",
    "    edge_attr = edge_attr.view(-1, len(col_names) * channels)\n",
    "\n",
    "    nodes = torch.unique(torch.cat([khop_source, khop_destination]))\n",
    "    num_nodes = nodes.shape[0] + 1 # add interaction node\n",
    "    node_feats = torch.ones(num_nodes).view(-1,num_nodes).t()\n",
    "\n",
    "    n_id_map = {value.item(): index+1 for index, value in enumerate(nodes)}\n",
    "    local_khop_source = torch.tensor([n_id_map[node.item()] for node in khop_source], dtype=torch.long)\n",
    "    local_khop_destination = torch.tensor([n_id_map[node.item()] for node in khop_destination], dtype=torch.long)\n",
    "    edge_index = torch.cat((local_khop_source.unsqueeze(0), local_khop_destination.unsqueeze(0)))\n",
    "    # ic(edge_index.shape, edge_attr.shape)\n",
    "\n",
    "    # sample positive edges\n",
    "    positions = torch.arange(batch_size)\n",
    "    num_samples = int(len(positions) * pos_sample_prob)\n",
    "    if len(positions) > 0 and num_samples > 0:\n",
    "        drop_idxs = torch.multinomial(torch.full((len(positions),), 1.0), num_samples, replacement=False)\n",
    "    else:\n",
    "        drop_idxs = torch.tensor([]).long()\n",
    "    drop_edge_ind = positions[drop_idxs]\n",
    "\n",
    "    mask = torch.zeros((edge_index.shape[1],)).long() #[E, ]\n",
    "    mask = mask.index_fill_(dim=0, index=drop_edge_ind, value=1).bool() #[E, ]\n",
    "    \n",
    "    # add interaction node to the graph\n",
    "    unique_nodes_ids = torch.unique(edges.t()[0:2].flatten())\n",
    "    local_unique_nodes_ids = torch.tensor([n_id_map[node.item()] for node in unique_nodes_ids], dtype=torch.long)\n",
    "    # ic(unique_nodes_ids.shape)\n",
    "    int_edges = torch.stack([local_unique_nodes_ids, torch.tensor([0] * local_unique_nodes_ids.shape[0])], dim=0)\n",
    "    int_edge_attr = TensorFrame(create_empty_rows(tensor_frame.col_names_dict, local_unique_nodes_ids.shape[0]), tensor_frame.col_names_dict)\n",
    "    input_edge_index = torch.cat([int_edges, edge_index[:, ~mask]], dim=1)\n",
    "    input_edge_attr  = torch.cat([encoder(int_edge_attr)[0].view(-1, len(col_names) * channels), edge_attr[~mask]], dim=0)\n",
    "    # ic(input_edge_index.shape, input_edge_attr.shape)\n",
    "\n",
    "    pos_edge_index = edge_index[:, mask]\n",
    "    pos_edge_attr  = edge_attr[mask]\n",
    "\n",
    "    # generate/sample negative edges\n",
    "    neg_edges = []\n",
    "    neg_edge_attr = []\n",
    "    nodeset = set(range(edge_index.max()+1))\n",
    "    for i, edge in enumerate(pos_edge_index.t()):\n",
    "        src, dst = edge[0], edge[1]\n",
    "\n",
    "        # Chose negative examples in a smart way\n",
    "        unavail_mask = (edge_index == src).any(dim=0) | (edge_index == dst).any(dim=0)\n",
    "        unavail_nodes = torch.unique(edge_index[:, unavail_mask])\n",
    "        unavail_nodes = set(unavail_nodes.tolist())\n",
    "        avail_nodes = nodeset - unavail_nodes\n",
    "        avail_nodes = torch.tensor(list(avail_nodes))\n",
    "        # Finally, emmulate np.random.choice() to chose randomly amongst available nodes\n",
    "        indices = torch.randperm(len(avail_nodes))[:num_neg_samples]\n",
    "        neg_nodes = avail_nodes[indices]\n",
    "        \n",
    "        # Generate num_neg_samples/2 negative edges with the same source but different destinations\n",
    "        num_neg_samples_half = int(num_neg_samples/2)\n",
    "        neg_dsts = neg_nodes[:num_neg_samples_half]  # Selecting num_neg_samples/2 random destination nodes for the source\n",
    "        neg_edges_src = torch.stack([src.repeat(num_neg_samples_half), neg_dsts], dim=0)\n",
    "        \n",
    "        # Generate num_neg_samples/2 negative edges with the same destination but different sources\n",
    "        neg_srcs = neg_nodes[num_neg_samples_half:]  # Selecting num_neg_samples/2 random source nodes for the destination\n",
    "        neg_edges_dst = torch.stack([neg_srcs, dst.repeat(num_neg_samples_half)], dim=0)\n",
    "\n",
    "        # Add these negative edges to the list\n",
    "        neg_edges.append(neg_edges_src)\n",
    "        neg_edges.append(neg_edges_dst)\n",
    "        # Replicate the positive edge attribute for each of the negative edges generated from this edge\n",
    "        pos_attr = pos_edge_attr[i].unsqueeze(0)  # Get the attribute of the current positive edge\n",
    "        \n",
    "        replicated_attr = pos_attr.repeat(num_neg_samples, 1)  # Replicate it num_neg_samples times (for each negative edge)\n",
    "        neg_edge_attr.append(replicated_attr)\n",
    "    \n",
    "    input_edge_index = input_edge_index.to(device)\n",
    "    input_edge_attr = input_edge_attr.to(device)\n",
    "    pos_edge_index = pos_edge_index.to(device)\n",
    "    pos_edge_attr = pos_edge_attr.to(device)\n",
    "    node_feats = node_feats.to(device)\n",
    "    neg_edge_index = torch.cat(neg_edges, dim=1).to(device)\n",
    "    neg_edge_attr = torch.cat(neg_edge_attr, dim=0).to(device)\n",
    "    return node_feats, edge_index, edge_attr, input_edge_index, input_edge_attr, pos_edge_index, pos_edge_attr, neg_edge_index, neg_edge_attr\n",
    "# example = next(iter(train_loader))\n",
    "# node_feats, edge_index, edge_attr, input_edge_index, input_edge_attr, pos_edge_index, pos_edge_attr, neg_edge_index, neg_edge_attr = lp_inputs(example)"
   ]
  },
  {
   "cell_type": "code",
   "execution_count": 10,
   "metadata": {},
   "outputs": [],
   "source": [
    "def train(epoc: int, model, optimizer) -> float:\n",
    "    model.train()\n",
    "    loss_accum = total_count = 0\n",
    "\n",
    "    with tqdm(train_loader, desc=f'Epoch {epoc}') as t:\n",
    "        for tf in t:\n",
    "            node_feats, _, _, input_edge_index, input_edge_attr, pos_edge_index, pos_edge_attr, neg_edge_index, neg_edge_attr = lp_inputs(tf)\n",
    "            tf = tf.to(device)\n",
    "            num_pred, cat_pred , pos_pred, neg_pred = model(tf, node_feats, input_edge_index, input_edge_attr, pos_edge_index, pos_edge_attr, neg_edge_index, neg_edge_attr)\n",
    "            # ic(pos_pred, neg_pred)\n",
    "            loss = lp_loss(pos_pred, neg_pred)\n",
    "            # ic(loss)\n",
    "            optimizer.zero_grad()\n",
    "            loss.backward()\n",
    "            optimizer.step()\n",
    "            loss_accum += float(loss) * len(pos_pred)\n",
    "            total_count += len(pos_pred)\n",
    "            t.set_postfix(loss=f'{loss_accum/total_count:.4f}')\n",
    "            del pos_pred\n",
    "            del neg_pred\n",
    "            del num_pred\n",
    "            del cat_pred\n",
    "            del tf\n",
    "        wandb.log({\"train_loss\": loss_accum/total_count})\n",
    "    return {'loss': loss_accum / total_count}\n",
    "\n",
    "@torch.no_grad()\n",
    "def test(loader: DataLoader, model, dataset_name) -> float:\n",
    "    model.eval()\n",
    "    mrrs = []\n",
    "    hits1 = []\n",
    "    hits2 = []\n",
    "    hits5 = []\n",
    "    hits10 = []\n",
    "    loss_accum = 0\n",
    "    total_count = 0\n",
    "    with tqdm(loader, desc=f'Evaluating') as t:\n",
    "        for tf in t:\n",
    "            node_feats, _, _, input_edge_index, input_edge_attr, pos_edge_index, pos_edge_attr, neg_edge_index, neg_edge_attr = lp_inputs(tf, train=False)\n",
    "            tf = tf.to(device)\n",
    "            num_pred, cat_pred, pos_pred, neg_pred = model(tf, node_feats, input_edge_index, input_edge_attr, pos_edge_index, pos_edge_attr, neg_edge_index, neg_edge_attr)\n",
    "            loss = lp_loss(pos_pred, neg_pred)\n",
    "            loss_accum += float(loss) * len(pos_pred)\n",
    "            total_count += len(pos_pred)\n",
    "            mrr_score, hits = mrr(pos_pred, neg_pred, [1,2,5,10], num_neg_samples)\n",
    "            mrrs.append(mrr_score)\n",
    "            hits1.append(hits['hits@1'])\n",
    "            hits2.append(hits['hits@2'])\n",
    "            hits5.append(hits['hits@5'])\n",
    "            hits10.append(hits['hits@10'])\n",
    "            t.set_postfix(\n",
    "                loss=f'{loss_accum/total_count:.4f}',\n",
    "                mrr=f'{np.mean(mrrs):.4f}',\n",
    "                hits1=f'{np.mean(hits1):.4f}',\n",
    "                hits2=f'{np.mean(hits2):.4f}',\n",
    "                hits5=f'{np.mean(hits5):.4f}',\n",
    "                hits10=f'{np.mean(hits10):.4f}'\n",
    "            )\n",
    "        mrr_score = np.mean(mrrs)\n",
    "        hits1 = np.mean(hits1)\n",
    "        hits2 = np.mean(hits2)\n",
    "        hits5 = np.mean(hits5)\n",
    "        hits10 = np.mean(hits10)\n",
    "        wandb.log({\n",
    "            f\"{dataset_name}_loss\": loss_accum/total_count,\n",
    "            f\"{dataset_name}_mrr\": mrr_score,\n",
    "            f\"{dataset_name}_hits@1\": hits1,\n",
    "            f\"{dataset_name}_hits@2\": hits2,\n",
    "            f\"{dataset_name}_hits@5\": hits5,\n",
    "            f\"{dataset_name}_hits@10\": hits10\n",
    "        })\n",
    "        del tf\n",
    "        del pos_pred\n",
    "        del neg_pred\n",
    "        del num_pred\n",
    "        del cat_pred\n",
    "        return {\"mrr\": mrr_score, \"hits@1\": hits1, \"hits@2\": hits2, \"hits@5\": hits5, \"hits@10\": hits10}"
   ]
  },
  {
   "cell_type": "code",
   "execution_count": 16,
   "metadata": {},
   "outputs": [
    {
     "name": "stderr",
     "output_type": "stream",
     "text": [
      "ic| learnable_params: 3500579\n",
      "Evaluating: 100%|██████████| 16245/16245 [27:40<00:00,  9.78it/s, hits1=0.0336, hits10=0.1930, hits2=0.0624, hits5=0.1212, loss=1.3963, mrr=0.1024] \n",
      "Evaluating:  63%|██████▎   | 3032/4828 [02:20<01:17, 23.17it/s, hits1=0.0439, hits10=0.2599, hits2=0.0872, hits5=0.1705, loss=1.3942, mrr=0.1270]"
     ]
    }
   ],
   "source": [
    "torch.autograd.set_detect_anomaly(False)\n",
    "model = FTTransformerGINeFused(\n",
    "    channels=channels,\n",
    "    out_channels=None,\n",
    "    col_stats=dataset.col_stats,\n",
    "    col_names_dict=train_tensor_frame.col_names_dict,\n",
    "    edge_dim=channels*train_dataset.tensor_frame.num_cols,\n",
    "    num_layers=3, \n",
    "    dropout=0.5,\n",
    "    pretrain=True\n",
    ")\n",
    "model = torch.compile(model, dynamic=True) if compile else model\n",
    "model.to(device)\n",
    "learnable_params = sum(p.numel() for p in model.parameters() if p.requires_grad)\n",
    "ic(learnable_params)\n",
    "wandb.log({\"learnable_params\": learnable_params})\n",
    "\n",
    "no_decay = ['bias', 'LayerNorm.weight']\n",
    "optimizer_grouped_parameters = [\n",
    "    {'params': [p for n, p in model.named_parameters() if not any(nd in n for nd in no_decay)], 'weight_decay': 0.0},\n",
    "    {'params': [p for n, p in model.named_parameters() if any(nd in n for nd in no_decay)], 'weight_decay': 0.0}\n",
    "    ]\n",
    "optimizer = torch.optim.AdamW(optimizer_grouped_parameters, lr=lr, eps=eps)\n",
    "scheduler = get_inverse_sqrt_schedule(optimizer, num_warmup_steps=0, timescale=1000)\n",
    "optimizer = torch.optim.AdamW(model.parameters(), lr=lr)\n",
    "\n",
    "train_metric = test(train_loader, model, \"train\")\n",
    "val_metric = test(val_loader, model, \"val\")\n",
    "test_metric = test(test_loader, model, \"test\")\n",
    "ic(\n",
    "        train_metric, \n",
    "        val_metric, \n",
    "        test_metric\n",
    ")\n",
    "\n",
    "for epoch in range(1, epochs + 1):\n",
    "    train_loss = train(epoch, model, optimizer)\n",
    "    train_metric = test(train_loader, model, \"train\")\n",
    "    val_metric = test(val_loader, model, \"val\")\n",
    "    test_metric = test(test_loader, model, \"test\")\n",
    "    ic(\n",
    "        train_loss, \n",
    "        train_metric, \n",
    "        val_metric, \n",
    "        test_metric\n",
    "    )"
   ]
  },
  {
   "cell_type": "code",
   "execution_count": null,
   "metadata": {},
   "outputs": [],
   "source": [
    "wandb.finish()"
   ]
  }
 ],
 "metadata": {
  "kernelspec": {
   "display_name": "Python 3 (ipykernel)",
   "language": "python",
   "name": "python3"
  },
  "language_info": {
   "codemirror_mode": {
    "name": "ipython",
    "version": 3
   },
   "file_extension": ".py",
   "mimetype": "text/x-python",
   "name": "python",
   "nbconvert_exporter": "python",
   "pygments_lexer": "ipython3",
   "version": "3.10.14"
  }
 },
 "nbformat": 4,
 "nbformat_minor": 2
}
