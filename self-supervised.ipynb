{
 "cells": [
  {
   "cell_type": "code",
   "execution_count": 1,
   "metadata": {},
   "outputs": [],
   "source": [
    "%load_ext autoreload\n",
    "%autoreload 2"
   ]
  },
  {
   "cell_type": "code",
   "execution_count": 2,
   "metadata": {},
   "outputs": [],
   "source": [
    "import torch\n",
    "import torch.nn.functional as F\n",
    "from torch_frame import stype\n",
    "from torch_frame.data import DataLoader\n",
    "from torch_frame.nn import (\n",
    "    EmbeddingEncoder,\n",
    "    LinearEncoder,\n",
    "    TimestampEncoder,\n",
    ")\n",
    "from tqdm import tqdm\n",
    "\n",
    "import sys\n",
    "from icecream import ic"
   ]
  },
  {
   "cell_type": "code",
   "execution_count": 3,
   "metadata": {},
   "outputs": [],
   "source": [
    "seed = 42\n",
    "batch_size = 512\n",
    "channels = 256\n",
    "num_layers = 4\n",
    "\n",
    "pretrain = True\n",
    "compile = True\n",
    "lr = 1e-3\n",
    "epochs = 10"
   ]
  },
  {
   "cell_type": "code",
   "execution_count": 4,
   "metadata": {},
   "outputs": [
    {
     "name": "stderr",
     "output_type": "stream",
     "text": [
      "ic| dataset: IBMTransactionsAML()\n",
      "ic| list(self._col_names_dict[stype.numerical]) + list(self._col_names_dict[stype.categorical]): ['Amount Paid',\n",
      "                                                                                                  'Amount Received',\n",
      "                                                                                                  'From Bank',\n",
      "                                                                                                  'From ID',\n",
      "                                                                                                  'Payment Currency',\n",
      "                                                                                                  'Payment Format',\n",
      "                                                                                                  'Receiving Currency',\n",
      "                                                                                                  'To Bank',\n",
      "                                                                                                  'To ID']\n"
     ]
    },
    {
     "data": {
      "text/html": [
       "<div>\n",
       "<style scoped>\n",
       "    .dataframe tbody tr th:only-of-type {\n",
       "        vertical-align: middle;\n",
       "    }\n",
       "\n",
       "    .dataframe tbody tr th {\n",
       "        vertical-align: top;\n",
       "    }\n",
       "\n",
       "    .dataframe thead th {\n",
       "        text-align: right;\n",
       "    }\n",
       "</style>\n",
       "<table border=\"1\" class=\"dataframe\">\n",
       "  <thead>\n",
       "    <tr style=\"text-align: right;\">\n",
       "      <th></th>\n",
       "      <th>Timestamp</th>\n",
       "      <th>From Bank</th>\n",
       "      <th>From ID</th>\n",
       "      <th>To Bank</th>\n",
       "      <th>To ID</th>\n",
       "      <th>Amount Received</th>\n",
       "      <th>Receiving Currency</th>\n",
       "      <th>Amount Paid</th>\n",
       "      <th>Payment Currency</th>\n",
       "      <th>Payment Format</th>\n",
       "      <th>Is Laundering</th>\n",
       "      <th>MASK</th>\n",
       "      <th>split</th>\n",
       "    </tr>\n",
       "  </thead>\n",
       "  <tbody>\n",
       "    <tr>\n",
       "      <th>0</th>\n",
       "      <td>1200</td>\n",
       "      <td>B_10</td>\n",
       "      <td>8000EBD30</td>\n",
       "      <td>B_10</td>\n",
       "      <td>8000EBD30</td>\n",
       "      <td>NaN</td>\n",
       "      <td>US Dollar</td>\n",
       "      <td>3697.34</td>\n",
       "      <td>US Dollar</td>\n",
       "      <td>Reinvestment</td>\n",
       "      <td>0</td>\n",
       "      <td>[3697.34, 1]</td>\n",
       "      <td>0</td>\n",
       "    </tr>\n",
       "    <tr>\n",
       "      <th>1</th>\n",
       "      <td>1200</td>\n",
       "      <td>B_3208</td>\n",
       "      <td>8000F4580</td>\n",
       "      <td>B_1</td>\n",
       "      <td>8000F5340</td>\n",
       "      <td>0.01</td>\n",
       "      <td>US Dollar</td>\n",
       "      <td>0.01</td>\n",
       "      <td>NaN</td>\n",
       "      <td>Cheque</td>\n",
       "      <td>0</td>\n",
       "      <td>[0, 4]</td>\n",
       "      <td>0</td>\n",
       "    </tr>\n",
       "    <tr>\n",
       "      <th>2</th>\n",
       "      <td>0</td>\n",
       "      <td>B_3209</td>\n",
       "      <td>8000F4670</td>\n",
       "      <td>B_3209</td>\n",
       "      <td>8000F4670</td>\n",
       "      <td>14675.57</td>\n",
       "      <td>US Dollar</td>\n",
       "      <td>14675.57</td>\n",
       "      <td>US Dollar</td>\n",
       "      <td>NaN</td>\n",
       "      <td>0</td>\n",
       "      <td>[0, 5]</td>\n",
       "      <td>0</td>\n",
       "    </tr>\n",
       "    <tr>\n",
       "      <th>3</th>\n",
       "      <td>120</td>\n",
       "      <td>B_12</td>\n",
       "      <td>8000F5030</td>\n",
       "      <td>B_12</td>\n",
       "      <td>8000F5030</td>\n",
       "      <td>2806.97</td>\n",
       "      <td>NaN</td>\n",
       "      <td>2806.97</td>\n",
       "      <td>US Dollar</td>\n",
       "      <td>Reinvestment</td>\n",
       "      <td>0</td>\n",
       "      <td>[0, 6]</td>\n",
       "      <td>0</td>\n",
       "    </tr>\n",
       "    <tr>\n",
       "      <th>4</th>\n",
       "      <td>360</td>\n",
       "      <td>B_10</td>\n",
       "      <td>8000F5200</td>\n",
       "      <td>B_10</td>\n",
       "      <td>8000F5200</td>\n",
       "      <td>36682.97</td>\n",
       "      <td>US Dollar</td>\n",
       "      <td>36682.97</td>\n",
       "      <td>NaN</td>\n",
       "      <td>Reinvestment</td>\n",
       "      <td>0</td>\n",
       "      <td>[0, 4]</td>\n",
       "      <td>0</td>\n",
       "    </tr>\n",
       "  </tbody>\n",
       "</table>\n",
       "</div>"
      ],
      "text/plain": [
       "   Timestamp From Bank    From ID To Bank      To ID  Amount Received  \\\n",
       "0       1200      B_10  8000EBD30    B_10  8000EBD30              NaN   \n",
       "1       1200    B_3208  8000F4580     B_1  8000F5340             0.01   \n",
       "2          0    B_3209  8000F4670  B_3209  8000F4670         14675.57   \n",
       "3        120      B_12  8000F5030    B_12  8000F5030          2806.97   \n",
       "4        360      B_10  8000F5200    B_10  8000F5200         36682.97   \n",
       "\n",
       "  Receiving Currency  Amount Paid Payment Currency Payment Format  \\\n",
       "0          US Dollar      3697.34        US Dollar   Reinvestment   \n",
       "1          US Dollar         0.01              NaN         Cheque   \n",
       "2          US Dollar     14675.57        US Dollar            NaN   \n",
       "3                NaN      2806.97        US Dollar   Reinvestment   \n",
       "4          US Dollar     36682.97              NaN   Reinvestment   \n",
       "\n",
       "  Is Laundering          MASK  split  \n",
       "0             0  [3697.34, 1]      0  \n",
       "1             0        [0, 4]      0  \n",
       "2             0        [0, 5]      0  \n",
       "3             0        [0, 6]      0  \n",
       "4             0        [0, 4]      0  "
      ]
     },
     "execution_count": 4,
     "metadata": {},
     "output_type": "execute_result"
    }
   ],
   "source": [
    "from torch_frame.datasets import IBMTransactionsAML\n",
    "dataset = IBMTransactionsAML(root='/mnt/data/ibm-transactions-for-anti-money-laundering-aml/dummy.csv', pretrain=pretrain)\n",
    "ic(dataset)\n",
    "dataset.materialize()\n",
    "num_numerical = len(dataset.tensor_frame.col_names_dict[stype.numerical])\n",
    "num_categorical = len(dataset.tensor_frame.col_names_dict[stype.categorical])\n",
    "dataset.df.head(5)"
   ]
  },
  {
   "cell_type": "code",
   "execution_count": 5,
   "metadata": {},
   "outputs": [],
   "source": [
    "torch.manual_seed(seed)\n",
    "device = torch.device('cuda' if torch.cuda.is_available() else 'cpu')"
   ]
  },
  {
   "cell_type": "code",
   "execution_count": 6,
   "metadata": {},
   "outputs": [],
   "source": [
    "train_dataset, val_dataset, test_dataset = dataset.split()"
   ]
  },
  {
   "cell_type": "code",
   "execution_count": 7,
   "metadata": {},
   "outputs": [
    {
     "name": "stderr",
     "output_type": "stream",
     "text": [
      "ic| len(train_loader): 977, len(val_loader): 1, len(test_loader): 1\n"
     ]
    },
    {
     "data": {
      "text/plain": [
       "(977, 1, 1)"
      ]
     },
     "execution_count": 7,
     "metadata": {},
     "output_type": "execute_result"
    }
   ],
   "source": [
    "train_tensor_frame = train_dataset.tensor_frame\n",
    "val_tensor_frame = val_dataset.tensor_frame\n",
    "test_tensor_frame = test_dataset.tensor_frame\n",
    "train_loader = DataLoader(train_tensor_frame, batch_size=batch_size, shuffle=True)\n",
    "val_loader = DataLoader(val_tensor_frame, batch_size=batch_size, shuffle=False)\n",
    "test_loader = DataLoader(test_tensor_frame, batch_size=batch_size, shuffle=False)\n",
    "ic(len(train_loader), len(val_loader), len(test_loader))"
   ]
  },
  {
   "cell_type": "code",
   "execution_count": 8,
   "metadata": {},
   "outputs": [
    {
     "name": "stderr",
     "output_type": "stream",
     "text": [
      "ic| next(iter(train_loader))"
     ]
    },
    {
     "name": "stderr",
     "output_type": "stream",
     "text": [
      ".feat_dict: {<stype.numerical: 'numerical'>: tensor([[84261.8672, 84261.8672],\n",
      "                                                [  206.3000,   206.3000],\n",
      "                                                [  327.1900,        nan],\n",
      "                                                ...,\n",
      "                                                [       nan, 31433.6992],\n",
      "                                                [ 9969.0400,  9969.0400],\n",
      "                                                [21614.0293, 21614.0293]]),\n",
      "                                         <stype.categorical: 'categorical'>: tensor([[    36,  29817,     -1,  ...,      1,     37, 102771],\n",
      "                                                [     0,      0,      0,  ...,      0,     72,  16904],\n",
      "                                                [   348,  30276,      1,  ...,      1,    348, 131620],\n",
      "                                                ...,\n",
      "                                                [   508,  33812,      0,  ...,      0,    508,  66954],\n",
      "                                                [    30,  39590,     13,  ...,     13,     24,  66110],\n",
      "                                                [   182,  20172,     -1,  ...,      3,      5,  92077]]),\n",
      "                                         <stype.timestamp: 'timestamp'>: tensor([[[1970,    0,    0,  ...,    0,    0,    0]],\n",
      "                                        \n",
      "                                                [[1970,    0,    0,  ...,    0,    0,    0]],\n",
      "                                        \n",
      "                                                [[1970,    0,    0,  ...,    0,    0,    0]],\n",
      "                                        \n",
      "                                                ...,\n",
      "                                        \n",
      "                                                [[1970,    0,    0,  ...,    0,    0,    0]],\n",
      "                                        \n",
      "                                                [[1970,    0,    0,  ...,    0,    0,    0]],\n",
      "                                        \n",
      "                                                [[1970,    0,    0,  ...,    0,    0,    0]]])}\n",
      "ic| next(iter(train_loader)).y: tensor([[0.0000e+00, 5.0000e+00],\n",
      "                                        [3.0000e+00, 5.0000e+00],\n",
      "                                        [0.0000e+00, 4.0000e+00],\n",
      "                                        ...,\n",
      "                                        [2.0000e+00, 4.0000e+00],\n",
      "                                        [2.3546e+04, 0.0000e+00],\n",
      "                                        [2.0000e+00, 4.0000e+00]])\n"
     ]
    },
    {
     "data": {
      "text/plain": [
       "tensor([[0.0000e+00, 5.0000e+00],\n",
       "        [3.0000e+00, 5.0000e+00],\n",
       "        [0.0000e+00, 4.0000e+00],\n",
       "        ...,\n",
       "        [2.0000e+00, 4.0000e+00],\n",
       "        [2.3546e+04, 0.0000e+00],\n",
       "        [2.0000e+00, 4.0000e+00]])"
      ]
     },
     "execution_count": 8,
     "metadata": {},
     "output_type": "execute_result"
    }
   ],
   "source": [
    "# print an example batch\n",
    "ic(next(iter(train_loader)).feat_dict)\n",
    "ic(next(iter(train_loader)).y)"
   ]
  },
  {
   "cell_type": "code",
   "execution_count": 9,
   "metadata": {},
   "outputs": [],
   "source": [
    "stype_encoder_dict = {\n",
    "    stype.categorical: EmbeddingEncoder(),\n",
    "    stype.numerical: LinearEncoder(),\n",
    "    stype.timestamp: TimestampEncoder(),\n",
    "}"
   ]
  },
  {
   "cell_type": "code",
   "execution_count": 20,
   "metadata": {},
   "outputs": [],
   "source": [
    "\n",
    "from models.ft_transformer import FTTransformer \n",
    "model = FTTransformer(\n",
    "    channels=channels,\n",
    "    out_channels=None,\n",
    "    num_layers=num_layers,\n",
    "    col_stats=dataset.col_stats,\n",
    "    col_names_dict=train_tensor_frame.col_names_dict,\n",
    "    stype_encoder_dict=stype_encoder_dict,\n",
    "    pretrain = pretrain\n",
    ").to(device)\n",
    "\n",
    "model = torch.compile(model, dynamic=True) if compile else model\n",
    "optimizer = torch.optim.AdamW(model.parameters(), lr=lr)\n",
    "\n",
    "def calc_loss(pred, y):\n",
    "    ic(pred[0].shape[1], num_numerical)\n",
    "    ic(len(pred[1]), num_categorical)\n",
    "    ic(pred[1][0].shape)\n",
    "    sys.exit()\n",
    "    assert len(pred[0].shape[1]) == num_numerical\n",
    "    assert len(pred[1]) == num_categorical\n",
    "    ic(pred[0])\n",
    "    ic(pred[1])\n",
    "\n",
    "    # ic(y)\n",
    "    # ic(len(pred[1]))\n",
    "\n",
    "    accum_n = accum_c = t_n = t_c = 0\n",
    "    for i, ans in enumerate(y):\n",
    "        # ans --> [val, idx]\n",
    "        # pred --> feature_type_num X type_num X batch_size\n",
    "        if ans[1] > (num_numerical-1):\n",
    "            t_c += 1\n",
    "            a = torch.tensor(int(ans[0])).to(device)\n",
    "            accum_c += F.cross_entropy(pred[1][int(ans[1])-num_numerical][i], a)\n",
    "            del a\n",
    "        else:\n",
    "            t_n += 1\n",
    "            # ic(i, ans)\n",
    "            # ic(ans[0], pred[0][i][int(ans[1])])\n",
    "            # sys.exit()\n",
    "            accum_n += pred[0][i][int(ans[1])] - ans[0] #l1\n",
    "    return (accum_n + accum_c) / (t_c + t_n), (accum_c, t_c), (accum_n, t_n) # len(y)\n",
    "\n",
    "def train(epoc: int) -> float:\n",
    "    model.train()\n",
    "    loss_accum = loss_c_accum = loss_n_accum = total_count = t_c = t_n = 0\n",
    "\n",
    "    with tqdm(train_loader, desc=f'Epoch {epoc}') as t:\n",
    "        for tf in t:\n",
    "            tf = tf.to(device)\n",
    "            pred = model(tf)\n",
    "            loss, loss_c, loss_n = calc_loss(pred, tf.y)\n",
    "            optimizer.zero_grad()\n",
    "            loss.backward()\n",
    "            optimizer.step()\n",
    "\n",
    "            loss_accum += float(loss) * len(tf.y)\n",
    "            loss_c_accum += loss_c[0]\n",
    "            loss_n_accum += loss_n[0]\n",
    "            total_count += len(tf.y)\n",
    "            t_c += loss_c[1]\n",
    "            t_n += loss_n[1]\n",
    "            t.set_postfix(loss=f'{loss_accum/total_count:.4f}', loss_c = f'{loss_c_accum/t_c:.4f}', loss_n = f'{loss_n_accum/t_n:.4f}')\n",
    "    return loss_c_accum / t_c\n",
    "    return loss_accum / total_count\n",
    "\n",
    "@torch.no_grad()\n",
    "def test(loader: DataLoader) -> float:\n",
    "    model.eval()\n",
    "    accum_acc = accum_l1 = 0\n",
    "    t_n = t_c = 0\n",
    "    with tqdm(loader, desc=f'Evaluating') as t:\n",
    "        for tf in t:\n",
    "            tf = tf.to(device)\n",
    "            pred = model(tf)\n",
    "            \n",
    "            for i, ans in enumerate(tf.y):\n",
    "                # ans --> [val, idx]\n",
    "                # pred --> feature_type_num X type_num X batch_size\n",
    "                #ic(int(ans[1]), num_numerical)\n",
    "                if ans[1] > (num_numerical-1):\n",
    "                    #ic(pred[1][int(ans[1])-num_numerical][i].argmax(), int(ans[0]))\n",
    "                    accum_acc += (pred[1][int(ans[1])-num_numerical][i].argmax() == int(ans[0]))\n",
    "                    t_c += 1\n",
    "                else:\n",
    "                    accum_l1 += ans[0] - pred[0][i][int(ans[1])] #l1\n",
    "                    t_n += 1\n",
    "\n",
    "            t.set_postfix(accuracy=f'{accum_acc/t_c:.4f}', l1=f'{accum_l1/t_n:.4f}')\n",
    "\n",
    "        accuracy = accum_acc / t_c\n",
    "        l1 = accum_l1 / t_n\n",
    "        return [l1, accuracy]"
   ]
  },
  {
   "cell_type": "code",
   "execution_count": 21,
   "metadata": {},
   "outputs": [
    {
     "name": "stderr",
     "output_type": "stream",
     "text": [
      "Epoch 1:   0%|          | 0/977 [00:00<?, ?it/s]"
     ]
    },
    {
     "name": "stderr",
     "output_type": "stream",
     "text": [
      "ic| pred[0].shape[1]: 2, num_numerical: 2\n",
      "ic| len(pred[1]): 7, num_categorical: 7\n",
      "ic| pred[1][0].shape: torch.Size([512, 16606])\n",
      "Epoch 1:   0%|          | 0/977 [00:07<?, ?it/s]\n"
     ]
    },
    {
     "ename": "SystemExit",
     "evalue": "",
     "output_type": "error",
     "traceback": [
      "An exception has occurred, use %tb to see the full traceback.\n",
      "\u001b[0;31mSystemExit\u001b[0m\n"
     ]
    },
    {
     "name": "stderr",
     "output_type": "stream",
     "text": [
      "/opt/miniconda3/envs/rel-mm/lib/python3.10/site-packages/IPython/core/interactiveshell.py:3585: UserWarning: To exit: use 'exit', 'quit', or Ctrl-D.\n",
      "  warn(\"To exit: use 'exit', 'quit', or Ctrl-D.\", stacklevel=1)\n"
     ]
    }
   ],
   "source": [
    "for epoch in range(1, epochs + 1):\n",
    "    train_loss = train(epoch)\n",
    "    train_metric = test(train_loader)\n",
    "    val_metric = test(val_loader)\n",
    "    test_metric = test(test_loader)\n",
    "    #ic(train_loss, train_metric, val_metric, test_metric)"
   ]
  }
 ],
 "metadata": {
  "kernelspec": {
   "display_name": "rel-mm",
   "language": "python",
   "name": "python3"
  },
  "language_info": {
   "codemirror_mode": {
    "name": "ipython",
    "version": 3
   },
   "file_extension": ".py",
   "mimetype": "text/x-python",
   "name": "python",
   "nbconvert_exporter": "python",
   "pygments_lexer": "ipython3",
   "version": "3.10.14"
  }
 },
 "nbformat": 4,
 "nbformat_minor": 2
}
