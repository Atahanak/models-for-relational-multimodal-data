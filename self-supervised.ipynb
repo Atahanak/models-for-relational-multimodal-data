{
 "cells": [
  {
   "cell_type": "code",
   "execution_count": 1,
   "metadata": {},
   "outputs": [],
   "source": [
    "%load_ext autoreload\n",
    "%autoreload 2"
   ]
  },
  {
   "cell_type": "code",
   "execution_count": 3,
   "metadata": {},
   "outputs": [],
   "source": [
    "import torch\n",
    "import torch.nn.functional as F\n",
    "from torch_frame import stype\n",
    "from torch_frame.data import DataLoader\n",
    "from torch_frame.nn import (\n",
    "    EmbeddingEncoder,\n",
    "    LinearEncoder,\n",
    "    TimestampEncoder,\n",
    ")\n",
    "from tqdm import tqdm\n",
    "\n",
    "from transformers import get_inverse_sqrt_schedule\n",
    "\n",
    "import sys\n",
    "from icecream import ic\n",
    "import wandb\n",
    "\n",
    "torch.set_float32_matmul_precision('high')"
   ]
  },
  {
   "cell_type": "code",
   "execution_count": 2,
   "metadata": {},
   "outputs": [],
   "source": [
    "seed = 42\n",
    "batch_size = 1024\n",
    "channels = 256\n",
    "num_layers = 4\n",
    "\n",
    "data_split = [0.6, 0.2, 0.2]\n",
    "\n",
    "pretrain = True\n",
    "compile = True\n",
    "lr = 5e-4\n",
    "eps = 1e-8\n",
    "epochs = 20\n",
    "args = {\n",
    "    \"testing\": True,\n",
    "    \"seed\": seed,\n",
    "    \"batch_size\": batch_size,\n",
    "    \"channels\": channels,\n",
    "    \"num_layers\": num_layers,\n",
    "    \"pretrain\": pretrain,\n",
    "    \"compile\": compile,\n",
    "    \"lr\": lr,\n",
    "    \"eps\": eps,\n",
    "    \"epochs\": epochs,\n",
    "    \"data_split\": data_split,\n",
    "}\n"
   ]
  },
  {
   "cell_type": "code",
   "execution_count": 4,
   "metadata": {},
   "outputs": [
    {
     "name": "stderr",
     "output_type": "stream",
     "text": [
      "\u001b[34m\u001b[1mwandb\u001b[0m: Currently logged in as: \u001b[33maakyildiz\u001b[0m. Use \u001b[1m`wandb login --relogin`\u001b[0m to force relogin\n"
     ]
    },
    {
     "data": {
      "text/html": [
       "Tracking run with wandb version 0.16.6"
      ],
      "text/plain": [
       "<IPython.core.display.HTML object>"
      ]
     },
     "metadata": {},
     "output_type": "display_data"
    },
    {
     "data": {
      "text/html": [
       "Run data is saved locally in <code>/proj/models-for-relational-multimodal-data/wandb/run-20240414_202600-c88plmtt</code>"
      ],
      "text/plain": [
       "<IPython.core.display.HTML object>"
      ]
     },
     "metadata": {},
     "output_type": "display_data"
    },
    {
     "data": {
      "text/html": [
       "Syncing run <strong><a href='https://wandb.ai/aakyildiz/rel-mm/runs/c88plmtt' target=\"_blank\">model=fttransformer,dataset=IBM-AML_Hi_Sm,loss=weighted_loss</a></strong> to <a href='https://wandb.ai/aakyildiz/rel-mm' target=\"_blank\">Weights & Biases</a> (<a href='https://wandb.me/run' target=\"_blank\">docs</a>)<br/>"
      ],
      "text/plain": [
       "<IPython.core.display.HTML object>"
      ]
     },
     "metadata": {},
     "output_type": "display_data"
    },
    {
     "data": {
      "text/html": [
       " View project at <a href='https://wandb.ai/aakyildiz/rel-mm' target=\"_blank\">https://wandb.ai/aakyildiz/rel-mm</a>"
      ],
      "text/plain": [
       "<IPython.core.display.HTML object>"
      ]
     },
     "metadata": {},
     "output_type": "display_data"
    },
    {
     "data": {
      "text/html": [
       " View run at <a href='https://wandb.ai/aakyildiz/rel-mm/runs/c88plmtt' target=\"_blank\">https://wandb.ai/aakyildiz/rel-mm/runs/c88plmtt</a>"
      ],
      "text/plain": [
       "<IPython.core.display.HTML object>"
      ]
     },
     "metadata": {},
     "output_type": "display_data"
    }
   ],
   "source": [
    "wandb.login()\n",
    "run = wandb.init(\n",
    "    mode=\"disabled\" if args['testing'] else \"online\",\n",
    "    project=f\"rel-mm\", \n",
    "    name=\"model=fttransformer,dataset=IBM-AML_Hi_Sm,loss=weighted_loss\", \n",
    "    config=args\n",
    ")\n",
    "#run = wandb.init(project=f\"rel-mm\", name=\"debug\", config=args)"
   ]
  },
  {
   "cell_type": "code",
   "execution_count": 5,
   "metadata": {},
   "outputs": [
    {
     "name": "stderr",
     "output_type": "stream",
     "text": [
      "ic| dataset: IBMTransactionsAML()\n",
      "ic| list(self._col_names_dict[stype.numerical]) + list(self._col_names_dict[stype.categorical]): ['Amount Paid',\n",
      "                                                                                                  'Amount Received',\n",
      "                                                                                                  'From Bank',\n",
      "                                                                                                  'From ID',\n",
      "                                                                                                  'Payment Currency',\n",
      "                                                                                                  'Payment Format',\n",
      "                                                                                                  'Receiving Currency',\n",
      "                                                                                                  'To Bank',\n",
      "                                                                                                  'To ID']\n"
     ]
    },
    {
     "data": {
      "text/html": [
       "<div>\n",
       "<style scoped>\n",
       "    .dataframe tbody tr th:only-of-type {\n",
       "        vertical-align: middle;\n",
       "    }\n",
       "\n",
       "    .dataframe tbody tr th {\n",
       "        vertical-align: top;\n",
       "    }\n",
       "\n",
       "    .dataframe thead th {\n",
       "        text-align: right;\n",
       "    }\n",
       "</style>\n",
       "<table border=\"1\" class=\"dataframe\">\n",
       "  <thead>\n",
       "    <tr style=\"text-align: right;\">\n",
       "      <th></th>\n",
       "      <th>Timestamp</th>\n",
       "      <th>From Bank</th>\n",
       "      <th>From ID</th>\n",
       "      <th>To Bank</th>\n",
       "      <th>To ID</th>\n",
       "      <th>Amount Received</th>\n",
       "      <th>Receiving Currency</th>\n",
       "      <th>Amount Paid</th>\n",
       "      <th>Payment Currency</th>\n",
       "      <th>Payment Format</th>\n",
       "      <th>Is Laundering</th>\n",
       "      <th>MASK</th>\n",
       "      <th>split</th>\n",
       "    </tr>\n",
       "  </thead>\n",
       "  <tbody>\n",
       "    <tr>\n",
       "      <th>0</th>\n",
       "      <td>1200</td>\n",
       "      <td>B_10</td>\n",
       "      <td>8000EBD30</td>\n",
       "      <td>B_10</td>\n",
       "      <td>8000EBD30</td>\n",
       "      <td>0.296848</td>\n",
       "      <td>US Dollar</td>\n",
       "      <td>NaN</td>\n",
       "      <td>US Dollar</td>\n",
       "      <td>Reinvestment</td>\n",
       "      <td>0</td>\n",
       "      <td>[0.2968476112178767, 0]</td>\n",
       "      <td>0</td>\n",
       "    </tr>\n",
       "    <tr>\n",
       "      <th>1</th>\n",
       "      <td>1200</td>\n",
       "      <td>B_3208</td>\n",
       "      <td>8000F4580</td>\n",
       "      <td>B_1</td>\n",
       "      <td>8000F5340</td>\n",
       "      <td>0.000359</td>\n",
       "      <td>US Dollar</td>\n",
       "      <td>NaN</td>\n",
       "      <td>US Dollar</td>\n",
       "      <td>Cheque</td>\n",
       "      <td>0</td>\n",
       "      <td>[0.0003594894238955, 0]</td>\n",
       "      <td>0</td>\n",
       "    </tr>\n",
       "    <tr>\n",
       "      <th>2</th>\n",
       "      <td>0</td>\n",
       "      <td>B_3209</td>\n",
       "      <td>8000F4670</td>\n",
       "      <td>B_3209</td>\n",
       "      <td>8000F4670</td>\n",
       "      <td>0.346651</td>\n",
       "      <td>US Dollar</td>\n",
       "      <td>0.346651</td>\n",
       "      <td>NaN</td>\n",
       "      <td>Reinvestment</td>\n",
       "      <td>0</td>\n",
       "      <td>[0, 4]</td>\n",
       "      <td>0</td>\n",
       "    </tr>\n",
       "    <tr>\n",
       "      <th>3</th>\n",
       "      <td>120</td>\n",
       "      <td>B_12</td>\n",
       "      <td>8000F5030</td>\n",
       "      <td>B_12</td>\n",
       "      <td>8000F5030</td>\n",
       "      <td>0.286896</td>\n",
       "      <td>US Dollar</td>\n",
       "      <td>0.286896</td>\n",
       "      <td>NaN</td>\n",
       "      <td>Reinvestment</td>\n",
       "      <td>0</td>\n",
       "      <td>[0, 4]</td>\n",
       "      <td>0</td>\n",
       "    </tr>\n",
       "    <tr>\n",
       "      <th>4</th>\n",
       "      <td>360</td>\n",
       "      <td>B_10</td>\n",
       "      <td>8000F5200</td>\n",
       "      <td>B_10</td>\n",
       "      <td>8000F5200</td>\n",
       "      <td>0.379751</td>\n",
       "      <td>US Dollar</td>\n",
       "      <td>0.379751</td>\n",
       "      <td>NaN</td>\n",
       "      <td>Reinvestment</td>\n",
       "      <td>0</td>\n",
       "      <td>[0, 4]</td>\n",
       "      <td>0</td>\n",
       "    </tr>\n",
       "  </tbody>\n",
       "</table>\n",
       "</div>"
      ],
      "text/plain": [
       "   Timestamp From Bank    From ID To Bank      To ID  Amount Received  \\\n",
       "0       1200      B_10  8000EBD30    B_10  8000EBD30         0.296848   \n",
       "1       1200    B_3208  8000F4580     B_1  8000F5340         0.000359   \n",
       "2          0    B_3209  8000F4670  B_3209  8000F4670         0.346651   \n",
       "3        120      B_12  8000F5030    B_12  8000F5030         0.286896   \n",
       "4        360      B_10  8000F5200    B_10  8000F5200         0.379751   \n",
       "\n",
       "  Receiving Currency  Amount Paid Payment Currency Payment Format  \\\n",
       "0          US Dollar          NaN        US Dollar   Reinvestment   \n",
       "1          US Dollar          NaN        US Dollar         Cheque   \n",
       "2          US Dollar     0.346651              NaN   Reinvestment   \n",
       "3          US Dollar     0.286896              NaN   Reinvestment   \n",
       "4          US Dollar     0.379751              NaN   Reinvestment   \n",
       "\n",
       "  Is Laundering                     MASK  split  \n",
       "0             0  [0.2968476112178767, 0]      0  \n",
       "1             0  [0.0003594894238955, 0]      0  \n",
       "2             0                   [0, 4]      0  \n",
       "3             0                   [0, 4]      0  \n",
       "4             0                   [0, 4]      0  "
      ]
     },
     "execution_count": 5,
     "metadata": {},
     "output_type": "execute_result"
    }
   ],
   "source": [
    "from src.datasets import IBMTransactionsAML\n",
    "#dataset = IBMTransactionsAML(root='/mnt/data/ibm-transactions-for-anti-money-laundering-aml/dummy.csv', pretrain=pretrain)\n",
    "dataset = IBMTransactionsAML(root='/mnt/data/ibm-transactions-for-anti-money-laundering-aml/HI-Small_Trans-cleaned.csv', pretrain=pretrain, split_type='temporal', splits=data_split)\n",
    "ic(dataset)\n",
    "dataset.materialize()\n",
    "num_numerical = len(dataset.tensor_frame.col_names_dict[stype.numerical])\n",
    "num_categorical = len(dataset.tensor_frame.col_names_dict[stype.categorical])\n",
    "dataset.df.head(5)"
   ]
  },
  {
   "cell_type": "code",
   "execution_count": 6,
   "metadata": {},
   "outputs": [
    {
     "name": "stderr",
     "output_type": "stream",
     "text": [
      "ic| num_numerical: 2, num_categorical: "
     ]
    },
    {
     "name": "stderr",
     "output_type": "stream",
     "text": [
      "7, num_columns: 9\n"
     ]
    },
    {
     "data": {
      "text/plain": [
       "(2, 7, 9)"
      ]
     },
     "execution_count": 6,
     "metadata": {},
     "output_type": "execute_result"
    }
   ],
   "source": [
    "num_columns = num_numerical + num_categorical\n",
    "ic(\n",
    "    num_numerical,\n",
    "    num_categorical,\n",
    "    num_columns,\n",
    ")"
   ]
  },
  {
   "cell_type": "code",
   "execution_count": 7,
   "metadata": {},
   "outputs": [],
   "source": [
    "torch.manual_seed(seed)\n",
    "device = torch.device('cuda' if torch.cuda.is_available() else 'cpu')\n",
    "wandb.log({\"device\": str(device)})"
   ]
  },
  {
   "cell_type": "code",
   "execution_count": 8,
   "metadata": {},
   "outputs": [],
   "source": [
    "train_dataset, val_dataset, test_dataset = dataset.split()"
   ]
  },
  {
   "cell_type": "code",
   "execution_count": 9,
   "metadata": {},
   "outputs": [
    {
     "name": "stderr",
     "output_type": "stream",
     "text": [
      "ic| "
     ]
    },
    {
     "name": "stderr",
     "output_type": "stream",
     "text": [
      "len(train_loader): 3173\n",
      "    len(val_loader): 943\n",
      "    len(test_loader): 844\n"
     ]
    }
   ],
   "source": [
    "train_tensor_frame = train_dataset.tensor_frame\n",
    "val_tensor_frame = val_dataset.tensor_frame\n",
    "test_tensor_frame = test_dataset.tensor_frame\n",
    "train_loader = DataLoader(train_tensor_frame, batch_size=batch_size, shuffle=True)\n",
    "val_loader = DataLoader(val_tensor_frame, batch_size=batch_size, shuffle=False)\n",
    "test_loader = DataLoader(test_tensor_frame, batch_size=batch_size, shuffle=False)\n",
    "ic(len(train_loader), len(val_loader), len(test_loader))\n",
    "wandb.log({\n",
    "    \"train_loader size\": len(train_loader), \n",
    "    \"val_loader size\": len(val_loader), \n",
    "    \"test_loader size\": len(test_loader)\n",
    "})"
   ]
  },
  {
   "cell_type": "code",
   "execution_count": 10,
   "metadata": {},
   "outputs": [
    {
     "name": "stderr",
     "output_type": "stream",
     "text": [
      "ic| learnable_params: 496110191\n"
     ]
    }
   ],
   "source": [
    "\n",
    "stype_encoder_dict = {\n",
    "    stype.categorical: EmbeddingEncoder(),\n",
    "    stype.numerical: LinearEncoder(),\n",
    "    stype.timestamp: TimestampEncoder(),\n",
    "}\n",
    "\n",
    "from src.nn.models.ft_transformer import FTTransformer \n",
    "model = FTTransformer(\n",
    "    channels=channels,\n",
    "    out_channels=None,\n",
    "    num_layers=num_layers,\n",
    "    col_stats=dataset.col_stats,\n",
    "    col_names_dict=train_tensor_frame.col_names_dict,\n",
    "    stype_encoder_dict=stype_encoder_dict,\n",
    "    pretrain = pretrain\n",
    ").to(device)\n",
    "\n",
    "model = torch.compile(model, dynamic=True) if compile else model\n",
    "learnable_params = sum(p.numel() for p in model.parameters() if p.requires_grad)\n",
    "ic(learnable_params)\n",
    "wandb.log({\"learnable_params\": learnable_params})\n",
    "\n",
    "# Prepare optimizer and lr scheduler\n",
    "no_decay = ['bias', 'LayerNorm.weight']\n",
    "optimizer_grouped_parameters = [\n",
    "    {'params': [p for n, p in model.named_parameters() if not any(nd in n for nd in no_decay)], 'weight_decay': 0.0},\n",
    "    {'params': [p for n, p in model.named_parameters() if any(nd in n for nd in no_decay)], 'weight_decay': 0.0}\n",
    "    ]\n",
    "optimizer = torch.optim.AdamW(optimizer_grouped_parameters, lr=lr, eps=eps)\n",
    "scheduler = get_inverse_sqrt_schedule(optimizer, num_warmup_steps=0, timescale=1000)\n",
    "optimizer = torch.optim.AdamW(model.parameters(), lr=lr)\n",
    "\n",
    "def calc_loss(pred, y):\n",
    "    accum_n = accum_c = t_n = t_c = 0\n",
    "    for i, ans in enumerate(y):\n",
    "        # ans --> [val, idx]\n",
    "        # pred --> feature_type_num X type_num X batch_size\n",
    "        if ans[1] > (num_numerical-1):\n",
    "            t_c += 1\n",
    "            a = torch.tensor(int(ans[0])).to(device)\n",
    "            accum_c += F.cross_entropy(pred[1][int(ans[1])-num_numerical][i], a)\n",
    "            del a\n",
    "        else:\n",
    "            t_n += 1\n",
    "            accum_n += torch.square(pred[0][i][int(ans[1])] - ans[0]) #mse\n",
    "    return (accum_n / t_n) + torch.sqrt(accum_c / t_c), (accum_c, t_c), (accum_n, t_n)\n",
    "\n",
    "def train(epoc: int) -> float:\n",
    "    model.train()\n",
    "    loss_accum = loss_c_accum = loss_n_accum = total_count = t_c = t_n = 0\n",
    "\n",
    "    with tqdm(train_loader, desc=f'Epoch {epoc}') as t:\n",
    "        for tf in t:\n",
    "            tf = tf.to(device)\n",
    "            pred = model(tf)\n",
    "            loss, loss_c, loss_n = calc_loss(pred, tf.y)\n",
    "            optimizer.zero_grad()\n",
    "            loss.backward()\n",
    "            optimizer.step()\n",
    "\n",
    "            loss_accum += float(loss) * len(tf.y)\n",
    "            loss_c_accum += loss_c[0]\n",
    "            loss_n_accum += loss_n[0]\n",
    "            total_count += len(tf.y)\n",
    "            t_c += loss_c[1]\n",
    "            t_n += loss_n[1]\n",
    "            t.set_postfix(loss=f'{loss_accum/total_count:.4f}', loss_c = f'{loss_c_accum/t_c:.4f}', loss_n = f'{loss_n_accum/t_n:.4f}')\n",
    "            del pred\n",
    "            del tf\n",
    "        wandb.log({\"train_loss\": loss_accum/total_count, \"train_loss_c\": loss_c_accum/t_c, \"train_loss_n\": loss_n_accum/t_n})\n",
    "    return ((loss_c_accum/t_c) * (num_categorical/num_columns)) + ((loss_n_accum/t_n) * (num_numerical/num_columns))\n",
    "\n",
    "@torch.no_grad()\n",
    "def test(loader: DataLoader, dataset_name) -> float:\n",
    "    model.eval()\n",
    "    accum_acc = accum_l2 = 0\n",
    "    loss_c_accum = loss_n_accum = 0\n",
    "    t_n = t_c = 0\n",
    "    with tqdm(loader, desc=f'Evaluating') as t:\n",
    "        for tf in t:\n",
    "            tf = tf.to(device)\n",
    "            pred = model(tf)\n",
    "            _, loss_c, loss_n = calc_loss(pred, tf.y)\n",
    "            loss_c_accum += loss_c[0]\n",
    "            loss_n_accum += loss_n[0]\n",
    "            t_c += loss_c[1]\n",
    "            t_n += loss_n[1]\n",
    "            for i, ans in enumerate(tf.y):\n",
    "                # ans --> [val, idx]\n",
    "                # pred --> feature_type_num X type_num X batch_size\n",
    "                if ans[1] > (num_numerical-1):\n",
    "                    accum_acc += (pred[1][int(ans[1])-num_numerical][i].argmax() == int(ans[0]))\n",
    "                else:\n",
    "                    accum_l2 += torch.square(ans[0] - pred[0][i][int(ans[1])]) #rmse\n",
    "            \n",
    "            t.set_postfix(accuracy=f'{accum_acc/t_c:.4f}', rmse=f'{torch.sqrt(accum_l2/t_n):.4f}', loss=f'{(loss_c_accum/t_c) + (loss_n_accum/t_n):.4f}', loss_c = f'{loss_c_accum/t_c:.4f}', loss_n = f'{loss_n_accum/t_n:.4f}')\n",
    "        wandb.log({f\"{dataset_name}_accuracy\": accum_acc/t_c, f\"{dataset_name}_rmse\": torch.sqrt(accum_l2/t_n), f\"{dataset_name}_loss\": ((loss_c_accum/t_c) * (num_categorical/num_columns)) + ((loss_n_accum/t_n) * (num_numerical/num_columns)), f\"{dataset_name}_loss_c\": loss_c_accum/t_c, f\"{dataset_name}_loss_n\": loss_n_accum/t_n})\n",
    "        del tf\n",
    "        del pred\n",
    "        accuracy = accum_acc / t_c\n",
    "        rmse = torch.sqrt(accum_l2 / t_n)\n",
    "        return [rmse, accuracy]"
   ]
  },
  {
   "cell_type": "code",
   "execution_count": 11,
   "metadata": {},
   "outputs": [
    {
     "name": "stderr",
     "output_type": "stream",
     "text": [
      "Epoch 1:   0%|                                                                                                                                                                                                            | 0/3173 [00:00<?, ?it/s]"
     ]
    },
    {
     "name": "stderr",
     "output_type": "stream",
     "text": [
      "Epoch 1: 100%|██████████████████████████████████████████████████████████████████████████████████████████████████████████████████████████████████████████████████████| 3173/3173 [08:36<00:00,  6.14it/s, loss=0.7497, loss_c=0.5488, loss_n=0.0141]\n",
      "Evaluating: 100%|█████████████████████████████████████████████████████████████████████████████████████████████████████████████████████| 3173/3173 [04:19<00:00, 12.23it/s, accuracy=0.8090, loss=0.4779, loss_c=0.4665, loss_n=0.0113, rmse=0.1064]\n",
      "Evaluating: 100%|███████████████████████████████████████████████████████████████████████████████████████████████████████████████████████| 943/943 [01:16<00:00, 12.37it/s, accuracy=0.8025, loss=0.4915, loss_c=0.4827, loss_n=0.0087, rmse=0.0935]\n",
      "ic| train_loss: tensor(0.4300, device='cuda:0', grad_fn=<AddBackward0>)\n",
      "    train_metric: [tensor(0.1064, device='cuda:0'), tensor(0.8090, device='cuda:0')]\n",
      "    val_metric: [tensor(0.0935, device='cuda:0'), tensor(0.8025, device='cuda:0')]\n",
      "Epoch 2: 100%|██████████████████████████████████████████████████████████████████████████████████████████████████████████████████████████████████████████████████████| 3173/3173 [08:26<00:00,  6.26it/s, loss=0.6830, loss_c=0.4515, loss_n=0.0115]\n",
      "Evaluating: 100%|█████████████████████████████████████████████████████████████████████████████████████████████████████████████████████| 3173/3173 [04:16<00:00, 12.37it/s, accuracy=0.8308, loss=0.4249, loss_c=0.4135, loss_n=0.0114, rmse=0.1065]\n",
      "Evaluating: 100%|███████████████████████████████████████████████████████████████████████████████████████████████████████████████████████| 943/943 [01:15<00:00, 12.52it/s, accuracy=0.8077, loss=0.4655, loss_c=0.4566, loss_n=0.0089, rmse=0.0942]\n",
      "ic| train_loss: tensor(0.3537, device='cuda:0', grad_fn=<AddBackward0>)\n",
      "    train_metric: [tensor(0.1065, device='cuda:0'), tensor(0.8308, device='cuda:0')]\n",
      "    val_metric: [tensor(0.0942, device='cuda:0'), tensor(0.8077, device='cuda:0')]\n",
      "Epoch 3: 100%|██████████████████████████████████████████████████████████████████████████████████████████████████████████████████████████████████████████████████████| 3173/3173 [08:34<00:00,  6.17it/s, loss=0.6581, loss_c=0.4188, loss_n=0.0114]\n",
      "Evaluating: 100%|█████████████████████████████████████████████████████████████████████████████████████████████████████████████████████| 3173/3173 [04:17<00:00, 12.30it/s, accuracy=0.8366, loss=0.4065, loss_c=0.3953, loss_n=0.0112, rmse=0.1060]\n",
      "Evaluating: 100%|███████████████████████████████████████████████████████████████████████████████████████████████████████████████████████| 943/943 [01:16<00:00, 12.40it/s, accuracy=0.8103, loss=0.4614, loss_c=0.4528, loss_n=0.0087, rmse=0.0930]\n",
      "ic| train_loss: tensor(0.3283, device='cuda:0', grad_fn=<AddBackward0>)\n",
      "    train_metric: [tensor(0.1060, device='cuda:0'), tensor(0.8366, device='cuda:0')]\n",
      "    val_metric: [tensor(0.0930, device='cuda:0'), tensor(0.8103, device='cuda:0')]\n",
      "Epoch 4: 100%|██████████████████████████████████████████████████████████████████████████████████████████████████████████████████████████████████████████████████████| 3173/3173 [08:20<00:00,  6.33it/s, loss=0.6456, loss_c=0.4028, loss_n=0.0114]\n",
      "Evaluating: 100%|█████████████████████████████████████████████████████████████████████████████████████████████████████████████████████| 3173/3173 [04:19<00:00, 12.24it/s, accuracy=0.8387, loss=0.3957, loss_c=0.3841, loss_n=0.0116, rmse=0.1076]\n",
      "Evaluating: 100%|███████████████████████████████████████████████████████████████████████████████████████████████████████████████████████| 943/943 [01:16<00:00, 12.36it/s, accuracy=0.8124, loss=0.4549, loss_c=0.4457, loss_n=0.0092, rmse=0.0958]\n",
      "ic| train_loss: tensor(0.3158, device='cuda:0', grad_fn=<AddBackward0>)\n",
      "    train_metric: [tensor(0.1076, device='cuda:0'), tensor(0.8387, device='cuda:0')]\n",
      "    val_metric: [tensor(0.0958, device='cuda:0'), tensor(0.8124, device='cuda:0')]\n",
      "Epoch 5: 100%|██████████████████████████████████████████████████████████████████████████████████████████████████████████████████████████████████████████████████████| 3173/3173 [08:24<00:00,  6.29it/s, loss=0.6367, loss_c=0.3918, loss_n=0.0113]\n",
      "Evaluating: 100%|█████████████████████████████████████████████████████████████████████████████████████████████████████████████████████| 3173/3173 [04:30<00:00, 11.74it/s, accuracy=0.8401, loss=0.3848, loss_c=0.3734, loss_n=0.0113, rmse=0.1063]\n",
      "Evaluating: 100%|███████████████████████████████████████████████████████████████████████████████████████████████████████████████████████| 943/943 [01:19<00:00, 11.84it/s, accuracy=0.8128, loss=0.4543, loss_c=0.4454, loss_n=0.0089, rmse=0.0945]\n",
      "ic| train_loss: tensor(0.3072, device='cuda:0', grad_fn=<AddBackward0>)\n",
      "    train_metric: [tensor(0.1063, device='cuda:0'), tensor(0.8401, device='cuda:0')]\n",
      "    val_metric: [tensor(0.0945, device='cuda:0'), tensor(0.8128, device='cuda:0')]\n",
      "Epoch 6: 100%|██████████████████████████████████████████████████████████████████████████████████████████████████████████████████████████████████████████████████████| 3173/3173 [08:23<00:00,  6.30it/s, loss=0.6264, loss_c=0.3791, loss_n=0.0111]\n",
      "Evaluating: 100%|█████████████████████████████████████████████████████████████████████████████████████████████████████████████████████| 3173/3173 [04:27<00:00, 11.88it/s, accuracy=0.8465, loss=0.3652, loss_c=0.3541, loss_n=0.0111, rmse=0.1052]\n",
      "Evaluating: 100%|███████████████████████████████████████████████████████████████████████████████████████████████████████████████████████| 943/943 [01:19<00:00, 11.79it/s, accuracy=0.8135, loss=0.4488, loss_c=0.4399, loss_n=0.0088, rmse=0.0940]\n",
      "ic| train_loss: tensor(0.2973, device='cuda:0', grad_fn=<AddBackward0>)\n",
      "    train_metric: [tensor(0.1052, device='cuda:0'), tensor(0.8465, device='cuda:0')]\n",
      "    val_metric: [tensor(0.0940, device='cuda:0'), tensor(0.8135, device='cuda:0')]\n",
      "Epoch 7: 100%|██████████████████████████████████████████████████████████████████████████████████████████████████████████████████████████████████████████████████████| 3173/3173 [08:39<00:00,  6.11it/s, loss=0.6121, loss_c=0.3619, loss_n=0.0110]\n",
      "Evaluating: 100%|█████████████████████████████████████████████████████████████████████████████████████████████████████████████████████| 3173/3173 [04:27<00:00, 11.86it/s, accuracy=0.8589, loss=0.3403, loss_c=0.3293, loss_n=0.0110, rmse=0.1047]\n",
      "Evaluating: 100%|███████████████████████████████████████████████████████████████████████████████████████████████████████████████████████| 943/943 [01:18<00:00, 11.95it/s, accuracy=0.8125, loss=0.4472, loss_c=0.4383, loss_n=0.0088, rmse=0.0940]\n",
      "ic| train_loss: tensor(0.2839, device='cuda:0', grad_fn=<AddBackward0>)\n",
      "    train_metric: [tensor(0.1047, device='cuda:0'), tensor(0.8589, device='cuda:0')]\n",
      "    val_metric: [tensor(0.0940, device='cuda:0'), tensor(0.8125, device='cuda:0')]\n",
      "Epoch 8: 100%|██████████████████████████████████████████████████████████████████████████████████████████████████████████████████████████████████████████████████████| 3173/3173 [08:25<00:00,  6.28it/s, loss=0.5948, loss_c=0.3416, loss_n=0.0108]\n",
      "Evaluating: 100%|█████████████████████████████████████████████████████████████████████████████████████████████████████████████████████| 3173/3173 [04:27<00:00, 11.87it/s, accuracy=0.8685, loss=0.3162, loss_c=0.3058, loss_n=0.0104, rmse=0.1021]\n",
      "Evaluating: 100%|███████████████████████████████████████████████████████████████████████████████████████████████████████████████████████| 943/943 [01:17<00:00, 12.13it/s, accuracy=0.8145, loss=0.4428, loss_c=0.4346, loss_n=0.0082, rmse=0.0903]\n",
      "ic| train_loss: tensor(0.2681, device='cuda:0', grad_fn=<AddBackward0>)\n",
      "    train_metric: [tensor(0.1021, device='cuda:0'), tensor(0.8685, device='cuda:0')]\n",
      "    val_metric: [tensor(0.0903, device='cuda:0'), tensor(0.8145, device='cuda:0')]\n",
      "Epoch 9: 100%|██████████████████████████████████████████████████████████████████████████████████████████████████████████████████████████████████████████████████████| 3173/3173 [08:26<00:00,  6.26it/s, loss=0.5762, loss_c=0.3206, loss_n=0.0105]\n",
      "Evaluating: 100%|█████████████████████████████████████████████████████████████████████████████████████████████████████████████████████| 3173/3173 [04:27<00:00, 11.86it/s, accuracy=0.8765, loss=0.2975, loss_c=0.2872, loss_n=0.0102, rmse=0.1011]\n",
      "Evaluating: 100%|███████████████████████████████████████████████████████████████████████████████████████████████████████████████████████| 943/943 [01:18<00:00, 12.04it/s, accuracy=0.8133, loss=0.4488, loss_c=0.4407, loss_n=0.0081, rmse=0.0900]\n",
      "ic| train_loss: tensor(0.2517, device='cuda:0', grad_fn=<AddBackward0>)\n",
      "    train_metric: [tensor(0.1011, device='cuda:0'), tensor(0.8765, device='cuda:0')]\n",
      "    val_metric: [tensor(0.0900, device='cuda:0'), tensor(0.8133, device='cuda:0')]\n",
      "Epoch 10: 100%|█████████████████████████████████████████████████████████████████████████████████████████████████████████████████████████████████████████████████████| 3173/3173 [08:33<00:00,  6.17it/s, loss=0.5584, loss_c=0.3010, loss_n=0.0103]\n",
      "Evaluating: 100%|█████████████████████████████████████████████████████████████████████████████████████████████████████████████████████| 3173/3173 [04:24<00:00, 12.00it/s, accuracy=0.8895, loss=0.2701, loss_c=0.2603, loss_n=0.0098, rmse=0.0990]\n",
      "Evaluating: 100%|███████████████████████████████████████████████████████████████████████████████████████████████████████████████████████| 943/943 [01:18<00:00, 12.02it/s, accuracy=0.8152, loss=0.4473, loss_c=0.4395, loss_n=0.0078, rmse=0.0883]\n",
      "ic| train_loss: tensor(0.2364, device='cuda:0', grad_fn=<AddBackward0>)\n",
      "    train_metric: [tensor(0.0990, device='cuda:0'), tensor(0.8895, device='cuda:0')]\n",
      "    val_metric: [tensor(0.0883, device='cuda:0'), tensor(0.8152, device='cuda:0')]\n",
      "Epoch 11: 100%|█████████████████████████████████████████████████████████████████████████████████████████████████████████████████████████████████████████████████████| 3173/3173 [08:27<00:00,  6.26it/s, loss=0.5419, loss_c=0.2835, loss_n=0.0100]\n",
      "Evaluating: 100%|█████████████████████████████████████████████████████████████████████████████████████████████████████████████████████| 3173/3173 [04:25<00:00, 11.96it/s, accuracy=0.8932, loss=0.2609, loss_c=0.2512, loss_n=0.0097, rmse=0.0983]\n",
      "Evaluating: 100%|███████████████████████████████████████████████████████████████████████████████████████████████████████████████████████| 943/943 [01:18<00:00, 11.98it/s, accuracy=0.8145, loss=0.4487, loss_c=0.4407, loss_n=0.0080, rmse=0.0893]\n",
      "ic| train_loss: tensor(0.2227, device='cuda:0', grad_fn=<AddBackward0>)\n",
      "    train_metric: [tensor(0.0983, device='cuda:0'), tensor(0.8932, device='cuda:0')]\n",
      "    val_metric: [tensor(0.0893, device='cuda:0'), tensor(0.8145, device='cuda:0')]\n",
      "Epoch 12: 100%|█████████████████████████████████████████████████████████████████████████████████████████████████████████████████████████████████████████████████████| 3173/3173 [08:29<00:00,  6.23it/s, loss=0.5275, loss_c=0.2686, loss_n=0.0097]\n",
      "Evaluating: 100%|█████████████████████████████████████████████████████████████████████████████████████████████████████████████████████| 3173/3173 [04:31<00:00, 11.68it/s, accuracy=0.9010, loss=0.2413, loss_c=0.2321, loss_n=0.0092, rmse=0.0960]\n",
      "Evaluating: 100%|███████████████████████████████████████████████████████████████████████████████████████████████████████████████████████| 943/943 [01:20<00:00, 11.78it/s, accuracy=0.8162, loss=0.4608, loss_c=0.4530, loss_n=0.0078, rmse=0.0881]\n",
      "ic| train_loss: tensor(0.2111, device='cuda:0', grad_fn=<AddBackward0>)\n",
      "    train_metric: [tensor(0.0960, device='cuda:0'), tensor(0.9010, device='cuda:0')]\n",
      "    val_metric: [tensor(0.0881, device='cuda:0'), tensor(0.8162, device='cuda:0')]\n",
      "Epoch 13: 100%|█████████████████████████████████████████████████████████████████████████████████████████████████████████████████████████████████████████████████████| 3173/3173 [08:38<00:00,  6.11it/s, loss=0.5151, loss_c=0.2563, loss_n=0.0094]\n",
      "Evaluating: 100%|█████████████████████████████████████████████████████████████████████████████████████████████████████████████████████| 3173/3173 [04:34<00:00, 11.56it/s, accuracy=0.9063, loss=0.2276, loss_c=0.2188, loss_n=0.0088, rmse=0.0939]\n",
      "Evaluating: 100%|███████████████████████████████████████████████████████████████████████████████████████████████████████████████████████| 943/943 [01:20<00:00, 11.68it/s, accuracy=0.8161, loss=0.4668, loss_c=0.4593, loss_n=0.0075, rmse=0.0865]\n",
      "ic| train_loss: tensor(0.2014, device='cuda:0', grad_fn=<AddBackward0>)\n",
      "    train_metric: [tensor(0.0939, device='cuda:0'), tensor(0.9063, device='cuda:0')]\n",
      "    val_metric: [tensor(0.0865, device='cuda:0'), tensor(0.8161, device='cuda:0')]\n",
      "Epoch 14: 100%|█████████████████████████████████████████████████████████████████████████████████████████████████████████████████████████████████████████████████████| 3173/3173 [08:29<00:00,  6.23it/s, loss=0.5037, loss_c=0.2452, loss_n=0.0091]\n",
      "Evaluating: 100%|█████████████████████████████████████████████████████████████████████████████████████████████████████████████████████| 3173/3173 [04:27<00:00, 11.87it/s, accuracy=0.9078, loss=0.2215, loss_c=0.2130, loss_n=0.0085, rmse=0.0922]\n",
      "Evaluating: 100%|███████████████████████████████████████████████████████████████████████████████████████████████████████████████████████| 943/943 [01:17<00:00, 12.23it/s, accuracy=0.8176, loss=0.4701, loss_c=0.4628, loss_n=0.0073, rmse=0.0857]\n",
      "ic| train_loss: tensor(0.1928, device='cuda:0', grad_fn=<AddBackward0>)\n",
      "    train_metric: [tensor(0.0922, device='cuda:0'), tensor(0.9078, device='cuda:0')]\n",
      "    val_metric: [tensor(0.0857, device='cuda:0'), tensor(0.8176, device='cuda:0')]\n",
      "Epoch 15: 100%|█████████████████████████████████████████████████████████████████████████████████████████████████████████████████████████████████████████████████████| 3173/3173 [08:24<00:00,  6.29it/s, loss=0.4936, loss_c=0.2357, loss_n=0.0088]\n",
      "Evaluating: 100%|█████████████████████████████████████████████████████████████████████████████████████████████████████████████████████| 3173/3173 [04:24<00:00, 11.98it/s, accuracy=0.9125, loss=0.2093, loss_c=0.2011, loss_n=0.0081, rmse=0.0901]\n",
      "Evaluating: 100%|███████████████████████████████████████████████████████████████████████████████████████████████████████████████████████| 943/943 [01:18<00:00, 12.00it/s, accuracy=0.8165, loss=0.4907, loss_c=0.4837, loss_n=0.0070, rmse=0.0834]\n",
      "ic| train_loss: tensor(0.1853, device='cuda:0', grad_fn=<AddBackward0>)\n",
      "    train_metric: [tensor(0.0901, device='cuda:0'), tensor(0.9125, device='cuda:0')]\n",
      "    val_metric: [tensor(0.0834, device='cuda:0'), tensor(0.8165, device='cuda:0')]\n",
      "Epoch 16: 100%|█████████████████████████████████████████████████████████████████████████████████████████████████████████████████████████████████████████████████████| 3173/3173 [08:24<00:00,  6.29it/s, loss=0.4844, loss_c=0.2272, loss_n=0.0085]\n",
      "Evaluating: 100%|█████████████████████████████████████████████████████████████████████████████████████████████████████████████████████| 3173/3173 [04:23<00:00, 12.04it/s, accuracy=0.9136, loss=0.2053, loss_c=0.1975, loss_n=0.0078, rmse=0.0882]\n",
      "Evaluating: 100%|███████████████████████████████████████████████████████████████████████████████████████████████████████████████████████| 943/943 [01:18<00:00, 11.94it/s, accuracy=0.8174, loss=0.4873, loss_c=0.4805, loss_n=0.0068, rmse=0.0822]\n",
      "ic| train_loss: tensor(0.1786, device='cuda:0', grad_fn=<AddBackward0>)\n",
      "    train_metric: [tensor(0.0882, device='cuda:0'), tensor(0.9136, device='cuda:0')]\n",
      "    val_metric: [tensor(0.0822, device='cuda:0'), tensor(0.8174, device='cuda:0')]\n",
      "Epoch 17: 100%|█████████████████████████████████████████████████████████████████████████████████████████████████████████████████████████████████████████████████████| 3173/3173 [08:24<00:00,  6.30it/s, loss=0.4767, loss_c=0.2202, loss_n=0.0082]\n",
      "Evaluating: 100%|█████████████████████████████████████████████████████████████████████████████████████████████████████████████████████| 3173/3173 [04:27<00:00, 11.85it/s, accuracy=0.9158, loss=0.1967, loss_c=0.1892, loss_n=0.0074, rmse=0.0863]\n",
      "Evaluating: 100%|███████████████████████████████████████████████████████████████████████████████████████████████████████████████████████| 943/943 [01:18<00:00, 12.07it/s, accuracy=0.8171, loss=0.5091, loss_c=0.5024, loss_n=0.0067, rmse=0.0816]\n",
      "ic| train_loss: tensor(0.1731, device='cuda:0', grad_fn=<AddBackward0>)\n",
      "    train_metric: [tensor(0.0863, device='cuda:0'), tensor(0.9158, device='cuda:0')]\n",
      "    val_metric: [tensor(0.0816, device='cuda:0'), tensor(0.8171, device='cuda:0')]\n",
      "Epoch 18: 100%|█████████████████████████████████████████████████████████████████████████████████████████████████████████████████████████████████████████████████████| 3173/3173 [08:27<00:00,  6.26it/s, loss=0.4693, loss_c=0.2136, loss_n=0.0079]\n",
      "Evaluating: 100%|█████████████████████████████████████████████████████████████████████████████████████████████████████████████████████| 3173/3173 [04:32<00:00, 11.64it/s, accuracy=0.9167, loss=0.1910, loss_c=0.1839, loss_n=0.0071, rmse=0.0842]\n",
      "Evaluating: 100%|███████████████████████████████████████████████████████████████████████████████████████████████████████████████████████| 943/943 [01:20<00:00, 11.70it/s, accuracy=0.8182, loss=0.5095, loss_c=0.5030, loss_n=0.0065, rmse=0.0806]\n",
      "ic| train_loss: tensor(0.1679, device='cuda:0', grad_fn=<AddBackward0>)\n",
      "    train_metric: [tensor(0.0842, device='cuda:0'), tensor(0.9167, device='cuda:0')]\n",
      "    val_metric: [tensor(0.0806, device='cuda:0'), tensor(0.8182, device='cuda:0')]\n",
      "Epoch 19: 100%|█████████████████████████████████████████████████████████████████████████████████████████████████████████████████████████████████████████████████████| 3173/3173 [08:33<00:00,  6.18it/s, loss=0.4630, loss_c=0.2080, loss_n=0.0076]\n",
      "Evaluating: 100%|█████████████████████████████████████████████████████████████████████████████████████████████████████████████████████| 3173/3173 [04:27<00:00, 11.88it/s, accuracy=0.9180, loss=0.1863, loss_c=0.1794, loss_n=0.0069, rmse=0.0831]\n",
      "Evaluating: 100%|███████████████████████████████████████████████████████████████████████████████████████████████████████████████████████| 943/943 [01:17<00:00, 12.15it/s, accuracy=0.8184, loss=0.5287, loss_c=0.5222, loss_n=0.0064, rmse=0.0801]\n",
      "ic| train_loss: tensor(0.1635, device='cuda:0', grad_fn=<AddBackward0>)\n",
      "    train_metric: [tensor(0.0831, device='cuda:0'), tensor(0.9180, device='cuda:0')]\n",
      "    val_metric: [tensor(0.0801, device='cuda:0'), tensor(0.8184, device='cuda:0')]\n",
      "Epoch 20: 100%|█████████████████████████████████████████████████████████████████████████████████████████████████████████████████████████████████████████████████████| 3173/3173 [08:37<00:00,  6.13it/s, loss=0.4571, loss_c=0.2030, loss_n=0.0073]\n",
      "Evaluating: 100%|█████████████████████████████████████████████████████████████████████████████████████████████████████████████████████| 3173/3173 [04:27<00:00, 11.85it/s, accuracy=0.9178, loss=0.1830, loss_c=0.1765, loss_n=0.0066, rmse=0.0809]\n",
      "Evaluating: 100%|███████████████████████████████████████████████████████████████████████████████████████████████████████████████████████| 943/943 [01:19<00:00, 11.94it/s, accuracy=0.8186, loss=0.5418, loss_c=0.5356, loss_n=0.0061, rmse=0.0783]\n",
      "ic| train_loss: tensor(0.1595, device='cuda:0', grad_fn=<AddBackward0>)\n",
      "    train_metric: [tensor(0.0809, device='cuda:0'), tensor(0.9178, device='cuda:0')]\n",
      "    val_metric: [tensor(0.0783, device='cuda:0'), tensor(0.8186, device='cuda:0')]\n"
     ]
    }
   ],
   "source": [
    "for epoch in range(1, epochs + 1):\n",
    "    train_loss = train(epoch)\n",
    "    train_metric = test(train_loader, \"train\")\n",
    "    val_metric = test(val_loader, \"val\")\n",
    "    #test_metric = test(test_loader, \"test\")\n",
    "    ic(\n",
    "        train_loss, \n",
    "        train_metric, \n",
    "        val_metric, \n",
    "        #test_metric\n",
    "    )"
   ]
  },
  {
   "cell_type": "code",
   "execution_count": 12,
   "metadata": {},
   "outputs": [
    {
     "data": {
      "application/vnd.jupyter.widget-view+json": {
       "model_id": "15bc671385ec4fabb07963941b16a3fc",
       "version_major": 2,
       "version_minor": 0
      },
      "text/plain": [
       "VBox(children=(Label(value='0.004 MB of 0.004 MB uploaded\\r'), FloatProgress(value=1.0, max=1.0)))"
      ]
     },
     "metadata": {},
     "output_type": "display_data"
    },
    {
     "data": {
      "text/html": [
       "<style>\n",
       "    table.wandb td:nth-child(1) { padding: 0 10px; text-align: left ; width: auto;} td:nth-child(2) {text-align: left ; width: 100%}\n",
       "    .wandb-row { display: flex; flex-direction: row; flex-wrap: wrap; justify-content: flex-start; width: 100% }\n",
       "    .wandb-col { display: flex; flex-direction: column; flex-basis: 100%; flex: 1; padding: 10px; }\n",
       "    </style>\n",
       "<div class=\"wandb-row\"><div class=\"wandb-col\"><h3>Run history:</h3><br/><table class=\"wandb\"><tr><td>learnable_params</td><td>▁</td></tr><tr><td>test_loader size</td><td>▁</td></tr><tr><td>train_accuracy</td><td>▁▂▃▃▃▃▄▅▅▆▆▇▇▇██████</td></tr><tr><td>train_loader size</td><td>▁</td></tr><tr><td>train_loss</td><td>█▄▇▃▇▃▇▃▇▃▇▃▆▂▆▂▆▂▆▂▆▂▅▂▅▁▅▁▅▁▅▁▅▁▅▁▅▁▅▁</td></tr><tr><td>train_loss_c</td><td>█▆▆▅▆▅▅▅▅▅▅▄▄▄▄▃▄▃▃▃▃▂▃▂▃▂▂▂▂▁▂▁▂▁▂▁▂▁▁▁</td></tr><tr><td>train_loss_n</td><td>█▅▆▅▆▅▅▆▅▅▅▅▅▅▅▅▅▄▄▄▄▄▄▃▄▃▃▃▃▂▃▂▃▂▂▂▂▁▂▁</td></tr><tr><td>train_rmse</td><td>█████▇▇▇▆▆▆▅▄▄▃▃▂▂▂▁</td></tr><tr><td>val_accuracy</td><td>▁▃▄▅▅▆▅▆▆▇▆▇▇█▇▇▇███</td></tr><tr><td>val_loader size</td><td>▁</td></tr><tr><td>val_loss</td><td>▄▃▂▂▂▁▁▁▁▁▁▂▃▃▄▄▆▆▇█</td></tr><tr><td>val_loss_c</td><td>▄▃▂▂▂▁▁▁▁▁▁▂▃▃▄▄▆▆▇█</td></tr><tr><td>val_loss_n</td><td>▇▇▇█▇▇▇▆▆▅▅▅▄▄▃▂▂▂▂▁</td></tr><tr><td>val_rmse</td><td>▇▇▇█▇▇▇▆▆▅▅▅▄▄▃▃▂▂▂▁</td></tr></table><br/></div><div class=\"wandb-col\"><h3>Run summary:</h3><br/><table class=\"wandb\"><tr><td>device</td><td>cuda</td></tr><tr><td>learnable_params</td><td>496110191</td></tr><tr><td>test_loader size</td><td>844</td></tr><tr><td>train_accuracy</td><td>0.91782</td></tr><tr><td>train_loader size</td><td>3173</td></tr><tr><td>train_loss</td><td>0.1387</td></tr><tr><td>train_loss_c</td><td>0.17645</td></tr><tr><td>train_loss_n</td><td>0.00655</td></tr><tr><td>train_rmse</td><td>0.08091</td></tr><tr><td>val_accuracy</td><td>0.8186</td></tr><tr><td>val_loader size</td><td>943</td></tr><tr><td>val_loss</td><td>0.41797</td></tr><tr><td>val_loss_c</td><td>0.53564</td></tr><tr><td>val_loss_n</td><td>0.00612</td></tr><tr><td>val_rmse</td><td>0.07826</td></tr></table><br/></div></div>"
      ],
      "text/plain": [
       "<IPython.core.display.HTML object>"
      ]
     },
     "metadata": {},
     "output_type": "display_data"
    },
    {
     "data": {
      "text/html": [
       " View run <strong style=\"color:#cdcd00\">model=fttransformer,dataset=IBM-AML_Hi_Sm,loss=weighted_loss</strong> at: <a href='https://wandb.ai/aakyildiz/rel-mm/runs/c88plmtt' target=\"_blank\">https://wandb.ai/aakyildiz/rel-mm/runs/c88plmtt</a><br/> View project at: <a href='https://wandb.ai/aakyildiz/rel-mm' target=\"_blank\">https://wandb.ai/aakyildiz/rel-mm</a><br/>Synced 6 W&B file(s), 0 media file(s), 0 artifact file(s) and 0 other file(s)"
      ],
      "text/plain": [
       "<IPython.core.display.HTML object>"
      ]
     },
     "metadata": {},
     "output_type": "display_data"
    },
    {
     "data": {
      "text/html": [
       "Find logs at: <code>./wandb/run-20240414_202600-c88plmtt/logs</code>"
      ],
      "text/plain": [
       "<IPython.core.display.HTML object>"
      ]
     },
     "metadata": {},
     "output_type": "display_data"
    }
   ],
   "source": [
    "wandb.finish()"
   ]
  }
 ],
 "metadata": {
  "kernelspec": {
   "display_name": "Python 3 (ipykernel)",
   "language": "python",
   "name": "python3"
  }
 },
 "nbformat": 4,
 "nbformat_minor": 2
}
