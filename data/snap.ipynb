{
 "cells": [
  {
   "cell_type": "code",
   "execution_count": 1,
   "metadata": {},
   "outputs": [],
   "source": [
    "import json\n",
    "import pandas as pd"
   ]
  },
  {
   "cell_type": "code",
   "execution_count": 8,
   "metadata": {},
   "outputs": [],
   "source": [
    "edges = pd.read_csv('/mnt/data/git_web_ml/musae_git_edges.csv')\n",
    "features = json.loads(open('/mnt/data/git_web_ml/musae_git_features.json').read())\n",
    "targets = pd.read_csv('/mnt/data/git_web_ml/musae_git_target.csv')"
   ]
  },
  {
   "cell_type": "code",
   "execution_count": 2,
   "metadata": {},
   "outputs": [],
   "source": [
    "edges = pd.read_csv('/mnt/data/lastfm_asia/lastfm_asia_edges.csv')\n",
    "features = json.loads(open('/mnt/data/lastfm_asia/lastfm_asia_features.json').read())\n",
    "targets = pd.read_csv('/mnt/data/lastfm_asia/lastfm_asia_target.csv')"
   ]
  },
  {
   "cell_type": "code",
   "execution_count": 10,
   "metadata": {},
   "outputs": [],
   "source": [
    "edges = pd.read_csv('/mnt/data/facebook_large/musae_facebook_edges.csv')\n",
    "features = json.loads(open('/mnt/data/facebook_large/musae_facebook_features.json').read())\n",
    "targets = pd.read_csv('/mnt/data/facebook_large/musae_facebook_target.csv')"
   ]
  },
  {
   "cell_type": "code",
   "execution_count": 3,
   "metadata": {},
   "outputs": [
    {
     "name": "stderr",
     "output_type": "stream",
     "text": [
      "Downloading https://raw.githubusercontent.com/graphdml-uiuc-jlu/geom-gcn/f1fc0d14b3b019c562737240d06ec83b07d16a8f/new_data/squirrel/out1_node_feature_label.txt\n",
      "Downloading https://raw.githubusercontent.com/graphdml-uiuc-jlu/geom-gcn/f1fc0d14b3b019c562737240d06ec83b07d16a8f/new_data/squirrel/out1_graph_edges.txt\n",
      "Downloading https://raw.githubusercontent.com/graphdml-uiuc-jlu/geom-gcn/f1fc0d14b3b019c562737240d06ec83b07d16a8f/splits/squirrel_split_0.6_0.2_0.npz\n",
      "Downloading https://raw.githubusercontent.com/graphdml-uiuc-jlu/geom-gcn/f1fc0d14b3b019c562737240d06ec83b07d16a8f/splits/squirrel_split_0.6_0.2_1.npz\n",
      "Downloading https://raw.githubusercontent.com/graphdml-uiuc-jlu/geom-gcn/f1fc0d14b3b019c562737240d06ec83b07d16a8f/splits/squirrel_split_0.6_0.2_2.npz\n",
      "Downloading https://raw.githubusercontent.com/graphdml-uiuc-jlu/geom-gcn/f1fc0d14b3b019c562737240d06ec83b07d16a8f/splits/squirrel_split_0.6_0.2_3.npz\n",
      "Downloading https://raw.githubusercontent.com/graphdml-uiuc-jlu/geom-gcn/f1fc0d14b3b019c562737240d06ec83b07d16a8f/splits/squirrel_split_0.6_0.2_4.npz\n",
      "Downloading https://raw.githubusercontent.com/graphdml-uiuc-jlu/geom-gcn/f1fc0d14b3b019c562737240d06ec83b07d16a8f/splits/squirrel_split_0.6_0.2_5.npz\n",
      "Downloading https://raw.githubusercontent.com/graphdml-uiuc-jlu/geom-gcn/f1fc0d14b3b019c562737240d06ec83b07d16a8f/splits/squirrel_split_0.6_0.2_6.npz\n",
      "Downloading https://raw.githubusercontent.com/graphdml-uiuc-jlu/geom-gcn/f1fc0d14b3b019c562737240d06ec83b07d16a8f/splits/squirrel_split_0.6_0.2_7.npz\n",
      "Downloading https://raw.githubusercontent.com/graphdml-uiuc-jlu/geom-gcn/f1fc0d14b3b019c562737240d06ec83b07d16a8f/splits/squirrel_split_0.6_0.2_8.npz\n",
      "Downloading https://raw.githubusercontent.com/graphdml-uiuc-jlu/geom-gcn/f1fc0d14b3b019c562737240d06ec83b07d16a8f/splits/squirrel_split_0.6_0.2_9.npz\n",
      "Processing...\n",
      "Done!\n"
     ]
    }
   ],
   "source": [
    "edges = pd.read_csv('/mnt/data/wikipedia/squirrel/musae_squirrel_edges.csv')\n",
    "features = json.loads(open('/mnt/data/wikipedia/squirrel/musae_squirrel_features.json').read())\n",
    "targets = pd.read_csv('/mnt/data/wikipedia/squirrel/musae_squirrel_target.csv')\n",
    "import torch_geometric\n",
    "from torch_geometric.datasets import WikipediaNetwork\n",
    "\n",
    "dataset = WikipediaNetwork(root='/mnt/data/wikipedia/squirrel', name='squirrel', geom_gcn_preprocess=True)\n",
    "data = dataset[0]\n"
   ]
  },
  {
   "cell_type": "code",
   "execution_count": 2,
   "metadata": {},
   "outputs": [],
   "source": [
    "edges = pd.read_csv('/mnt/data/wikipedia/chameleon/musae_chameleon_edges.csv')\n",
    "features = json.loads(open('/mnt/data/wikipedia/chameleon/musae_chameleon_features.json').read())\n",
    "targets = pd.read_csv('/mnt/data/wikipedia/chameleon/musae_chameleon_target.csv')\n",
    "import torch_geometric\n",
    "from torch_geometric.datasets import WikipediaNetwork\n",
    "\n",
    "dataset = WikipediaNetwork(root='/mnt/data/wikipedia/chameleon', name='chameleon', geom_gcn_preprocess=True)\n",
    "data = dataset[0]"
   ]
  },
  {
   "cell_type": "code",
   "execution_count": 11,
   "metadata": {},
   "outputs": [
    {
     "name": "stdout",
     "output_type": "stream",
     "text": [
      "Data(x=[2277, 2325], edge_index=[2, 36101], y=[2277], train_mask=[2277, 10], val_mask=[2277, 10], test_mask=[2277, 10])\n",
      "tensor(0)\n",
      "tensor(3)\n",
      "tensor(3)\n"
     ]
    }
   ],
   "source": [
    "print(data)\n",
    "print(data.y[0])\n",
    "print(data.y[1])\n",
    "print(data.y[2])"
   ]
  },
  {
   "cell_type": "code",
   "execution_count": 12,
   "metadata": {},
   "outputs": [
    {
     "name": "stdout",
     "output_type": "stream",
     "text": [
      "   id_1   id_2\n",
      "0     0  18427\n",
      "1     1  21708\n",
      "2     1  22208\n",
      "3     1  22171\n",
      "4     1   6829\n",
      "171002\n",
      "22470\n"
     ]
    }
   ],
   "source": [
    "print(edges.head())\n",
    "print(len(edges))\n",
    "print(len(features))"
   ]
  },
  {
   "cell_type": "code",
   "execution_count": 13,
   "metadata": {},
   "outputs": [
    {
     "data": {
      "text/plain": [
       "8"
      ]
     },
     "execution_count": 13,
     "metadata": {},
     "output_type": "execute_result"
    }
   ],
   "source": [
    "features['0']\n",
    "len(features['0'])"
   ]
  },
  {
   "cell_type": "code",
   "execution_count": 14,
   "metadata": {},
   "outputs": [
    {
     "name": "stdout",
     "output_type": "stream",
     "text": [
      "31\n",
      "3\n",
      "14.000133511348464\n",
      "4714\n"
     ]
    }
   ],
   "source": [
    "max = 0\n",
    "min = 100000\n",
    "sum = 0\n",
    "uniq_features = set()\n",
    "for key in features.keys():\n",
    "    uniq_features.update(features[key])\n",
    "    if len(features[key]) > max:\n",
    "        max = len(features[key])\n",
    "    if len(features[key]) < min:\n",
    "        min = len(features[key])\n",
    "    sum += len(features[key])\n",
    "print(max)\n",
    "print(min)\n",
    "print(sum/len(features.keys()))\n",
    "print(len(uniq_features))"
   ]
  },
  {
   "cell_type": "code",
   "execution_count": 15,
   "metadata": {},
   "outputs": [
    {
     "data": {
      "text/plain": [
       "(array([1.000e+01, 0.000e+00, 0.000e+00, 1.320e+02, 0.000e+00, 0.000e+00,\n",
       "        0.000e+00, 7.860e+02, 0.000e+00, 0.000e+00, 2.134e+03, 0.000e+00,\n",
       "        0.000e+00, 0.000e+00, 3.483e+03, 0.000e+00, 0.000e+00, 3.351e+03,\n",
       "        0.000e+00, 0.000e+00, 0.000e+00, 2.126e+03, 0.000e+00, 0.000e+00,\n",
       "        0.000e+00, 9.460e+02, 0.000e+00, 0.000e+00, 3.600e+02, 0.000e+00,\n",
       "        0.000e+00, 0.000e+00, 1.170e+02, 0.000e+00, 0.000e+00, 3.600e+01,\n",
       "        0.000e+00, 0.000e+00, 0.000e+00, 1.500e+01, 0.000e+00, 0.000e+00,\n",
       "        2.000e+00, 0.000e+00, 0.000e+00, 0.000e+00, 0.000e+00, 0.000e+00,\n",
       "        0.000e+00, 0.000e+00, 0.000e+00, 0.000e+00, 0.000e+00, 0.000e+00,\n",
       "        0.000e+00, 0.000e+00, 0.000e+00, 3.000e+00, 0.000e+00, 0.000e+00,\n",
       "        1.170e+02, 0.000e+00, 0.000e+00, 0.000e+00, 5.230e+02, 0.000e+00,\n",
       "        0.000e+00, 1.467e+03, 0.000e+00, 0.000e+00, 0.000e+00, 2.337e+03,\n",
       "        0.000e+00, 0.000e+00, 2.324e+03, 0.000e+00, 0.000e+00, 0.000e+00,\n",
       "        1.359e+03, 0.000e+00, 0.000e+00, 0.000e+00, 5.630e+02, 0.000e+00,\n",
       "        0.000e+00, 2.020e+02, 0.000e+00, 0.000e+00, 0.000e+00, 5.000e+01,\n",
       "        0.000e+00, 0.000e+00, 2.300e+01, 0.000e+00, 0.000e+00, 0.000e+00,\n",
       "        3.000e+00, 0.000e+00, 0.000e+00, 1.000e+00]),\n",
       " array([ 3.  ,  3.28,  3.56,  3.84,  4.12,  4.4 ,  4.68,  4.96,  5.24,\n",
       "         5.52,  5.8 ,  6.08,  6.36,  6.64,  6.92,  7.2 ,  7.48,  7.76,\n",
       "         8.04,  8.32,  8.6 ,  8.88,  9.16,  9.44,  9.72, 10.  , 10.28,\n",
       "        10.56, 10.84, 11.12, 11.4 , 11.68, 11.96, 12.24, 12.52, 12.8 ,\n",
       "        13.08, 13.36, 13.64, 13.92, 14.2 , 14.48, 14.76, 15.04, 15.32,\n",
       "        15.6 , 15.88, 16.16, 16.44, 16.72, 17.  , 17.28, 17.56, 17.84,\n",
       "        18.12, 18.4 , 18.68, 18.96, 19.24, 19.52, 19.8 , 20.08, 20.36,\n",
       "        20.64, 20.92, 21.2 , 21.48, 21.76, 22.04, 22.32, 22.6 , 22.88,\n",
       "        23.16, 23.44, 23.72, 24.  , 24.28, 24.56, 24.84, 25.12, 25.4 ,\n",
       "        25.68, 25.96, 26.24, 26.52, 26.8 , 27.08, 27.36, 27.64, 27.92,\n",
       "        28.2 , 28.48, 28.76, 29.04, 29.32, 29.6 , 29.88, 30.16, 30.44,\n",
       "        30.72, 31.  ]),\n",
       " <BarContainer object of 100 artists>)"
      ]
     },
     "execution_count": 15,
     "metadata": {},
     "output_type": "execute_result"
    },
    {
     "data": {
      "image/png": "[encoded data removed]",
      "text/plain": [
       "<Figure size 640x480 with 1 Axes>"
      ]
     },
     "metadata": {},
     "output_type": "display_data"
    }
   ],
   "source": [
    "# histogram of number of features\n",
    "import matplotlib.pyplot as plt\n",
    "import numpy as np\n",
    "plt.hist([len(features[key]) for key in features.keys()], bins=100)"
   ]
  },
  {
   "cell_type": "code",
   "execution_count": 16,
   "metadata": {},
   "outputs": [
    {
     "name": "stdout",
     "output_type": "stream",
     "text": [
      "         0     1     2     3     4     5     6     7     8     9   ...    21  \\\n",
      "554    2835  4518  2198  2014  3818  3045  4570  4585  4596  4599  ...  4708   \n",
      "10772  3293  2534   979  2014  2317    -1    -1    -1    -1    -1  ...    -1   \n",
      "6350   4477  2895  4039  3282   765  2669    -1    -1    -1    -1  ...    -1   \n",
      "9218   3133  2052   979  3355   107  1878  1105  4571  4582  4593  ...  4704   \n",
      "7787   1151   631  2613  2791   648  1684  3818   107  1878  1105  ...  4670   \n",
      "\n",
      "         22    23    24    25  26  27  28  29  30  \n",
      "554      -1    -1    -1    -1  -1  -1  -1  -1  -1  \n",
      "10772    -1    -1    -1    -1  -1  -1  -1  -1  -1  \n",
      "6350     -1    -1    -1    -1  -1  -1  -1  -1  -1  \n",
      "9218   4713    -1    -1    -1  -1  -1  -1  -1  -1  \n",
      "7787   4678  4695  4696  4708  -1  -1  -1  -1  -1  \n",
      "\n",
      "[5 rows x 31 columns]\n"
     ]
    }
   ],
   "source": [
    "# padd missing features with -1 and make all features the same length\n",
    "max_len = 0\n",
    "for key in features.keys():\n",
    "    if len(features[key]) > max_len:\n",
    "        max_len = len(features[key])\n",
    "for key in features.keys():\n",
    "    features[key] = features[key] + [-1]*(max_len-len(features[key]))\n",
    "# convert features to pandas dataframe\n",
    "features = pd.DataFrame(features).T\n",
    "print(features.head())\n"
   ]
  },
  {
   "cell_type": "code",
   "execution_count": 17,
   "metadata": {},
   "outputs": [
    {
     "name": "stdout",
     "output_type": "stream",
     "text": [
      "   id       facebook_id                                     page_name  \\\n",
      "0   0   145647315578475                      The Voice of China 中国好声音   \n",
      "1   1      191483281412                 U.S. Consulate General Mumbai   \n",
      "2   2   144761358898518                                          ESET   \n",
      "3   3   568700043198473  Consulate General of Switzerland in Montreal   \n",
      "4   4  1408935539376139             Mark Bailey MP - Labor for Miller   \n",
      "\n",
      "    page_type  \n",
      "0      tvshow  \n",
      "1  government  \n",
      "2     company  \n",
      "3  government  \n",
      "4  politician  \n",
      "22470\n",
      "                id   facebook_id\n",
      "count  22470.00000  2.247000e+04\n",
      "mean   11234.50000  3.516802e+14\n",
      "std     6486.67461  4.931380e+14\n",
      "min        0.00000  5.298600e+09\n",
      "25%     5617.25000  1.137972e+14\n",
      "50%    11234.50000  1.957086e+14\n",
      "75%    16851.75000  4.277323e+14\n",
      "max    22469.00000  1.015016e+16\n"
     ]
    }
   ],
   "source": [
    "# targets[\"target\"] = data.y.numpy()\n",
    "print(targets.head())\n",
    "print(len(targets))\n",
    "print(targets.describe())"
   ]
  },
  {
   "cell_type": "code",
   "execution_count": 18,
   "metadata": {},
   "outputs": [
    {
     "name": "stdout",
     "output_type": "stream",
     "text": [
      "   id       facebook_id                                     page_name  \\\n",
      "0   0   145647315578475                      The Voice of China 中国好声音   \n",
      "1   1      191483281412                 U.S. Consulate General Mumbai   \n",
      "2   2   144761358898518                                          ESET   \n",
      "3   3   568700043198473  Consulate General of Switzerland in Montreal   \n",
      "4   4  1408935539376139             Mark Bailey MP - Labor for Miller   \n",
      "\n",
      "    page_type  \n",
      "0      tvshow  \n",
      "1  government  \n",
      "2     company  \n",
      "3  government  \n",
      "4  politician  \n",
      "22470\n",
      "                id   facebook_id\n",
      "count  22470.00000  2.247000e+04\n",
      "mean   11234.50000  3.516802e+14\n",
      "std     6486.67461  4.931380e+14\n",
      "min        0.00000  5.298600e+09\n",
      "25%     5617.25000  1.137972e+14\n",
      "50%    11234.50000  1.957086e+14\n",
      "75%    16851.75000  4.277323e+14\n",
      "max    22469.00000  1.015016e+16\n"
     ]
    }
   ],
   "source": [
    "print(targets.head())\n",
    "print(len(targets))\n",
    "print(targets.describe())"
   ]
  },
  {
   "cell_type": "code",
   "execution_count": 19,
   "metadata": {},
   "outputs": [],
   "source": [
    "targets['id'] = targets['id'].astype(int)"
   ]
  },
  {
   "cell_type": "code",
   "execution_count": 20,
   "metadata": {},
   "outputs": [
    {
     "name": "stdout",
     "output_type": "stream",
     "text": [
      "      0     1     2     3     4     5     6     7     8     9  ...    25  26  \\\n",
      "0  2835  4518  2198  2014  3818  3045  4570  4585  4596  4599  ...    -1  -1   \n",
      "1  3293  2534   979  2014  2317    -1    -1    -1    -1    -1  ...    -1  -1   \n",
      "2  4477  2895  4039  3282   765  2669    -1    -1    -1    -1  ...    -1  -1   \n",
      "3  3133  2052   979  3355   107  1878  1105  4571  4582  4593  ...    -1  -1   \n",
      "4  1151   631  2613  2791   648  1684  3818   107  1878  1105  ...  4708  -1   \n",
      "\n",
      "   27  28  29  30     id      facebook_id  \\\n",
      "0  -1  -1  -1  -1    554      10128918116   \n",
      "1  -1  -1  -1  -1  10772  128635927231300   \n",
      "2  -1  -1  -1  -1   6350  118450564909230   \n",
      "3  -1  -1  -1  -1   9218     102277867966   \n",
      "4  -1  -1  -1  -1   7787  118323191549671   \n",
      "\n",
      "                                        page_name   page_type  \n",
      "0                                    Gavin Newsom  politician  \n",
      "1                             Study in the States  government  \n",
      "2  BBC Look North (East Yorkshire & Lincolnshire)      tvshow  \n",
      "3                        Marion VA Medical Center  government  \n",
      "4                                     Greg Walden  politician  \n",
      "\n",
      "[5 rows x 35 columns]\n"
     ]
    }
   ],
   "source": [
    "# add an id column to features\n",
    "features['id'] = features.index\n",
    "features['id'] = features['id'].astype(int)\n",
    "targets = targets.sort_values(by='id')\n",
    "# merge by id\n",
    "data = pd.merge(features, targets, on='id')\n",
    "print(data.head())"
   ]
  },
  {
   "cell_type": "code",
   "execution_count": 23,
   "metadata": {},
   "outputs": [
    {
     "name": "stdout",
     "output_type": "stream",
     "text": [
      "      0     1     2     3     4     5     6     7     8     9  ...    23  \\\n",
      "0  2835  4518  2198  2014  3818  3045  4570  4585  4596  4599  ...    -1   \n",
      "1  3293  2534   979  2014  2317    -1    -1    -1    -1    -1  ...    -1   \n",
      "2  4477  2895  4039  3282   765  2669    -1    -1    -1    -1  ...    -1   \n",
      "3  3133  2052   979  3355   107  1878  1105  4571  4582  4593  ...    -1   \n",
      "4  1151   631  2613  2791   648  1684  3818   107  1878  1105  ...  4695   \n",
      "\n",
      "     24    25  26  27  28  29  30     id  page_type  \n",
      "0    -1    -1  -1  -1  -1  -1  -1    554          2  \n",
      "1    -1    -1  -1  -1  -1  -1  -1  10772          1  \n",
      "2    -1    -1  -1  -1  -1  -1  -1   6350          3  \n",
      "3    -1    -1  -1  -1  -1  -1  -1   9218          1  \n",
      "4  4696  4708  -1  -1  -1  -1  -1   7787          2  \n",
      "\n",
      "[5 rows x 33 columns]\n"
     ]
    }
   ],
   "source": [
    "# convert page type to numbers\n",
    "data['page_type'] = data['page_type'].astype('category')\n",
    "data['page_type'] = data['page_type'].cat.codes\n",
    "data = data.drop(columns=['facebook_id', 'page_name'])\n",
    "print(data.head())"
   ]
  },
  {
   "cell_type": "code",
   "execution_count": 24,
   "metadata": {},
   "outputs": [],
   "source": [
    "data.to_csv('/mnt/data/facebook_large/musae_facebook_nodes.csv', index=False)"
   ]
  },
  {
   "cell_type": "code",
   "execution_count": 12,
   "metadata": {},
   "outputs": [],
   "source": [
    "%load_ext autoreload\n",
    "%autoreload 2\n",
    "import sys\n",
    "sys.path.append('../')"
   ]
  },
  {
   "cell_type": "code",
   "execution_count": 13,
   "metadata": {},
   "outputs": [
    {
     "name": "stderr",
     "output_type": "stream",
     "text": [
      "2024-08-17 20:44:21 - INFO - Creating edges...\n",
      "2024-08-17 20:44:21 - INFO - Creating graph...\n",
      "2024-08-17 20:44:21 - INFO - Graph created in 0.14719605445861816 seconds.\n",
      "2024-08-17 20:44:22 - INFO - Edges created.\n",
      "2024-08-17 20:44:22 - INFO - Creating nodes...\n"
     ]
    },
    {
     "name": "stdout",
     "output_type": "stream",
     "text": [
      "No split column found. Using the same graph for train, val and test.\n",
      "                 0            1            2            3            4  \\\n",
      "count  7624.000000  7624.000000  7624.000000  7624.000000  7624.000000   \n",
      "mean   4270.893101  3952.739376  3864.688484  3682.460913  3569.478489   \n",
      "std    2369.347907  2248.933320  2250.826081  2264.462099  2286.956113   \n",
      "min      -1.000000    -1.000000    -1.000000    -1.000000    -1.000000   \n",
      "25%    2397.000000  2397.000000  2168.000000  1773.000000  1535.250000   \n",
      "50%    4546.000000  3900.000000  3900.000000  3633.000000  3389.000000   \n",
      "75%    6369.000000  5868.000000  5868.000000  5868.000000  5868.000000   \n",
      "max    7814.000000  7800.000000  7805.000000  7836.000000  7836.000000   \n",
      "\n",
      "                 5            6            7            8            9  ...  \\\n",
      "count  7624.000000  7624.000000  7624.000000  7624.000000  7624.000000  ...   \n",
      "mean   3527.613720  3494.537251  3492.966684  3584.788169  3661.041579  ...   \n",
      "std    2302.109556  2348.775761  2394.222680  2395.597082  2406.880090  ...   \n",
      "min      -1.000000    -1.000000    -1.000000    -1.000000    -1.000000  ...   \n",
      "25%    1437.750000  1435.000000  1435.000000  1437.000000  1441.000000  ...   \n",
      "50%    3389.000000  3389.000000  3389.000000  3389.000000  3395.000000  ...   \n",
      "75%    5868.000000  5870.000000  5875.000000  5875.000000  5875.000000  ...   \n",
      "max    7836.000000  7837.000000  7806.000000  7837.000000  7837.000000  ...   \n",
      "\n",
      "               936          937          938          939          940  \\\n",
      "count  7624.000000  7624.000000  7624.000000  7624.000000  7624.000000   \n",
      "mean     -0.033185    -0.620409    -0.096800    -0.620278    -0.598242   \n",
      "std      84.417982    33.144165    78.863414    33.155618    35.079674   \n",
      "min      -1.000000    -1.000000    -1.000000    -1.000000    -1.000000   \n",
      "25%      -1.000000    -1.000000    -1.000000    -1.000000    -1.000000   \n",
      "50%      -1.000000    -1.000000    -1.000000    -1.000000    -1.000000   \n",
      "75%      -1.000000    -1.000000    -1.000000    -1.000000    -1.000000   \n",
      "max    7370.000000  2893.000000  6885.000000  2894.000000  3062.000000   \n",
      "\n",
      "               941          942          943           id       target  \n",
      "count  7624.000000  7624.000000  7624.000000  7624.000000  7624.000000  \n",
      "mean     -0.033054    -0.619885    -0.444386  3811.500000     9.339979  \n",
      "std      84.429435    33.189976    48.513712  2201.003559     5.917230  \n",
      "min      -1.000000    -1.000000    -1.000000     0.000000     0.000000  \n",
      "25%      -1.000000    -1.000000    -1.000000  1905.750000     5.000000  \n",
      "50%      -1.000000    -1.000000    -1.000000  3811.500000    10.000000  \n",
      "75%      -1.000000    -1.000000    -1.000000  5717.250000    15.000000  \n",
      "max    7371.000000  2897.000000  4235.000000  7623.000000    17.000000  \n",
      "\n",
      "[8 rows x 946 columns]\n"
     ]
    },
    {
     "name": "stderr",
     "output_type": "stream",
     "text": [
      "2024-08-17 20:44:54 - INFO - Nodes created.\n"
     ]
    }
   ],
   "source": [
    "from src.datasets import LastFMAsia\n",
    "\n",
    "dataset = LastFMAsia(\n",
    "    root='/mnt/data/lastfm_asia/',\n",
    "    split_type='random', \n",
    ")"
   ]
  }
 ],
 "metadata": {
  "kernelspec": {
   "display_name": "rel-mm",
   "language": "python",
   "name": "python3"
  },
  "language_info": {
   "codemirror_mode": {
    "name": "ipython",
    "version": 3
   },
   "file_extension": ".py",
   "mimetype": "text/x-python",
   "name": "python",
   "nbconvert_exporter": "python",
   "pygments_lexer": "ipython3",
   "version": "3.10.14"
  }
 },
 "nbformat": 4,
 "nbformat_minor": 2
}
