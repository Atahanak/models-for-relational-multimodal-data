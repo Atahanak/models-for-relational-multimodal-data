{
 "cells": [
  {
   "cell_type": "code",
   "execution_count": 1,
   "metadata": {},
   "outputs": [],
   "source": [
    "%load_ext autoreload\n",
    "%autoreload 2\n",
    "import sys\n",
    "sys.path.append('../')\n",
    "import logging\n",
    "logging.basicConfig(\n",
    "    level=logging.DEBUG,  # Set the logging level\n",
    "    format='%(asctime)s - %(levelname)s - %(message)s',  # Specify the log message format\n",
    "    datefmt='%Y-%m-%d %H:%M:%S',  # Specify the date format\n",
    "    handlers=[\n",
    "        #logging.FileHandler('app.log'),  # Log messages to a file\n",
    "        logging.StreamHandler()  # Also output log messages to the console\n",
    "    ]\n",
    ")\n",
    "logger = logging.getLogger(__name__)"
   ]
  },
  {
   "cell_type": "code",
   "execution_count": null,
   "metadata": {},
   "outputs": [],
   "source": [
    "from relbench.datasets import get_dataset\n",
    "dataset = get_dataset(\"rel-hm\", download=True)"
   ]
  },
  {
   "cell_type": "code",
   "execution_count": 24,
   "metadata": {},
   "outputs": [],
   "source": [
    "customer_file = '/mnt/data/rel-hm/db/customer.parquet'\n",
    "transactions_file = '/mnt/data/rel-hm/db/transactions.parquet'\n",
    "article_file = '/mnt/data/rel-hm/db/article.parquet'\n",
    "\n",
    "# Load the data\n",
    "import pandas as pd\n",
    "customer = pd.read_parquet(customer_file)\n",
    "transactions = pd.read_parquet(transactions_file)\n",
    "article = pd.read_parquet(article_file)"
   ]
  },
  {
   "cell_type": "code",
   "execution_count": 3,
   "metadata": {},
   "outputs": [
    {
     "name": "stdout",
     "output_type": "stream",
     "text": [
      "Customer data\n",
      "   customer_id   FN  Active club_member_status fashion_news_frequency   age  \\\n",
      "0            0  NaN     NaN             ACTIVE                   NONE  49.0   \n",
      "1            1  NaN     NaN             ACTIVE                   NONE  25.0   \n",
      "2            2  NaN     NaN             ACTIVE                   NONE  24.0   \n",
      "3            3  NaN     NaN             ACTIVE                   NONE  54.0   \n",
      "4            4  1.0     1.0             ACTIVE              Regularly  52.0   \n",
      "\n",
      "                                         postal_code  \n",
      "0  52043ee2162cf5aa7ee79974281641c6f11a68d276429a...  \n",
      "1  2973abc54daa8a5f8ccfe9362140c63247c5eee03f1d93...  \n",
      "2  64f17e6a330a85798e4998f62d0930d14db8db1c054af6...  \n",
      "3  5d36574f52495e81f019b680c843c443bd343d5ca5b1c2...  \n",
      "4  25fa5ddee9aac01b35208d01736e57942317d756b32ddd...  \n",
      "         customer_id        FN    Active           age\n",
      "count      1371980.0  476930.0  464404.0  1.356119e+06\n",
      "mean        685989.5       1.0       1.0  3.638696e+01\n",
      "std    396056.655499       0.0       0.0  1.431363e+01\n",
      "min              0.0       1.0       1.0  1.600000e+01\n",
      "25%        342994.75       1.0       1.0  2.400000e+01\n",
      "50%         685989.5       1.0       1.0  3.200000e+01\n",
      "75%       1028984.25       1.0       1.0  4.900000e+01\n",
      "max        1371979.0       1.0       1.0  9.900000e+01\n",
      "\n",
      "Article data\n",
      "   article_id  product_code          prod_name  product_type_no  \\\n",
      "0           0        108775          Strap top              253   \n",
      "1           1        108775          Strap top              253   \n",
      "2           2        108775      Strap top (1)              253   \n",
      "3           3        110065  OP T-shirt (Idro)              306   \n",
      "4           4        110065  OP T-shirt (Idro)              306   \n",
      "\n",
      "  product_type_name  product_group_name  graphical_appearance_no  \\\n",
      "0          Vest top  Garment Upper body                  1010016   \n",
      "1          Vest top  Garment Upper body                  1010016   \n",
      "2          Vest top  Garment Upper body                  1010017   \n",
      "3               Bra           Underwear                  1010016   \n",
      "4               Bra           Underwear                  1010016   \n",
      "\n",
      "  graphical_appearance_name  colour_group_code colour_group_name  ...  \\\n",
      "0                     Solid                  9             Black  ...   \n",
      "1                     Solid                 10             White  ...   \n",
      "2                    Stripe                 11         Off White  ...   \n",
      "3                     Solid                  9             Black  ...   \n",
      "4                     Solid                 10             White  ...   \n",
      "\n",
      "   department_name index_code        index_name index_group_no  \\\n",
      "0     Jersey Basic          A        Ladieswear              1   \n",
      "1     Jersey Basic          A        Ladieswear              1   \n",
      "2     Jersey Basic          A        Ladieswear              1   \n",
      "3   Clean Lingerie          B  Lingeries/Tights              1   \n",
      "4   Clean Lingerie          B  Lingeries/Tights              1   \n",
      "\n",
      "   index_group_name section_no            section_name garment_group_no  \\\n",
      "0        Ladieswear         16  Womens Everyday Basics             1002   \n",
      "1        Ladieswear         16  Womens Everyday Basics             1002   \n",
      "2        Ladieswear         16  Womens Everyday Basics             1002   \n",
      "3        Ladieswear         61         Womens Lingerie             1017   \n",
      "4        Ladieswear         61         Womens Lingerie             1017   \n",
      "\n",
      "   garment_group_name                                        detail_desc  \n",
      "0        Jersey Basic            Jersey top with narrow shoulder straps.  \n",
      "1        Jersey Basic            Jersey top with narrow shoulder straps.  \n",
      "2        Jersey Basic            Jersey top with narrow shoulder straps.  \n",
      "3   Under-, Nightwear  Microfibre T-shirt bra with underwired, moulde...  \n",
      "4   Under-, Nightwear  Microfibre T-shirt bra with underwired, moulde...  \n",
      "\n",
      "[5 rows x 25 columns]\n",
      "         article_id   product_code  product_type_no  graphical_appearance_no  \\\n",
      "count      105542.0  105542.000000    105542.000000             1.055420e+05   \n",
      "mean        52770.5  698424.563378       234.861875             1.009515e+06   \n",
      "std    30467.495393  128462.384432        75.049308             2.241359e+04   \n",
      "min             0.0  108775.000000        -1.000000            -1.000000e+00   \n",
      "25%        26385.25  616992.500000       252.000000             1.010008e+06   \n",
      "50%         52770.5  702213.000000       259.000000             1.010016e+06   \n",
      "75%        79155.75  796703.000000       272.000000             1.010016e+06   \n",
      "max        105541.0  959461.000000       762.000000             1.010029e+06   \n",
      "\n",
      "       colour_group_code  perceived_colour_value_id  \\\n",
      "count      105542.000000              105542.000000   \n",
      "mean           32.233822                   3.206183   \n",
      "std            28.086154                   1.563839   \n",
      "min            -1.000000                  -1.000000   \n",
      "25%             9.000000                   2.000000   \n",
      "50%            14.000000                   4.000000   \n",
      "75%            52.000000                   4.000000   \n",
      "max            93.000000                   7.000000   \n",
      "\n",
      "       perceived_colour_master_id  department_no  index_group_no  \\\n",
      "count               105542.000000  105542.000000   105542.000000   \n",
      "mean                     7.807972    4532.777833        3.171534   \n",
      "std                      5.376727    2712.692011        4.353234   \n",
      "min                     -1.000000    1201.000000        1.000000   \n",
      "25%                      4.000000    1676.000000        1.000000   \n",
      "50%                      5.000000    4222.000000        2.000000   \n",
      "75%                     11.000000    7389.000000        4.000000   \n",
      "max                     20.000000    9989.000000       26.000000   \n",
      "\n",
      "          section_no  garment_group_no  \n",
      "count  105542.000000     105542.000000  \n",
      "mean       42.664219       1010.438290  \n",
      "std        23.260105          6.731023  \n",
      "min         2.000000       1001.000000  \n",
      "25%        20.000000       1005.000000  \n",
      "50%        46.000000       1009.000000  \n",
      "75%        61.000000       1017.000000  \n",
      "max        97.000000       1025.000000  \n",
      "\n",
      "Transactions data\n",
      "       t_dat  customer_id  article_id     price  sales_channel_id\n",
      "0 2019-09-07          155       51985  0.010153                 1\n",
      "1 2019-09-07          155       51985  0.010153                 1\n",
      "2 2019-09-07          155       83127  0.042356                 1\n",
      "3 2019-09-07          155        6066  0.005068                 1\n",
      "4 2019-09-07          155       78525  0.033881                 1\n",
      "                               t_dat    customer_id    article_id  \\\n",
      "count                       15453651     15453651.0    15453651.0   \n",
      "mean   2020-03-21 20:32:23.683289088  685015.779397   67969.75022   \n",
      "min              2019-09-07 00:00:00            0.0           0.0   \n",
      "25%              2019-12-16 00:00:00       342127.0       53896.0   \n",
      "50%              2020-04-03 00:00:00       684713.0       76434.0   \n",
      "75%              2020-06-24 00:00:00      1027147.0       88780.0   \n",
      "max              2020-09-22 00:00:00      1371979.0      105539.0   \n",
      "std                              NaN  396099.988833  28034.261039   \n",
      "\n",
      "              price  sales_channel_id  \n",
      "count  1.545365e+07      1.545365e+07  \n",
      "mean   2.838355e-02      1.717534e+00  \n",
      "min    1.694915e-05      1.000000e+00  \n",
      "25%    1.693220e-02      1.000000e+00  \n",
      "50%    2.540678e-02      2.000000e+00  \n",
      "75%    3.388136e-02      2.000000e+00  \n",
      "max    5.067797e-01      2.000000e+00  \n",
      "std    1.918536e-02      4.501988e-01  \n"
     ]
    }
   ],
   "source": [
    "# get statistics of the data\n",
    "print(\"Customer data\")\n",
    "print(customer.head())\n",
    "print(customer.describe())\n",
    "print(\"\\nArticle data\")\n",
    "print(article.head())\n",
    "print(article.describe())\n",
    "print(\"\\nTransactions data\")\n",
    "print(transactions.head())\n",
    "print(transactions.describe())"
   ]
  },
  {
   "cell_type": "code",
   "execution_count": 17,
   "metadata": {},
   "outputs": [
    {
     "name": "stdout",
     "output_type": "stream",
     "text": [
      "\n",
      "Number of columns\n",
      "Customer:  7\n",
      "Article:  25\n",
      "Transactions:  5\n",
      "\n",
      "Number of rows\n",
      "Customer:  1371980\n",
      "Article:  105542\n",
      "Transactions:  15453651\n"
     ]
    }
   ],
   "source": [
    "# num of columns\n",
    "print(\"\\nNumber of columns\")\n",
    "print(\"Customer: \", len(customer.columns))\n",
    "print(\"Article: \", len(article.columns))\n",
    "print(\"Transactions: \", len(transactions.columns))\n",
    "\n",
    "# num rows\n",
    "print(\"\\nNumber of rows\")\n",
    "print(\"Customer: \", len(customer))\n",
    "print(\"Article: \", len(article))\n",
    "print(\"Transactions: \", len(transactions))\n"
   ]
  },
  {
   "cell_type": "code",
   "execution_count": 25,
   "metadata": {},
   "outputs": [],
   "source": [
    "# merge all the data into single dataframe using customer_id and article_id\n",
    "df = pd.merge(transactions, customer, on='customer_id')\n",
    "df = pd.merge(df, article, on='article_id')"
   ]
  },
  {
   "cell_type": "code",
   "execution_count": 6,
   "metadata": {},
   "outputs": [
    {
     "name": "stdout",
     "output_type": "stream",
     "text": [
      "52972\n"
     ]
    }
   ],
   "source": [
    "# check if customer and article ids overlap\n",
    "print(len(set(df['customer_id']).intersection(set(df['article_id']))))"
   ]
  },
  {
   "cell_type": "code",
   "execution_count": 26,
   "metadata": {},
   "outputs": [],
   "source": [
    "# renumber the customer and article ids so that they are unique and continuous\n",
    "customer_ids = list(set(df['customer_id']))\n",
    "customer_ids.sort()\n",
    "customer_id_map = {customer_ids[i]: i for i in range(len(customer_ids))}\n",
    "article_ids = list(set(df['article_id']))\n",
    "article_ids.sort()\n",
    "article_id_map = {article_ids[i]: i + len(customer_ids) for i in range(len(article_ids))}\n",
    "df['customer_id'] = df['customer_id'].map(customer_id_map)\n",
    "df['article_id'] = df['article_id'].map(article_id_map)"
   ]
  },
  {
   "cell_type": "code",
   "execution_count": 33,
   "metadata": {},
   "outputs": [],
   "source": [
    "# convert t_dat column from numpy.datetime64 to int\n",
    "df['t_dat'] = df['t_dat'].astype('int64') // 10**9"
   ]
  },
  {
   "cell_type": "code",
   "execution_count": 35,
   "metadata": {},
   "outputs": [
    {
     "name": "stdout",
     "output_type": "stream",
     "text": [
      "\n",
      "T_DAT statistics\n",
      "count    1.545365e+07\n",
      "mean     1.584823e+09\n",
      "std      9.501517e+06\n",
      "min      1.567814e+09\n",
      "25%      1.576454e+09\n",
      "50%      1.585872e+09\n",
      "75%      1.592957e+09\n",
      "max      1.600733e+09\n",
      "Name: t_dat, dtype: float64\n",
      "        t_dat  customer_id  article_id     price  sales_channel_id  FN  \\\n",
      "0  1567814400          113     1031926  0.010153                 1 NaN   \n",
      "1  1567814400          113     1031926  0.010153                 1 NaN   \n",
      "2  1567814400          113     1058280  0.042356                 1 NaN   \n",
      "3  1567814400          113     1010849  0.005068                 1 NaN   \n",
      "4  1567814400          113     1053735  0.033881                 1 NaN   \n",
      "\n",
      "   Active club_member_status fashion_news_frequency   age  ...  \\\n",
      "0     NaN             ACTIVE                   NONE  43.0  ...   \n",
      "1     NaN             ACTIVE                   NONE  43.0  ...   \n",
      "2     NaN             ACTIVE                   NONE  43.0  ...   \n",
      "3     NaN             ACTIVE                   NONE  43.0  ...   \n",
      "4     NaN             ACTIVE                   NONE  43.0  ...   \n",
      "\n",
      "  department_name  index_code  index_name  index_group_no index_group_name  \\\n",
      "0   Tops Knitwear           D     Divided               2          Divided   \n",
      "1   Tops Knitwear           D     Divided               2          Divided   \n",
      "2      Dresses DS           D     Divided               2          Divided   \n",
      "3   Tops Knitwear           D     Divided               2          Divided   \n",
      "4    Jersey fancy           A  Ladieswear               1       Ladieswear   \n",
      "\n",
      "  section_no                section_name garment_group_no  garment_group_name  \\\n",
      "0         53          Divided Collection             1003            Knitwear   \n",
      "1         53          Divided Collection             1003            Knitwear   \n",
      "2         58            Divided Selected             1013      Dresses Ladies   \n",
      "3         53          Divided Collection             1003            Knitwear   \n",
      "4         15  Womens Everyday Collection             1005        Jersey Fancy   \n",
      "\n",
      "                                         detail_desc  \n",
      "0  Short jumper in a soft, loose knit with a knot...  \n",
      "1  Short jumper in a soft, loose knit with a knot...  \n",
      "2  Fitted, calf-length dress in a rib-knit viscos...  \n",
      "3  Jumper in a soft knit with a slightly wider ne...  \n",
      "4  Short, straight-cut tunic in sturdy jersey mad...  \n",
      "\n",
      "[5 rows x 35 columns]\n"
     ]
    }
   ],
   "source": [
    "# print t_dat statistics\n",
    "print(\"\\nT_DAT statistics\")\n",
    "df['t_dat'] = df['t_dat'] \n",
    "print(df['t_dat'].describe())\n",
    "print(df.head())"
   ]
  },
  {
   "cell_type": "code",
   "execution_count": 16,
   "metadata": {},
   "outputs": [
    {
     "name": "stdout",
     "output_type": "stream",
     "text": [
      "   t_dat  customer_id  article_id     price  sales_channel_id  FN  Active  \\\n",
      "0      1            0        4899  0.010153                 1 NaN     NaN   \n",
      "1      1            0        4899  0.010153                 1 NaN     NaN   \n",
      "2      1            0        7600  0.042356                 1 NaN     NaN   \n",
      "3      1            0        3397  0.005068                 1 NaN     NaN   \n",
      "4      1            0        7267  0.033881                 1 NaN     NaN   \n",
      "\n",
      "  club_member_status fashion_news_frequency   age  ... department_name  \\\n",
      "0             ACTIVE                   NONE  43.0  ...   Tops Knitwear   \n",
      "1             ACTIVE                   NONE  43.0  ...   Tops Knitwear   \n",
      "2             ACTIVE                   NONE  43.0  ...      Dresses DS   \n",
      "3             ACTIVE                   NONE  43.0  ...   Tops Knitwear   \n",
      "4             ACTIVE                   NONE  43.0  ...    Jersey fancy   \n",
      "\n",
      "   index_code  index_name  index_group_no index_group_name section_no  \\\n",
      "0           D     Divided               2          Divided         53   \n",
      "1           D     Divided               2          Divided         53   \n",
      "2           D     Divided               2          Divided         58   \n",
      "3           D     Divided               2          Divided         53   \n",
      "4           A  Ladieswear               1       Ladieswear         15   \n",
      "\n",
      "                 section_name garment_group_no  garment_group_name  \\\n",
      "0          Divided Collection             1003            Knitwear   \n",
      "1          Divided Collection             1003            Knitwear   \n",
      "2            Divided Selected             1013      Dresses Ladies   \n",
      "3          Divided Collection             1003            Knitwear   \n",
      "4  Womens Everyday Collection             1005        Jersey Fancy   \n",
      "\n",
      "                                         detail_desc  \n",
      "0  Short jumper in a soft, loose knit with a knot...  \n",
      "1  Short jumper in a soft, loose knit with a knot...  \n",
      "2  Fitted, calf-length dress in a rib-knit viscos...  \n",
      "3  Jumper in a soft knit with a slightly wider ne...  \n",
      "4  Short, straight-cut tunic in sturdy jersey mad...  \n",
      "\n",
      "[5 rows x 35 columns]\n"
     ]
    }
   ],
   "source": [
    "df.to_csv('/mnt/data/rel-hm/dummy.csv', index=False)"
   ]
  },
  {
   "cell_type": "code",
   "execution_count": 36,
   "metadata": {},
   "outputs": [
    {
     "name": "stdout",
     "output_type": "stream",
     "text": [
      "\n",
      "Column names and types\n",
      "t_dat                             int64\n",
      "customer_id                       int64\n",
      "article_id                        int64\n",
      "price                           float64\n",
      "sales_channel_id                  int64\n",
      "FN                              float64\n",
      "Active                          float64\n",
      "club_member_status               object\n",
      "fashion_news_frequency           object\n",
      "age                             float64\n",
      "postal_code                      object\n",
      "product_code                      int64\n",
      "prod_name                        object\n",
      "product_type_no                   int64\n",
      "product_type_name                object\n",
      "product_group_name               object\n",
      "graphical_appearance_no           int64\n",
      "graphical_appearance_name        object\n",
      "colour_group_code                 int64\n",
      "colour_group_name                object\n",
      "perceived_colour_value_id         int64\n",
      "perceived_colour_value_name      object\n",
      "perceived_colour_master_id        int64\n",
      "perceived_colour_master_name     object\n",
      "department_no                     int64\n",
      "department_name                  object\n",
      "index_code                       object\n",
      "index_name                       object\n",
      "index_group_no                    int64\n",
      "index_group_name                 object\n",
      "section_no                        int64\n",
      "section_name                     object\n",
      "garment_group_no                  int64\n",
      "garment_group_name               object\n",
      "detail_desc                      object\n",
      "dtype: object\n"
     ]
    }
   ],
   "source": [
    "# print column names and types\n",
    "print(\"\\nColumn names and types\")\n",
    "print(df.dtypes)"
   ]
  },
  {
   "cell_type": "code",
   "execution_count": 37,
   "metadata": {},
   "outputs": [
    {
     "name": "stdout",
     "output_type": "stream",
     "text": [
      "t_dat                                 0\n",
      "customer_id                           0\n",
      "article_id                            0\n",
      "price                                 0\n",
      "sales_channel_id                      0\n",
      "FN                              8755179\n",
      "Active                          8849707\n",
      "club_member_status                27500\n",
      "fashion_news_frequency            75406\n",
      "age                               59198\n",
      "postal_code                           0\n",
      "product_code                          0\n",
      "prod_name                             0\n",
      "product_type_no                       0\n",
      "product_type_name                     0\n",
      "product_group_name                    0\n",
      "graphical_appearance_no               0\n",
      "graphical_appearance_name             0\n",
      "colour_group_code                     0\n",
      "colour_group_name                     0\n",
      "perceived_colour_value_id             0\n",
      "perceived_colour_value_name           0\n",
      "perceived_colour_master_id            0\n",
      "perceived_colour_master_name          0\n",
      "department_no                         0\n",
      "department_name                       0\n",
      "index_code                            0\n",
      "index_name                            0\n",
      "index_group_no                        0\n",
      "index_group_name                      0\n",
      "section_no                            0\n",
      "section_name                          0\n",
      "garment_group_no                      0\n",
      "garment_group_name                    0\n",
      "detail_desc                       18282\n",
      "dtype: int64\n"
     ]
    }
   ],
   "source": [
    "# print columns that have missing values\n",
    "print(df.isnull().sum())"
   ]
  },
  {
   "cell_type": "code",
   "execution_count": null,
   "metadata": {},
   "outputs": [],
   "source": [
    "# does every article_id have the same prod_name\n",
    "print(df.groupby('article_id')['prod_name'].nunique().value_counts())"
   ]
  },
  {
   "cell_type": "code",
   "execution_count": 38,
   "metadata": {},
   "outputs": [
    {
     "ename": "",
     "evalue": "",
     "output_type": "error",
     "traceback": [
      "\u001b[1;31mThe Kernel crashed while executing code in the current cell or a previous cell. \n",
      "\u001b[1;31mPlease review the code in the cell(s) to identify a possible cause of the failure. \n",
      "\u001b[1;31mClick <a href='https://aka.ms/vscodeJupyterKernelCrash'>here</a> for more info. \n",
      "\u001b[1;31mView Jupyter <a href='command:jupyter.viewOutput'>log</a> for further details."
     ]
    }
   ],
   "source": [
    "# store the merged data in a csv file\n",
    "df.to_csv('/mnt/data/rel-hm/rel-hm.csv', index=False)"
   ]
  },
  {
   "cell_type": "code",
   "execution_count": 39,
   "metadata": {},
   "outputs": [
    {
     "name": "stderr",
     "output_type": "stream",
     "text": [
      "2024-08-05 11:34:39 - INFO - Creating graph...\n",
      "2024-08-05 11:35:21 - INFO - Graph created in 42.54 seconds.\n",
      "2024-08-05 11:35:21 - INFO - Adding ports...\n",
      "2024-08-05 11:50:51 - INFO - Ports added in 929.89 seconds.\n",
      "2024-08-05 11:50:51 - INFO - Creating masked columns and saving to /mnt/data/rel-hm/rel-hm.csv.npy\n"
     ]
    }
   ],
   "source": [
    "import time\n",
    "from src.datasets.util.mask import PretrainType\n",
    "from src.datasets import RelHM\n",
    "dataset = RelHM(\n",
    "    root='/mnt/data/rel-hm/rel-hm.csv', \n",
    "    pretrain={PretrainType.MASK, PretrainType.LINK_PRED},\n",
    "    split_type='daily_temporal',\n",
    "    splits=[0.6,0.2,0.2], \n",
    "    khop_neighbors=[100,100],\n",
    "    ports=True\n",
    ")\n",
    "logger.info(f\"Materialzing dataset...\")\n",
    "s = time.time()\n",
    "dataset.materialize()\n",
    "logger.info(f\"Materialized in {time.time() - s:.2f} seconds\")\n",
    "dataset.df.head(5)\n",
    "num_columns = len(dataset.num_columns)\n",
    "cat_columns = len(dataset.cat_columns)\n",
    "logger.info(f\"Number of numerical columns: {num_columns}\")\n",
    "logger.info(f\"Number of categorical columns: {cat_columns}\")"
   ]
  },
  {
   "cell_type": "code",
   "execution_count": 11,
   "metadata": {},
   "outputs": [],
   "source": [
    "df_train = df.sample(frac=0.2)\n",
    "len(df_train)"
   ]
  },
  {
   "cell_type": "code",
   "execution_count": 13,
   "metadata": {},
   "outputs": [],
   "source": [
    "# renumber the customer and article ids so that they are unique and continuous\n",
    "customer_ids = list(set(df_train['customer_id']))\n",
    "customer_ids.sort()\n",
    "customer_id_map = {customer_ids[i]: i for i in range(len(customer_ids))}\n",
    "article_ids = list(set(df_train['article_id']))\n",
    "article_ids.sort()\n",
    "article_id_map = {article_ids[i]: i + len(customer_ids) for i in range(len(article_ids))}\n",
    "df_train['customer_id'] = df_train['customer_id'].map(customer_id_map)\n",
    "df_train['article_id'] = df_train['article_id'].map(article_id_map)"
   ]
  },
  {
   "cell_type": "code",
   "execution_count": 14,
   "metadata": {},
   "outputs": [],
   "source": [
    "df_train.to_csv('/mnt/data/rel-hm/rel-hm-3M.csv', index=False)"
   ]
  }
 ],
 "metadata": {
  "kernelspec": {
   "display_name": "rel-mm",
   "language": "python",
   "name": "python3"
  },
  "language_info": {
   "codemirror_mode": {
    "name": "ipython",
    "version": 3
   },
   "file_extension": ".py",
   "mimetype": "text/x-python",
   "name": "python",
   "nbconvert_exporter": "python",
   "pygments_lexer": "ipython3",
   "version": "3.10.14"
  }
 },
 "nbformat": 4,
 "nbformat_minor": 2
}
