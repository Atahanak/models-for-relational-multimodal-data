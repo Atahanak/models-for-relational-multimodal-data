{
 "cells": [
  {
   "cell_type": "code",
   "execution_count": 1,
   "metadata": {},
   "outputs": [],
   "source": [
    "import logging\n",
    "# Configure logging\n",
    "logging.basicConfig(\n",
    "    level=logging.DEBUG,  # Set the logging level\n",
    "    format='%(asctime)s - %(levelname)s - %(message)s',  # Specify the log message format\n",
    "    datefmt='%Y-%m-%d %H:%M:%S',  # Specify the date format\n",
    "    handlers=[\n",
    "        #logging.FileHandler('app.log'),  # Log messages to a file\n",
    "        logging.StreamHandler()  # Also output log messages to the console\n",
    "    ]\n",
    ")\n",
    "logger = logging.getLogger(__name__)\n",
    "import pickle \n",
    "import networkx as nx\n",
    "import time\n",
    "from datetime import datetime, timezone\n",
    "import os\n",
    "import sys\n",
    "import pandas as pd"
   ]
  },
  {
   "cell_type": "code",
   "execution_count": 2,
   "metadata": {},
   "outputs": [
    {
     "name": "stderr",
     "output_type": "stream",
     "text": [
      "2024-08-27 11:19:51 - INFO - Loading the graph\n",
      "2024-08-27 11:20:12 - INFO - Graph loaded in 20.831660270690918 seconds.\n",
      "2024-08-27 11:20:12 - INFO - Number of nodes: 2973489\n",
      "2024-08-27 11:20:16 - INFO - Number of edges: 13551303\n",
      "2024-08-27 11:20:16 - INFO - Saving nodes and their labels to a csv\n"
     ]
    }
   ],
   "source": [
    "\"\"\"The data stored in pickle format with version: 0.7.5 (python 3.7).\n",
    "The type of graph object：networkx.classes.multidigraph.MultiDiGraph\n",
    "Numbers of nodes: 2973489\n",
    "Numbers of edges: 13551303\n",
    "Average degree:   4.5574\n",
    "Nodes' features：\n",
    "    // The label. 1 means fishing mark node, otherwise 0.\n",
    "    G.nodes[nodeName]['isp']；\n",
    "\n",
    "Edges' features:\n",
    "    G[node1][node2][0]['amount']        // The amount mount of the transaction.\n",
    "    G[node1][node2][0]['timestamp']     // The timestamp of the transaction.\t\t\t\t\n",
    "\t\t\t\t\t\t\t\n",
    "* Notes * \n",
    "\"\"\"\n",
    "\n",
    "\n",
    "\n",
    "def load_pickle(fname):\n",
    "    with open(fname, 'rb') as f:\n",
    "        return pickle.load(f)\n",
    "logger.info(\"Loading the graph\")\n",
    "start = time.time()\n",
    "G = load_pickle('/mnt/data/ethereum-phishing-transaction-network/MulDiGraph.pkl')\n",
    "logger.info(f\"Graph loaded in {time.time()-start} seconds.\")\n",
    "logger.info(f'Number of nodes: {G.number_of_nodes()}')\n",
    "logger.info(f'Number of edges: {G.number_of_edges()}')\n",
    "\n",
    "\n",
    "# save nodes and their labels to a csv\n",
    "logger.info(\"Saving nodes and their labels to a csv\")\n",
    "start = time.time()\n",
    "nodes = []\n",
    "labels = []\n",
    "for node in G.nodes():\n",
    "    nodes.append(node)\n",
    "    labels.append(G.nodes[node]['isp'])\n",
    "dfnodes = pd.DataFrame({'node': nodes, 'label': labels})"
   ]
  },
  {
   "cell_type": "code",
   "execution_count": 39,
   "metadata": {},
   "outputs": [
    {
     "name": "stderr",
     "output_type": "stream",
     "text": [
      "2024-08-27 12:44:52 - INFO - Processing the graph\n",
      "2024-08-27 12:45:24 - INFO - Graph processed in 28.486971378326416 seconds.\n",
      "2024-08-27 12:45:24 - INFO - Number of unique transactions: 12060024\n",
      "2024-08-27 12:45:25 - INFO - An element from uniq: ('0x0e9ea9519226094daa42cd4aac2678941b5ccd99', '0x491c9a23db85623eed455a8efdd6aba9b911c5df', 0.0, 1526094538.0)\n"
     ]
    },
    {
     "name": "stdout",
     "output_type": "stream",
     "text": [
      "Max degree: 102480\n",
      "Address with max degree: 0xfbb1b73c4f0bda4f67dca266ce6ef42f520fbb98\n",
      "Number of addresses with degree larger than 10K: 70\n"
     ]
    },
    {
     "name": "stderr",
     "output_type": "stream",
     "text": [
      "2024-08-27 12:45:25 - INFO - Minimum timestamp: 2015-08-07 07:01:09\n",
      "2024-08-27 12:45:25 - INFO - Maximum timestamp: 2019-01-19 10:24:22\n"
     ]
    }
   ],
   "source": [
    "logger.info(\"Processing the graph\")\n",
    "uniq = set()\n",
    "start = time.time()\n",
    "min_time = 1e20\n",
    "max_time = 0\n",
    "from_address = []\n",
    "to_address = []\n",
    "time_stamps = []\n",
    "amounts = []\n",
    "max_deg = 0\n",
    "max_deg_address = ''\n",
    "num_larger_10K = 0\n",
    "\n",
    "for node in G.nodes():\n",
    "    edges = G.edges(node, data=True)\n",
    "    if len(edges) > max_deg:\n",
    "        max_deg = len(edges)\n",
    "        max_deg_address = node\n",
    "    if len(edges) > 10000:\n",
    "        num_larger_10K += 1\n",
    "    for edge in edges:\n",
    "        u = node\n",
    "        v = edge[1]\n",
    "        tim = edge[2]['timestamp']\n",
    "        amo = edge[2]['amount']\n",
    "        uniq.add((u, v, amo, tim))\n",
    "        min_time = min(min_time, tim)\n",
    "        max_time = max(max_time, tim)\n",
    "\n",
    "print(f\"Max degree: {max_deg}\")\n",
    "print(f\"Address with max degree: {max_deg_address}\")\n",
    "print(f\"Number of addresses with degree larger than 10K: {num_larger_10K}\")\n",
    "min_time = time.strftime('%Y-%m-%d %H:%M:%S', time.localtime(min_time))\n",
    "max_time = time.strftime('%Y-%m-%d %H:%M:%S', time.localtime(max_time))\n",
    "# print(min_time, max_time)\n",
    "# print(len(uniq))\n",
    "logger.info(f\"Graph processed in {time.time()-start} seconds.\")\n",
    "logger.info(f'Number of unique transactions: {len(uniq)}')\n",
    "#print an element from uniq\n",
    "logger.info(f\"An element from uniq: {list(uniq)[0]}\")\n",
    "logger.info(f'Minimum timestamp: {min_time}')\n",
    "logger.info(f'Maximum timestamp: {max_time}')"
   ]
  },
  {
   "cell_type": "code",
   "execution_count": 16,
   "metadata": {},
   "outputs": [
    {
     "name": "stderr",
     "output_type": "stream",
     "text": [
      "2024-08-27 11:36:41 - INFO - An element from uniq: [('0x0e9ea9519226094daa42cd4aac2678941b5ccd99', '0x491c9a23db85623eed455a8efdd6aba9b911c5df', 0.0, 1526094538.0), ('0x91a921281bd4f5578988b9b80e38a881cc945f1e', '0x19fffd124cd9089e21026d10da97f8cd6b442bff', 0.0, 1532772862.0), ('0xc60abc229fb94569d483c9248e3b8be016c8432a', '0x049399a6b048d52971f7d122ae21a1532722285f', 0.0, 1524594093.0), ('0x2649139637cce189653ec1e95486b797efdfec50', '0xd8d48e52f39ab2d169c8b562c53589e6c71ac4d3', 0.0, 1529129293.0), ('0xfbb1b73c4f0bda4f67dca266ce6ef42f520fbb98', '0xf487d016b2ea5bebdeea03fa12adcab51237bc25', 1.0, 1522175188.0), ('0x3926f43ad0fbda08175e9a314d3e972e4fe34416', '0x667118a44f8e4f3e144fe70bdfe6f54851781c98', 0.001, 1529405922.0), ('0xba111af1e365510b71c6460b3b833447f73e759d', '0xea38eaa3c86c8f9b751533ba2e562deb9acded40', 0.0, 1509399147.0), ('0x1e150ffc8953b0cf3b0d883b7ad0e41710c85087', '0xe21bc8d4f47dbd9e4dd29229333d1999c33d0e87', 2.999412, 1520424786.0), ('0x31da1575cb933d776b22295756369b103ed4acf1', '0xaaaf91d9b90df800df4f55c205fd6989c977e73a', 0.0, 1498073765.0), ('0xe2f7cc23f322b09ae8ea174f48fd8866840ed9d9', '0x56ba2ee7890461f463f7be02aac3099f6d5811a8', 0.0, 1503563027.0)]\n"
     ]
    }
   ],
   "source": [
    "logger.info(f\"An element from uniq: {list(uniq)[:10]}\")"
   ]
  },
  {
   "cell_type": "code",
   "execution_count": 17,
   "metadata": {},
   "outputs": [
    {
     "name": "stdout",
     "output_type": "stream",
     "text": [
      "Read 5256894 transactions from the csv\n"
     ]
    },
    {
     "name": "stderr",
     "output_type": "stream",
     "text": [
      "/tmp/ipykernel_1078409/2579502774.py:14: FutureWarning: Series.view is deprecated and will be removed in a future version. Use ``astype`` as an alternative to change the dtype.\n",
      "  df['block_timestamp'] = pd.to_datetime(df['block_timestamp']).view('int64') / 10**9\n"
     ]
    },
    {
     "name": "stdout",
     "output_type": "stream",
     "text": [
      "A row from the dataframe: from_address       0xc3d9c17d7f6988c0fe7ebe929c47efccbd92be13\n",
      "to_address         0x0d64b06929f797d641064521705714498618fe1e\n",
      "value                                                    5.55\n",
      "block_timestamp                                  1494731739.0\n",
      "Name: 0, dtype: object\n"
     ]
    }
   ],
   "source": [
    "import os\n",
    "transactions_path = '/mnt/data/ethereum-phishing-transaction-network/transactions-c.csv'\n",
    "if os.path.exists(transactions_path):\n",
    "    columns_to_read = ['from_address', 'to_address', 'value', 'block_timestamp']\n",
    "    dtype_dict = {\n",
    "        'from_address': 'str',\n",
    "        'to_address': 'str',\n",
    "        'value': 'str',\n",
    "        'block_timestamp': 'str'  # assuming block_timestamp is initially read as string\n",
    "    }\n",
    "    df = pd.read_csv(transactions_path, usecols=columns_to_read, dtype=dtype_dict) \n",
    "    print(f\"Read {len(df)} transactions from the csv\")\n",
    "    #df['value'] = df['value'].astype(float)\n",
    "    df['block_timestamp'] = pd.to_datetime(df['block_timestamp']).view('int64') / 10**9\n",
    "    df['value'] = df['value'].astype(float) / 1e18\n",
    "    # print a row of the dataframe\n",
    "    print(f\"A row from the dataframe: {df.iloc[0]}\")\n",
    "    exists = set(zip(df['from_address'], df['to_address'], df['value'], df['block_timestamp']))\n",
    "    #exists = set(zip(df['from_address'], df['to_address'], df['block_timestamp']))\n",
    "    diff = uniq - exists"
   ]
  },
  {
   "cell_type": "code",
   "execution_count": 18,
   "metadata": {},
   "outputs": [
    {
     "name": "stdout",
     "output_type": "stream",
     "text": [
      "Number of transactions in the csv:  5245263\n",
      "Number of transactions in the graph but not in the csv:  6876384\n",
      "Number of transactions in the csv but not in the graph:  61623\n"
     ]
    }
   ],
   "source": [
    "# compare the transactions in the graph with the transactions in the csv\n",
    "print(\"Number of transactions in the csv: \", len(exists))\n",
    "print(\"Number of transactions in the graph but not in the csv: \", len(diff))\n",
    "print(\"Number of transactions in the csv but not in the graph: \", len(exists - uniq))"
   ]
  },
  {
   "cell_type": "code",
   "execution_count": null,
   "metadata": {},
   "outputs": [],
   "source": [
    "# compare the nodes in the graph with the from_address and to_address in the csv\n",
    "nodes = set(G.nodes())\n",
    "from_addresses = set(df['from_address'])\n",
    "to_addresses = set(df['to_address'])\n",
    "csv_nodes = from_addresses.union(to_addresses)\n",
    "print(f\"Number of nodes in the graph: {len(nodes)}\")\n",
    "print(f\"Number of nodes in the csv: {len(csv_nodes)}\")\n",
    "print(f\"Number of nodes in the graph but not in the csv: {len(nodes - csv_nodes)}\")\n",
    "print(f\"Number of nodes in the csv but not in the graph: {len(csv_nodes - nodes)}\")\n",
    "# what is the percentage of labels of the nodes in the graph but not in the csv\n",
    "labels = [G.nodes[node]['isp'] for node in (nodes - csv_nodes)]\n",
    "print(f\"Percentage of labels in the graph but not in the csv: {sum(labels)/len(labels)}\")\n",
    "print(f\"Ilicit missing nodes {sum(labels)}\")\n"
   ]
  },
  {
   "cell_type": "code",
   "execution_count": null,
   "metadata": {},
   "outputs": [],
   "source": [
    "transactions_path = '/mnt/data/ethereum-phishing-transaction-network/transactions.csv'\n",
    "names = [\n",
    "    'nonce',\n",
    "    'from_address',\n",
    "    'to_address',\n",
    "    'transaction_index',\n",
    "    'value',\n",
    "    'gas',\n",
    "    'gas_price',\n",
    "    #'receipt_status',\n",
    "    'block_timestamp',\n",
    "    # 'phishing',\n",
    "]\n",
    "dtypes = {\n",
    "    'nonce': 'float64',\n",
    "    'from_address': 'str',\n",
    "    'to_address': 'str',\n",
    "    'transaction_index': 'category',\n",
    "    'value': 'float64',\n",
    "    'gas': 'float64',\n",
    "    'gas_price': 'float64',\n",
    "    #'receipt_status': 'category',\n",
    "}\n",
    "import numpy as np\n",
    "# Define converter function\n",
    "def to_float_or_nan(value):\n",
    "    try:\n",
    "        return float(value)\n",
    "    except ValueError:\n",
    "        return np.nan\n",
    "df = pd.read_csv(transactions_path, usecols=names, dtype=dtypes, parse_dates=['block_timestamp'], converters={'receipt_gas_used': to_float_or_nan})\n",
    "# print statistics for each column of the dataframe\n",
    "for col in df.columns:\n",
    "    print(f\"Statistics for column {col}\")\n",
    "    print(df[col].describe())\n",
    "    # print the number of nans in the column\n",
    "    print(f\"Number of nans in column {col}: {df[col].isna().sum()}\")\n",
    "    print()"
   ]
  },
  {
   "cell_type": "code",
   "execution_count": null,
   "metadata": {},
   "outputs": [],
   "source": [
    "df['gas_price'].hist(bins=100)"
   ]
  },
  {
   "cell_type": "code",
   "execution_count": null,
   "metadata": {},
   "outputs": [],
   "source": [
    "np.log1p(df['gas_price']).hist(bins=100)"
   ]
  },
  {
   "cell_type": "code",
   "execution_count": null,
   "metadata": {},
   "outputs": [],
   "source": [
    "import numpy as np\n",
    "# renumber from_address and to_address starting from 0 and update the dataframe\n",
    "unique_ids = pd.concat([df['from_address'], df['to_address']]).unique()\n",
    "# create a mapping from the original ID to a new ID\n",
    "id_map = {old_id: new_id for new_id, old_id in enumerate(unique_ids)}\n",
    "# replace the original IDs with the new IDs\n",
    "df['from_address'] = df['from_address'].apply(lambda x: id_map[x])\n",
    "df['to_address'] = df['to_address'].apply(lambda x: id_map[x])\n",
    "# convert timestamp to UNIX\n",
    "df['block_timestamp'] = pd.to_datetime(df['block_timestamp']).astype('int64') / 10**9\n",
    "#remove nodes that are not in the transactions\n",
    "dfnodes = dfnodes[dfnodes['node'].isin(unique_ids)]\n",
    "dfnodes['node'] = dfnodes['node'].apply(lambda x: id_map[x])\n",
    "\n",
    "# normalize numerical columns\n",
    "for col in df.columns:\n",
    "    print(col)\n",
    "    if col in ['from_address', 'to_address', 'phishing', 'receipt_status', 'block_timestamp', 'transaction_index']:\n",
    "        continue\n",
    "    df[col] = np.log1p(df[col])\n",
    "    df[col] = (df[col] - df[col].min()) / (df[col].max() - df[col].min())"
   ]
  },
  {
   "cell_type": "code",
   "execution_count": null,
   "metadata": {},
   "outputs": [],
   "source": [
    "print(unique_ids[:10])"
   ]
  },
  {
   "cell_type": "code",
   "execution_count": null,
   "metadata": {},
   "outputs": [],
   "source": [
    "print(dfnodes.head())\n",
    "len(dfnodes)"
   ]
  },
  {
   "cell_type": "code",
   "execution_count": null,
   "metadata": {},
   "outputs": [],
   "source": [
    "# save the dataframe to a csv file\n",
    "# if not os.path.exists('/mnt/data/ethereum-phishing-transaction-network/ethereum-phishing-transaction-network.csv'):\n",
    "dfnodes.to_csv('/mnt/data/ethereum-phishing-transaction-network/nodes.csv', index=False)\n",
    "df.to_csv('/mnt/data/ethereum-phishing-transaction-network/ethereum-phishing-transaction-network.csv', index=False)"
   ]
  },
  {
   "cell_type": "code",
   "execution_count": null,
   "metadata": {},
   "outputs": [],
   "source": [
    "names = [\n",
    "    'nonce',\n",
    "    'from_address',\n",
    "    'to_address',\n",
    "    #'transaction_index',\n",
    "    'value',\n",
    "    'gas',\n",
    "    'gas_price',\n",
    "    #'receipt_status',\n",
    "    'block_timestamp',\n",
    "    # 'phishing',\n",
    "]\n",
    "dtypes = {\n",
    "    'nonce': 'float64',\n",
    "    'from_address': 'str',\n",
    "    'to_address': 'str',\n",
    "    'transaction_index': 'category',\n",
    "    'value': 'float64',\n",
    "    'gas': 'float64',\n",
    "    'gas_price': 'float64',\n",
    "    #'receipt_status': 'category',\n",
    "}\n",
    "df = pd.read_csv('/mnt/data/ethereum-phishing-transaction-network/ethereum-phishing-transaction-network.csv', usecols=names, dtype=dtypes,  parse_dates=['block_timestamp'])\n",
    "# print statistics for each column of the dataframe\n",
    "for col in df.columns:\n",
    "    print(f\"Statistics for column {col}\")\n",
    "    print(df[col].describe())\n",
    "    # print the number of nans in the column\n",
    "    print(f\"Number of nans in column {col}: {df[col].isna().sum()}\")\n",
    "    print()"
   ]
  },
  {
   "cell_type": "code",
   "execution_count": null,
   "metadata": {},
   "outputs": [],
   "source": [
    "%load_ext autoreload\n",
    "%autoreload 2\n",
    "# add parent directory to the path\n",
    "import sys\n",
    "sys.path.append('../')\n",
    "from src.datasets import EthereumPhishingTransactions, EthereumPhishingNodes\n",
    "from src.datasets.util.mask import PretrainType\n",
    "import pandas as pd"
   ]
  },
  {
   "cell_type": "code",
   "execution_count": null,
   "metadata": {},
   "outputs": [],
   "source": [
    "dataset = EthereumPhishingTransactions(\n",
    "    root='/mnt/data/ethereum-phishing-transaction-network/ethereum-phishing-transaction-network-c.csv', \n",
    "    pretrain={PretrainType.MASK, PretrainType.LINK_PRED},\n",
    "    split_type='temporal',\n",
    "    \n",
    "    splits=[0.6, 0.2, 0.2], \n",
    "    khop_neighbors=[100, 100]\n",
    ")\n",
    "start = time.time()\n",
    "dataset.materialize()\n",
    "logger.info(f\"Dataset materialized in {time.time()-start} seconds.\")"
   ]
  },
  {
   "cell_type": "code",
   "execution_count": null,
   "metadata": {},
   "outputs": [],
   "source": [
    "nodes = EthereumPhishingNodes(root='/mnt/data/ethereum-phishing-transaction-network/nodes.csv')\n",
    "nodes.materialize()"
   ]
  },
  {
   "cell_type": "code",
   "execution_count": null,
   "metadata": {},
   "outputs": [],
   "source": [
    "from torch_frame.data import DataLoader\n",
    "train_dataset, val_dataset, test_dataset = nodes.split()\n",
    "tensor_frame = nodes.tensor_frame \n",
    "train_loader = DataLoader(train_dataset.tensor_frame, batch_size=2048, shuffle=True, num_workers=4)\n",
    "val_loader = DataLoader(val_dataset.tensor_frame, batch_size=2048, shuffle=False, num_workers=4)\n",
    "test_loader = DataLoader(test_dataset.tensor_frame, batch_size=2048, shuffle=False, num_workers=4)"
   ]
  },
  {
   "cell_type": "code",
   "execution_count": null,
   "metadata": {},
   "outputs": [],
   "source": [
    "batch = next(iter(train_loader))\n",
    "print(batch)\n",
    "print(batch.y)\n",
    "print(sum(batch.y))"
   ]
  },
  {
   "cell_type": "code",
   "execution_count": null,
   "metadata": {},
   "outputs": [],
   "source": [
    "df = pd.read_csv('/mnt/data/ethereum-phishing-transaction-network/dummy-c.csv')\n",
    "m = max(df['from_address'].max(), df['to_address'].max())\n",
    "dummynodes = pd.DataFrame({'node': range(m+1), 'label': 0})\n",
    "dummynodes.to_csv('/mnt/data/ethereum-phishing-transaction-network/dummy-nodes.csv', index=False)"
   ]
  },
  {
   "cell_type": "code",
   "execution_count": null,
   "metadata": {},
   "outputs": [],
   "source": [
    "edges = pd.read_csv('/mnt/data/ethereum-phishing-transaction-network/ethereum-phishing-transaction-network.csv')\n",
    "nodes= pd.read_csv('/mnt/data/ethereum-phishing-transaction-network/nodes.csv')"
   ]
  },
  {
   "cell_type": "code",
   "execution_count": null,
   "metadata": {},
   "outputs": [],
   "source": [
    "edges = pd.read_csv('/mnt/data/ethereum-phishing-transaction-network/dummy.csv')\n",
    "nodes= pd.read_csv('/mnt/data/ethereum-phishing-transaction-network/dummy-nodes.csv')"
   ]
  },
  {
   "cell_type": "code",
   "execution_count": null,
   "metadata": {},
   "outputs": [],
   "source": [
    "import pandas as pd\n",
    "\n",
    "# Assuming nodes and edges are pandas DataFrames\n",
    "\n",
    "# Get the first transaction timestamp for each from_address\n",
    "from_min_timestamp = edges.groupby('from_address')['block_timestamp'].min().reset_index()\n",
    "from_min_timestamp.columns = ['node', 'first_transaction']\n",
    "\n",
    "# Get the first transaction timestamp for each to_address\n",
    "to_min_timestamp = edges.groupby('to_address')['block_timestamp'].min().reset_index()\n",
    "to_min_timestamp.columns = ['node', 'first_transaction']\n",
    "\n",
    "# Concatenate both results and take the minimum timestamp for each node\n",
    "combined = pd.concat([from_min_timestamp, to_min_timestamp])\n",
    "\n",
    "# Group by node and take the earliest transaction\n",
    "first_transactions = combined.groupby('node')['first_transaction'].min().reset_index()\n",
    "\n",
    "# Merge with the nodes DataFrame\n",
    "nodes = nodes.merge(first_transactions, on='node', how='left')\n",
    "\n",
    "\n",
    "nodes.head()"
   ]
  },
  {
   "cell_type": "code",
   "execution_count": null,
   "metadata": {},
   "outputs": [],
   "source": [
    "# Save the result\n",
    "nodes.to_csv('/mnt/data/ethereum-phishing-transaction-network/dummy-nodes.csv', index=False)"
   ]
  },
  {
   "cell_type": "code",
   "execution_count": 32,
   "metadata": {},
   "outputs": [
    {
     "name": "stdout",
     "output_type": "stream",
     "text": [
      "0xfbb1b73c4f0bda4f67dca266ce6ef42f520fbb98\n"
     ]
    }
   ],
   "source": [
    "print(max_deg_address)"
   ]
  },
  {
   "cell_type": "code",
   "execution_count": null,
   "metadata": {},
   "outputs": [],
   "source": []
  },
  {
   "cell_type": "code",
   "execution_count": 44,
   "metadata": {},
   "outputs": [
    {
     "name": "stderr",
     "output_type": "stream",
     "text": [
      "2024-08-27 12:53:37 - DEBUG - Starting new HTTPS connection (1): api.etherscan.io:443\n",
      "2024-08-27 12:53:39 - DEBUG - https://api.etherscan.io:443 \"GET /api?module=account&action=txlist&address=0xfbb1b73c4f0bda4f67dca266ce6ef42f520fbb98&startblock=0&endblock=99999999&page=2&sort=asc&apikey=GKC6BUADY2UHP99QKRG4CSPZR3B13WVG3W HTTP/1.1\" 200 None\n"
     ]
    },
    {
     "name": "stdout",
     "output_type": "stream",
     "text": [
      "<Response [200]>\n",
      "dict_keys(['status', 'message', 'result'])\n",
      "1\n",
      "OK\n"
     ]
    }
   ],
   "source": [
    "import requests\n",
    "\n",
    "# Define the API endpoint and parameters\n",
    "url = \"https://api.etherscan.io/api\"\n",
    "params = {\n",
    "    \"module\": \"account\",\n",
    "    \"action\": \"txlist\",\n",
    "    \"address\": max_deg_address,\n",
    "    \"startblock\": 0,\n",
    "    \"endblock\": 99999999,\n",
    "    \"page\": 2,\n",
    "    # \"offset\": 10,\n",
    "    \"sort\": \"asc\",\n",
    "    \"apikey\": \"GKC6BUADY2UHP99QKRG4CSPZR3B13WVG3W\"  # Replace with your actual API key\n",
    "}\n",
    "\n",
    "# Send the GET request to the Etherscan API\n",
    "response = requests.get(url, params=params)\n",
    "print(response)\n",
    "\n",
    "# Check the status of the response and print the result\n",
    "if response.status_code == 200:\n",
    "    data = response.json()  # Parse the JSON response\n",
    "    print(data.keys())\n",
    "    print(data['status'])\n",
    "    print(data['message'])\n",
    "    df = pd.DataFrame(data['result'])\n",
    "else:\n",
    "    print(f\"Error: {response.status_code}\")\n",
    "\n"
   ]
  },
  {
   "cell_type": "code",
   "execution_count": 41,
   "metadata": {},
   "outputs": [
    {
     "name": "stdout",
     "output_type": "stream",
     "text": [
      "  blockNumber                                          blockHash   timeStamp  \\\n",
      "0       61558  0x6a734fa758d46b9916ef26d32b0bd8279d139133490e...  1439174352   \n",
      "1       61696  0x48788b654e284173a516fc814d8a56e20807db5ecf54...  1439176611   \n",
      "2       61835  0x50b1f309ba5efa185f6ceec265937f467328afd1cf99...  1439178989   \n",
      "3       64638  0x0969c970f65cc7b01f8b2d060cbaddf048d7d2409d67...  1439223994   \n",
      "4       65407  0x0b14125ff9fdb36bef8a566c1a3cf6aa1356a366b2f4...  1439236394   \n",
      "\n",
      "                                                hash nonce transactionIndex  \\\n",
      "0  0x1929132f5b00e59fb817cf37defb14bba19bb955a4fc...   141                0   \n",
      "1  0xa132135c879b733dec65d32c19db87a4762e5d281898...   142                1   \n",
      "2  0x56a07d54516a02a66b2a5e95f3cf5985815062dbb12a...     0                0   \n",
      "3  0xe5f3f47f1a8e607294f6ba52fb4ba6f89126171f49d4...   181                1   \n",
      "4  0x3dc804035ebfcfde8ac771b4c58f38bb4865fc8a03b2...     1                0   \n",
      "\n",
      "                                         from  \\\n",
      "0  0x32be343b94f860124dc4fee278fdcbd38c102d88   \n",
      "1  0x32be343b94f860124dc4fee278fdcbd38c102d88   \n",
      "2  0xfbb1b73c4f0bda4f67dca266ce6ef42f520fbb98   \n",
      "3  0x32be343b94f860124dc4fee278fdcbd38c102d88   \n",
      "4  0xfbb1b73c4f0bda4f67dca266ce6ef42f520fbb98   \n",
      "\n",
      "                                           to                 value    gas  \\\n",
      "0  0xfbb1b73c4f0bda4f67dca266ce6ef42f520fbb98   4990000000000000000  21000   \n",
      "1  0xfbb1b73c4f0bda4f67dca266ce6ef42f520fbb98  75828000010000007168  21000   \n",
      "2  0x4fdaebe9eac15eb5bc0170f6a36f19eaed75d8ef  69000000000000000000  90000   \n",
      "3  0xfbb1b73c4f0bda4f67dca266ce6ef42f520fbb98  69850000009999998976  21000   \n",
      "4  0xa1a111bc074c9cfa781f0c38e63bd51c91b8af00  69000000000000000000  90000   \n",
      "\n",
      "      gasPrice                                              input    methodId  \\\n",
      "0  55450098931                                                 0x          0x   \n",
      "1  54748961473                                                 0x          0x   \n",
      "2  55038988328  0x432ced04425452580000000000000000000000000000...  0x432ced04   \n",
      "3  57969429675                                                 0x          0x   \n",
      "4  55584765580  0x432ced04425452580000000000000000000000000000...  0x432ced04   \n",
      "\n",
      "             functionName contractAddress cumulativeGasUsed txreceipt_status  \\\n",
      "0                                                     21000                    \n",
      "1                                                     77829                    \n",
      "2  reserve(bytes32 _name)                             21656                    \n",
      "3                                                     42000                    \n",
      "4  reserve(bytes32 _name)                             43386                    \n",
      "\n",
      "  gasUsed confirmations isError  \n",
      "0   21000      20557867       0  \n",
      "1   21000      20557729       0  \n",
      "2   21656      20557590       0  \n",
      "3   21000      20554787       0  \n",
      "4   43386      20554018       0  \n",
      "10000\n"
     ]
    }
   ],
   "source": [
    "# data.result to a pandas dataframe\n",
    "print(df.head())\n",
    "print(len(df))"
   ]
  },
  {
   "cell_type": "code",
   "execution_count": 45,
   "metadata": {},
   "outputs": [
    {
     "name": "stdout",
     "output_type": "stream",
     "text": [
      "  blockNumber                                          blockHash   timeStamp  \\\n",
      "0       61558  0x6a734fa758d46b9916ef26d32b0bd8279d139133490e...  1439174352   \n",
      "1       61696  0x48788b654e284173a516fc814d8a56e20807db5ecf54...  1439176611   \n",
      "2       61835  0x50b1f309ba5efa185f6ceec265937f467328afd1cf99...  1439178989   \n",
      "3       64638  0x0969c970f65cc7b01f8b2d060cbaddf048d7d2409d67...  1439223994   \n",
      "4       65407  0x0b14125ff9fdb36bef8a566c1a3cf6aa1356a366b2f4...  1439236394   \n",
      "\n",
      "                                                hash nonce transactionIndex  \\\n",
      "0  0x1929132f5b00e59fb817cf37defb14bba19bb955a4fc...   141                0   \n",
      "1  0xa132135c879b733dec65d32c19db87a4762e5d281898...   142                1   \n",
      "2  0x56a07d54516a02a66b2a5e95f3cf5985815062dbb12a...     0                0   \n",
      "3  0xe5f3f47f1a8e607294f6ba52fb4ba6f89126171f49d4...   181                1   \n",
      "4  0x3dc804035ebfcfde8ac771b4c58f38bb4865fc8a03b2...     1                0   \n",
      "\n",
      "                                         from  \\\n",
      "0  0x32be343b94f860124dc4fee278fdcbd38c102d88   \n",
      "1  0x32be343b94f860124dc4fee278fdcbd38c102d88   \n",
      "2  0xfbb1b73c4f0bda4f67dca266ce6ef42f520fbb98   \n",
      "3  0x32be343b94f860124dc4fee278fdcbd38c102d88   \n",
      "4  0xfbb1b73c4f0bda4f67dca266ce6ef42f520fbb98   \n",
      "\n",
      "                                           to                 value    gas  \\\n",
      "0  0xfbb1b73c4f0bda4f67dca266ce6ef42f520fbb98   4990000000000000000  21000   \n",
      "1  0xfbb1b73c4f0bda4f67dca266ce6ef42f520fbb98  75828000010000007168  21000   \n",
      "2  0x4fdaebe9eac15eb5bc0170f6a36f19eaed75d8ef  69000000000000000000  90000   \n",
      "3  0xfbb1b73c4f0bda4f67dca266ce6ef42f520fbb98  69850000009999998976  21000   \n",
      "4  0xa1a111bc074c9cfa781f0c38e63bd51c91b8af00  69000000000000000000  90000   \n",
      "\n",
      "      gasPrice                                              input    methodId  \\\n",
      "0  55450098931                                                 0x          0x   \n",
      "1  54748961473                                                 0x          0x   \n",
      "2  55038988328  0x432ced04425452580000000000000000000000000000...  0x432ced04   \n",
      "3  57969429675                                                 0x          0x   \n",
      "4  55584765580  0x432ced04425452580000000000000000000000000000...  0x432ced04   \n",
      "\n",
      "             functionName contractAddress cumulativeGasUsed txreceipt_status  \\\n",
      "0                                                     21000                    \n",
      "1                                                     77829                    \n",
      "2  reserve(bytes32 _name)                             21656                    \n",
      "3                                                     42000                    \n",
      "4  reserve(bytes32 _name)                             43386                    \n",
      "\n",
      "  gasUsed confirmations isError  \n",
      "0   21000      20557891       0  \n",
      "1   21000      20557753       0  \n",
      "2   21656      20557614       0  \n",
      "3   21000      20554811       0  \n",
      "4   43386      20554042       0  \n",
      "10000\n"
     ]
    }
   ],
   "source": [
    "# data.result to a pandas dataframe\n",
    "print(df.head())\n",
    "print(len(df))"
   ]
  },
  {
   "cell_type": "code",
   "execution_count": 28,
   "metadata": {},
   "outputs": [],
   "source": [
    "\n",
    "# File path\n",
    "file_path = '/mnt/data/ethereum-phishing-transaction-network/lol.csv'\n",
    "# Check if the file exists, then decide whether to write the header\n",
    "if os.path.exists(file_path):\n",
    "    df.to_csv(file_path, mode='a', index=False, header=False)\n",
    "else:\n",
    "    df.to_csv(file_path, mode='w', index=False, header=True)"
   ]
  }
 ],
 "metadata": {
  "kernelspec": {
   "display_name": "rel-mm",
   "language": "python",
   "name": "python3"
  },
  "language_info": {
   "codemirror_mode": {
    "name": "ipython",
    "version": 3
   },
   "file_extension": ".py",
   "mimetype": "text/x-python",
   "name": "python",
   "nbconvert_exporter": "python",
   "pygments_lexer": "ipython3",
   "version": "3.10.14"
  }
 },
 "nbformat": 4,
 "nbformat_minor": 2
}
