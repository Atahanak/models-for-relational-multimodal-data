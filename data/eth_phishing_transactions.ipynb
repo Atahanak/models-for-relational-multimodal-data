{
 "cells": [
  {
   "cell_type": "code",
   "execution_count": 18,
   "metadata": {},
   "outputs": [],
   "source": [
    "import logging\n",
    "# Configure logging\n",
    "logging.basicConfig(\n",
    "    level=logging.DEBUG,  # Set the logging level\n",
    "    format='%(asctime)s - %(levelname)s - %(message)s',  # Specify the log message format\n",
    "    datefmt='%Y-%m-%d %H:%M:%S',  # Specify the date format\n",
    "    handlers=[\n",
    "        #logging.FileHandler('app.log'),  # Log messages to a file\n",
    "        logging.StreamHandler()  # Also output log messages to the console\n",
    "    ]\n",
    ")\n",
    "logger = logging.getLogger(__name__)\n",
    "import pickle \n",
    "import networkx as nx\n",
    "import time\n",
    "from datetime import datetime, timezone\n",
    "import os\n",
    "import sys\n",
    "import pandas as pd"
   ]
  },
  {
   "cell_type": "code",
   "execution_count": 21,
   "metadata": {},
   "outputs": [
    {
     "name": "stderr",
     "output_type": "stream",
     "text": [
      "2024-08-07 10:56:15 - INFO - Loading the graph\n",
      "2024-08-07 10:56:37 - INFO - Graph loaded in 21.547139883041382 seconds.\n",
      "2024-08-07 10:56:37 - INFO - Number of nodes: 2973489\n",
      "2024-08-07 10:56:40 - INFO - Number of edges: 13551303\n",
      "2024-08-07 10:56:40 - INFO - Saving nodes and their labels to a csv\n"
     ]
    }
   ],
   "source": [
    "\"\"\"The data stored in pickle format with version: 0.7.5 (python 3.7).\n",
    "The type of graph object：networkx.classes.multidigraph.MultiDiGraph\n",
    "Numbers of nodes: 2973489\n",
    "Numbers of edges: 13551303\n",
    "Average degree:   4.5574\n",
    "Nodes' features：\n",
    "    // The label. 1 means fishing mark node, otherwise 0.\n",
    "    G.nodes[nodeName]['isp']；\n",
    "\n",
    "Edges' features:\n",
    "    G[node1][node2][0]['amount']        // The amount mount of the transaction.\n",
    "    G[node1][node2][0]['timestamp']     // The timestamp of the transaction.\t\t\t\t\n",
    "\t\t\t\t\t\t\t\n",
    "* Notes * \n",
    "\"\"\"\n",
    "\n",
    "\n",
    "\n",
    "def load_pickle(fname):\n",
    "    with open(fname, 'rb') as f:\n",
    "        return pickle.load(f)\n",
    "logger.info(\"Loading the graph\")\n",
    "start = time.time()\n",
    "G = load_pickle('/mnt/data/ethereum-phishing-transaction-network/MulDiGraph.pkl')\n",
    "logger.info(f\"Graph loaded in {time.time()-start} seconds.\")\n",
    "logger.info(f'Number of nodes: {G.number_of_nodes()}')\n",
    "logger.info(f'Number of edges: {G.number_of_edges()}')\n",
    "\n",
    "\n",
    "# save nodes and their labels to a csv\n",
    "logger.info(\"Saving nodes and their labels to a csv\")\n",
    "start = time.time()\n",
    "nodes = []\n",
    "labels = []\n",
    "for node in G.nodes():\n",
    "    nodes.append(node)\n",
    "    labels.append(G.nodes[node]['isp'])\n",
    "dfnodes = pd.DataFrame({'node': nodes, 'label': labels})"
   ]
  },
  {
   "cell_type": "code",
   "execution_count": 1,
   "metadata": {},
   "outputs": [
    {
     "name": "stderr",
     "output_type": "stream",
     "text": [
      "2024-07-19 16:24:58 - INFO - Loading the graph\n",
      "2024-07-19 16:25:13 - INFO - Graph loaded in 14.575936079025269 seconds.\n",
      "2024-07-19 16:25:13 - INFO - Number of nodes: 2973489\n",
      "2024-07-19 16:25:15 - INFO - Number of edges: 13551303\n",
      "2024-07-19 16:25:15 - INFO - Processing the graph\n",
      "2024-07-19 16:25:28 - INFO - Graph processed in 12.854514837265015 seconds.\n",
      "2024-07-19 16:25:28 - INFO - Number of unique transactions: 5355155\n",
      "2024-07-19 16:25:28 - INFO - An element from uniq: ('0x8b2d16de6c99ea66e8d93a256cb3105d6e2a3ad9', '0xf8c595d070d104377f58715ce2e6c93e49a87f3c', 1532624554.0)\n",
      "2024-07-19 16:25:28 - INFO - Minimum timestamp: 2015-08-07 07:01:09\n",
      "2024-07-19 16:25:28 - INFO - Maximum timestamp: 2019-01-19 09:32:09\n"
     ]
    }
   ],
   "source": [
    "logger.info(\"Processing the graph\")\n",
    "uniq = set()\n",
    "start = time.time()\n",
    "min_time = 1e20\n",
    "max_time = 0\n",
    "from_address = []\n",
    "to_address = []\n",
    "time_stamps = []\n",
    "amounts = []\n",
    "\n",
    "for ind, edge in enumerate(nx.edges(G)):\n",
    "    (u, v) = edge\n",
    "    eg = G[u][v][0]\n",
    "    amo, tim = eg['amount'], eg['timestamp']\n",
    "    uniq.add((u, v, tim))\n",
    "    #uniq.add((u, v, amo, tim))\n",
    "    min_time = min(min_time, tim)\n",
    "    max_time = max(max_time, tim)\n",
    "min_time = time.strftime('%Y-%m-%d %H:%M:%S', time.localtime(min_time))\n",
    "max_time = time.strftime('%Y-%m-%d %H:%M:%S', time.localtime(max_time))\n",
    "# print(min_time, max_time)\n",
    "# print(len(uniq))\n",
    "logger.info(f\"Graph processed in {time.time()-start} seconds.\")\n",
    "logger.info(f'Number of unique transactions: {len(uniq)}')\n",
    "#print an element from uniq\n",
    "logger.info(f\"An element from uniq: {list(uniq)[0]}\")\n",
    "logger.info(f'Minimum timestamp: {min_time}')\n",
    "logger.info(f'Maximum timestamp: {max_time}')"
   ]
  },
  {
   "cell_type": "code",
   "execution_count": 2,
   "metadata": {},
   "outputs": [
    {
     "name": "stdout",
     "output_type": "stream",
     "text": [
      "Read 5256894 transactions from the csv\n",
      "A row from the dataframe: from_address       0xc3d9c17d7f6988c0fe7ebe929c47efccbd92be13\n",
      "to_address         0x0d64b06929f797d641064521705714498618fe1e\n",
      "block_timestamp                                  1494731739.0\n",
      "Name: 0, dtype: object\n"
     ]
    },
    {
     "name": "stderr",
     "output_type": "stream",
     "text": [
      "/tmp/ipykernel_3972980/1141260626.py:15: FutureWarning: Series.view is deprecated and will be removed in a future version. Use ``astype`` as an alternative to change the dtype.\n",
      "  df['block_timestamp'] = pd.to_datetime(df['block_timestamp']).view('int64') / 10**9\n"
     ]
    }
   ],
   "source": [
    "import os\n",
    "transactions_path = '/mnt/data/ethereum-phishing-transaction-network/transactions-c.csv'\n",
    "if os.path.exists(transactions_path):\n",
    "    columns_to_read = ['from_address', 'to_address', 'value', 'block_timestamp']\n",
    "    columns_to_read = ['from_address', 'to_address', 'block_timestamp']\n",
    "    dtype_dict = {\n",
    "        'from_address': 'str',\n",
    "        'to_address': 'str',\n",
    "        #'value': 'str',\n",
    "        'block_timestamp': 'str'  # assuming block_timestamp is initially read as string\n",
    "    }\n",
    "    df = pd.read_csv(transactions_path, usecols=columns_to_read, dtype=dtype_dict) \n",
    "    print(f\"Read {len(df)} transactions from the csv\")\n",
    "    #df['value'] = df['value'].astype(float)\n",
    "    df['block_timestamp'] = pd.to_datetime(df['block_timestamp']).view('int64') / 10**9\n",
    "    # print a row of the dataframe\n",
    "    print(f\"A row from the dataframe: {df.iloc[0]}\")\n",
    "    #exists = set(zip(df['from_address'], df['to_address'], df['value'], df['block_timestamp']))\n",
    "    exists = set(zip(df['from_address'], df['to_address'], df['block_timestamp']))\n",
    "    diff = uniq - exists"
   ]
  },
  {
   "cell_type": "code",
   "execution_count": 3,
   "metadata": {},
   "outputs": [
    {
     "name": "stdout",
     "output_type": "stream",
     "text": [
      "Number of transactions in the csv:  5242514\n",
      "Number of transactions in the graph but not in the csv:  136344\n",
      "Number of transactions in the csv but not in the graph:  23703\n"
     ]
    }
   ],
   "source": [
    "# compare the transactions in the graph with the transactions in the csv\n",
    "print(\"Number of transactions in the csv: \", len(exists))\n",
    "print(\"Number of transactions in the graph but not in the csv: \", len(diff))\n",
    "print(\"Number of transactions in the csv but not in the graph: \", len(exists - uniq))"
   ]
  },
  {
   "cell_type": "code",
   "execution_count": 4,
   "metadata": {},
   "outputs": [
    {
     "name": "stdout",
     "output_type": "stream",
     "text": [
      "Number of nodes in the graph: 2973489\n",
      "Number of nodes in the csv: 2890207\n",
      "Number of nodes in the graph but not in the csv: 83282\n",
      "Number of nodes in the csv but not in the graph: 0\n",
      "Percentage of labels in the graph but not in the csv: 7.204437933767201e-05\n",
      "Ilicit missing nodes 6\n"
     ]
    }
   ],
   "source": [
    "# compare the nodes in the graph with the from_address and to_address in the csv\n",
    "nodes = set(G.nodes())\n",
    "from_addresses = set(df['from_address'])\n",
    "to_addresses = set(df['to_address'])\n",
    "csv_nodes = from_addresses.union(to_addresses)\n",
    "print(f\"Number of nodes in the graph: {len(nodes)}\")\n",
    "print(f\"Number of nodes in the csv: {len(csv_nodes)}\")\n",
    "print(f\"Number of nodes in the graph but not in the csv: {len(nodes - csv_nodes)}\")\n",
    "print(f\"Number of nodes in the csv but not in the graph: {len(csv_nodes - nodes)}\")\n",
    "# what is the percentage of labels of the nodes in the graph but not in the csv\n",
    "labels = [G.nodes[node]['isp'] for node in (nodes - csv_nodes)]\n",
    "print(f\"Percentage of labels in the graph but not in the csv: {sum(labels)/len(labels)}\")\n",
    "print(f\"Ilicit missing nodes {sum(labels)}\")\n"
   ]
  },
  {
   "cell_type": "code",
   "execution_count": 31,
   "metadata": {},
   "outputs": [],
   "source": [
    "transactions_path = '/mnt/data/ethereum-phishing-transaction-network/transactions.csv'\n",
    "names = [\n",
    "    'nonce',\n",
    "    'from_address',\n",
    "    'to_address',\n",
    "    'transaction_index',\n",
    "    'value',\n",
    "    'gas',\n",
    "    'gas_price',\n",
    "    #'receipt_status',\n",
    "    'block_timestamp',\n",
    "    # 'phishing',\n",
    "]\n",
    "dtypes = {\n",
    "    'nonce': 'float64',\n",
    "    'from_address': 'str',\n",
    "    'to_address': 'str',\n",
    "    'transaction_index': 'category',\n",
    "    'value': 'float64',\n",
    "    'gas': 'float64',\n",
    "    'gas_price': 'float64',\n",
    "    #'receipt_status': 'category',\n",
    "}\n",
    "import numpy as np\n",
    "# Define converter function\n",
    "def to_float_or_nan(value):\n",
    "    try:\n",
    "        return float(value)\n",
    "    except ValueError:\n",
    "        return np.nan\n",
    "df = pd.read_csv(transactions_path, usecols=names, dtype=dtypes, parse_dates=['block_timestamp'], converters={'receipt_gas_used': to_float_or_nan})\n",
    "# print statistics for each column of the dataframe\n",
    "for col in df.columns:\n",
    "    print(f\"Statistics for column {col}\")\n",
    "    print(df[col].describe())\n",
    "    # print the number of nans in the column\n",
    "    print(f\"Number of nans in column {col}: {df[col].isna().sum()}\")\n",
    "    print()"
   ]
  },
  {
   "cell_type": "code",
   "execution_count": 30,
   "metadata": {},
   "outputs": [
    {
     "data": {
      "text/plain": [
       "<Axes: >"
      ]
     },
     "execution_count": 30,
     "metadata": {},
     "output_type": "execute_result"
    },
    {
     "data": {
      "image/png": "[encoded data removed]",
      "text/plain": [
       "<Figure size 640x480 with 1 Axes>"
      ]
     },
     "metadata": {},
     "output_type": "display_data"
    }
   ],
   "source": [
    "df['gas_price'].hist(bins=100)"
   ]
  },
  {
   "cell_type": "code",
   "execution_count": 31,
   "metadata": {},
   "outputs": [
    {
     "data": {
      "text/plain": [
       "<Axes: >"
      ]
     },
     "execution_count": 31,
     "metadata": {},
     "output_type": "execute_result"
    },
    {
     "data": {
      "image/png": "[encoded data removed]",
      "text/plain": [
       "<Figure size 640x480 with 1 Axes>"
      ]
     },
     "metadata": {},
     "output_type": "display_data"
    }
   ],
   "source": [
    "np.log1p(df['gas_price']).hist(bins=100)"
   ]
  },
  {
   "cell_type": "code",
   "execution_count": 19,
   "metadata": {},
   "outputs": [
    {
     "name": "stdout",
     "output_type": "stream",
     "text": [
      "nonce\n",
      "transaction_index\n",
      "from_address\n",
      "to_address\n",
      "value\n",
      "gas\n",
      "gas_price\n",
      "block_timestamp\n"
     ]
    }
   ],
   "source": [
    "import numpy as np\n",
    "# renumber from_address and to_address starting from 0 and update the dataframe\n",
    "unique_ids = pd.concat([df['from_address'], df['to_address']]).unique()\n",
    "# create a mapping from the original ID to a new ID\n",
    "id_map = {old_id: new_id for new_id, old_id in enumerate(unique_ids)}\n",
    "# replace the original IDs with the new IDs\n",
    "df['from_address'] = df['from_address'].apply(lambda x: id_map[x])\n",
    "df['to_address'] = df['to_address'].apply(lambda x: id_map[x])\n",
    "# convert timestamp to UNIX\n",
    "df['block_timestamp'] = pd.to_datetime(df['block_timestamp']).astype('int64') / 10**9\n",
    "#remove nodes that are not in the transactions\n",
    "dfnodes = dfnodes[dfnodes['node'].isin(unique_ids)]\n",
    "dfnodes['node'] = dfnodes['node'].apply(lambda x: id_map[x])\n",
    "\n",
    "# normalize numerical columns\n",
    "for col in df.columns:\n",
    "    print(col)\n",
    "    if col in ['from_address', 'to_address', 'phishing', 'receipt_status', 'block_timestamp', 'transaction_index']:\n",
    "        continue\n",
    "    df[col] = np.log1p(df[col])\n",
    "    df[col] = (df[col] - df[col].min()) / (df[col].max() - df[col].min())"
   ]
  },
  {
   "cell_type": "code",
   "execution_count": 20,
   "metadata": {},
   "outputs": [
    {
     "name": "stdout",
     "output_type": "stream",
     "text": [
      "['0xc3d9c17d7f6988c0fe7ebe929c47efccbd92be13'\n",
      " '0xa95350d70b18fa29f6b5eb8d627ceeeee499340d'\n",
      " '0x923f9e3a6348de0583c91c842aa10e713e2e6f20'\n",
      " '0x4c34ae54dc716808e94af3d1d638b8ea3a23fa9b'\n",
      " '0x3f5ce5fbfe3e9af3971dd833d26ba9b5c936f0be'\n",
      " '0x2fb63188a04661212b657fd0173f9a58be9ed452'\n",
      " '0xcdbf91f5447b17744273a8baae8d40d06b5d0a0d'\n",
      " '0xb295f54ada59a2d41033cb019d10314e49b1ab69'\n",
      " '0xd95772178ad239f7348798cd61f2c6b41f69e5d9'\n",
      " '0x3261b3e1e4da997e6c0493c0f5059f254d8cd831']\n"
     ]
    }
   ],
   "source": [
    "print(unique_ids[:10])"
   ]
  },
  {
   "cell_type": "code",
   "execution_count": 23,
   "metadata": {},
   "outputs": [
    {
     "name": "stdout",
     "output_type": "stream",
     "text": [
      "      node  label\n",
      "0     2576      0\n",
      "1  1720430      0\n",
      "2  2409198      1\n",
      "3  1597191      0\n",
      "4    17867      0\n"
     ]
    },
    {
     "data": {
      "text/plain": [
       "2890207"
      ]
     },
     "execution_count": 23,
     "metadata": {},
     "output_type": "execute_result"
    }
   ],
   "source": [
    "print(dfnodes.head())\n",
    "len(dfnodes)"
   ]
  },
  {
   "cell_type": "code",
   "execution_count": 22,
   "metadata": {},
   "outputs": [],
   "source": [
    "# save the dataframe to a csv file\n",
    "# if not os.path.exists('/mnt/data/ethereum-phishing-transaction-network/ethereum-phishing-transaction-network.csv'):\n",
    "dfnodes.to_csv('/mnt/data/ethereum-phishing-transaction-network/nodes.csv', index=False)\n",
    "df.to_csv('/mnt/data/ethereum-phishing-transaction-network/ethereum-phishing-transaction-network.csv', index=False)"
   ]
  },
  {
   "cell_type": "code",
   "execution_count": 24,
   "metadata": {},
   "outputs": [
    {
     "name": "stderr",
     "output_type": "stream",
     "text": [
      "/tmp/ipykernel_3983762/2379292951.py:23: UserWarning: Could not infer format, so each element will be parsed individually, falling back to `dateutil`. To ensure parsing is consistent and as-expected, please specify a format.\n",
      "  df = pd.read_csv('/mnt/data/ethereum-phishing-transaction-network/ethereum-phishing-transaction-network.csv', usecols=names, dtype=dtypes,  parse_dates=['block_timestamp'])\n"
     ]
    },
    {
     "name": "stdout",
     "output_type": "stream",
     "text": [
      "Statistics for column nonce\n",
      "count    5.483921e+06\n",
      "mean     1.950655e-01\n",
      "std      1.724360e-01\n",
      "min      0.000000e+00\n",
      "25%      4.159354e-02\n",
      "50%      1.625014e-01\n",
      "75%      2.939037e-01\n",
      "max      1.000000e+00\n",
      "Name: nonce, dtype: float64\n",
      "Number of nans in column nonce: 0\n",
      "\n",
      "Statistics for column from_address\n",
      "count     5483921\n",
      "unique    2091826\n",
      "top           158\n",
      "freq        12773\n",
      "Name: from_address, dtype: object\n",
      "Number of nans in column from_address: 0\n",
      "\n",
      "Statistics for column to_address\n",
      "count     5483921\n",
      "unique    1032475\n",
      "top       2092442\n",
      "freq        11908\n",
      "Name: to_address, dtype: object\n",
      "Number of nans in column to_address: 0\n",
      "\n",
      "Statistics for column value\n",
      "count    5.483921e+06\n",
      "mean     3.032659e-01\n",
      "std      3.610645e-01\n",
      "min      0.000000e+00\n",
      "25%      0.000000e+00\n",
      "50%      0.000000e+00\n",
      "75%      7.243911e-01\n",
      "max      1.000000e+00\n",
      "Name: value, dtype: float64\n",
      "Number of nans in column value: 0\n",
      "\n",
      "Statistics for column gas\n",
      "count    5.483921e+06\n",
      "mean     1.947506e-01\n",
      "std      1.438541e-01\n",
      "min      0.000000e+00\n",
      "25%      9.459164e-02\n",
      "50%      1.766544e-01\n",
      "75%      2.637299e-01\n",
      "max      1.000000e+00\n",
      "Name: gas, dtype: float64\n",
      "Number of nans in column gas: 0\n",
      "\n",
      "Statistics for column gas_price\n",
      "count    5.483921e+06\n",
      "mean     6.686790e-01\n",
      "std      4.022371e-02\n",
      "min      0.000000e+00\n",
      "25%      6.384569e-01\n",
      "50%      6.839806e-01\n",
      "75%      6.956729e-01\n",
      "max      1.000000e+00\n",
      "Name: gas_price, dtype: float64\n",
      "Number of nans in column gas_price: 0\n",
      "\n",
      "Statistics for column block_timestamp\n",
      "count          5483921\n",
      "unique         1831209\n",
      "top       1514445941.0\n",
      "freq               386\n",
      "Name: block_timestamp, dtype: object\n",
      "Number of nans in column block_timestamp: 0\n",
      "\n"
     ]
    }
   ],
   "source": [
    "names = [\n",
    "    'nonce',\n",
    "    'from_address',\n",
    "    'to_address',\n",
    "    #'transaction_index',\n",
    "    'value',\n",
    "    'gas',\n",
    "    'gas_price',\n",
    "    #'receipt_status',\n",
    "    'block_timestamp',\n",
    "    # 'phishing',\n",
    "]\n",
    "dtypes = {\n",
    "    'nonce': 'float64',\n",
    "    'from_address': 'str',\n",
    "    'to_address': 'str',\n",
    "    'transaction_index': 'category',\n",
    "    'value': 'float64',\n",
    "    'gas': 'float64',\n",
    "    'gas_price': 'float64',\n",
    "    #'receipt_status': 'category',\n",
    "}\n",
    "df = pd.read_csv('/mnt/data/ethereum-phishing-transaction-network/ethereum-phishing-transaction-network.csv', usecols=names, dtype=dtypes,  parse_dates=['block_timestamp'])\n",
    "# print statistics for each column of the dataframe\n",
    "for col in df.columns:\n",
    "    print(f\"Statistics for column {col}\")\n",
    "    print(df[col].describe())\n",
    "    # print the number of nans in the column\n",
    "    print(f\"Number of nans in column {col}: {df[col].isna().sum()}\")\n",
    "    print()"
   ]
  },
  {
   "cell_type": "code",
   "execution_count": 2,
   "metadata": {},
   "outputs": [
    {
     "name": "stdout",
     "output_type": "stream",
     "text": [
      "The autoreload extension is already loaded. To reload it, use:\n",
      "  %reload_ext autoreload\n"
     ]
    }
   ],
   "source": [
    "%load_ext autoreload\n",
    "%autoreload 2\n",
    "# add parent directory to the path\n",
    "import sys\n",
    "sys.path.append('../')\n",
    "from src.datasets import EthereumPhishingTransactions, EthereumPhishingNodes\n",
    "from src.datasets.util.mask import PretrainType\n",
    "import pandas as pd"
   ]
  },
  {
   "cell_type": "code",
   "execution_count": 8,
   "metadata": {},
   "outputs": [
    {
     "ename": "ParserError",
     "evalue": "Error tokenizing data. C error: Calling read(nbytes) on source failed. Try engine='python'.",
     "output_type": "error",
     "traceback": [
      "\u001b[0;31m---------------------------------------------------------------------------\u001b[0m",
      "\u001b[0;31mParserError\u001b[0m                               Traceback (most recent call last)",
      "Cell \u001b[0;32mIn[8], line 1\u001b[0m\n\u001b[0;32m----> 1\u001b[0m dataset \u001b[38;5;241m=\u001b[39m \u001b[43mEthereumPhishingTransactions\u001b[49m\u001b[43m(\u001b[49m\n\u001b[1;32m      2\u001b[0m \u001b[43m    \u001b[49m\u001b[43mroot\u001b[49m\u001b[38;5;241;43m=\u001b[39;49m\u001b[38;5;124;43m'\u001b[39;49m\u001b[38;5;124;43m/mnt/data/ethereum-phishing-transaction-network/ethereum-phishing-transaction-network-c.csv\u001b[39;49m\u001b[38;5;124;43m'\u001b[39;49m\u001b[43m,\u001b[49m\u001b[43m \u001b[49m\n\u001b[1;32m      3\u001b[0m \u001b[43m    \u001b[49m\u001b[43mpretrain\u001b[49m\u001b[38;5;241;43m=\u001b[39;49m\u001b[43m{\u001b[49m\u001b[43mPretrainType\u001b[49m\u001b[38;5;241;43m.\u001b[39;49m\u001b[43mMASK\u001b[49m\u001b[43m,\u001b[49m\u001b[43m \u001b[49m\u001b[43mPretrainType\u001b[49m\u001b[38;5;241;43m.\u001b[39;49m\u001b[43mLINK_PRED\u001b[49m\u001b[43m}\u001b[49m\u001b[43m,\u001b[49m\n\u001b[1;32m      4\u001b[0m \u001b[43m    \u001b[49m\u001b[43msplit_type\u001b[49m\u001b[38;5;241;43m=\u001b[39;49m\u001b[38;5;124;43m'\u001b[39;49m\u001b[38;5;124;43mtemporal\u001b[39;49m\u001b[38;5;124;43m'\u001b[39;49m\u001b[43m,\u001b[49m\n\u001b[1;32m      5\u001b[0m \u001b[43m    \u001b[49m\n\u001b[1;32m      6\u001b[0m \u001b[43m    \u001b[49m\u001b[43msplits\u001b[49m\u001b[38;5;241;43m=\u001b[39;49m\u001b[43m[\u001b[49m\u001b[38;5;241;43m0.6\u001b[39;49m\u001b[43m,\u001b[49m\u001b[43m \u001b[49m\u001b[38;5;241;43m0.2\u001b[39;49m\u001b[43m,\u001b[49m\u001b[43m \u001b[49m\u001b[38;5;241;43m0.2\u001b[39;49m\u001b[43m]\u001b[49m\u001b[43m,\u001b[49m\u001b[43m \u001b[49m\n\u001b[1;32m      7\u001b[0m \u001b[43m    \u001b[49m\u001b[43mkhop_neighbors\u001b[49m\u001b[38;5;241;43m=\u001b[39;49m\u001b[43m[\u001b[49m\u001b[38;5;241;43m100\u001b[39;49m\u001b[43m,\u001b[49m\u001b[43m \u001b[49m\u001b[38;5;241;43m100\u001b[39;49m\u001b[43m]\u001b[49m\n\u001b[1;32m      8\u001b[0m \u001b[43m)\u001b[49m\n\u001b[1;32m      9\u001b[0m start \u001b[38;5;241m=\u001b[39m time\u001b[38;5;241m.\u001b[39mtime()\n\u001b[1;32m     10\u001b[0m dataset\u001b[38;5;241m.\u001b[39mmaterialize()\n",
      "File \u001b[0;32m~/dev/models-for-relational-multimodal-data/data/../src/datasets/eth_phishing_transactions.py:90\u001b[0m, in \u001b[0;36mEthereumPhishingTransactions.__init__\u001b[0;34m(self, root, mask_type, pretrain, split_type, splits, khop_neighbors, ports)\u001b[0m\n\u001b[1;32m     65\u001b[0m names \u001b[38;5;241m=\u001b[39m [\n\u001b[1;32m     66\u001b[0m     \u001b[38;5;124m'\u001b[39m\u001b[38;5;124mnonce\u001b[39m\u001b[38;5;124m'\u001b[39m,\n\u001b[1;32m     67\u001b[0m     \u001b[38;5;124m'\u001b[39m\u001b[38;5;124mfrom_address\u001b[39m\u001b[38;5;124m'\u001b[39m,\n\u001b[0;32m   (...)\u001b[0m\n\u001b[1;32m     75\u001b[0m     \u001b[38;5;66;03m# 'phishing',\u001b[39;00m\n\u001b[1;32m     76\u001b[0m ]\n\u001b[1;32m     77\u001b[0m dtypes \u001b[38;5;241m=\u001b[39m {\n\u001b[1;32m     78\u001b[0m     \u001b[38;5;124m'\u001b[39m\u001b[38;5;124mnonce\u001b[39m\u001b[38;5;124m'\u001b[39m: \u001b[38;5;124m'\u001b[39m\u001b[38;5;124mfloat64\u001b[39m\u001b[38;5;124m'\u001b[39m,\n\u001b[1;32m     79\u001b[0m     \u001b[38;5;124m'\u001b[39m\u001b[38;5;124mfrom_address\u001b[39m\u001b[38;5;124m'\u001b[39m: \u001b[38;5;124m'\u001b[39m\u001b[38;5;124mfloat64\u001b[39m\u001b[38;5;124m'\u001b[39m,\n\u001b[0;32m   (...)\u001b[0m\n\u001b[1;32m     87\u001b[0m     \u001b[38;5;66;03m# 'phishing': 'category',\u001b[39;00m\n\u001b[1;32m     88\u001b[0m }\n\u001b[0;32m---> 90\u001b[0m \u001b[38;5;28mself\u001b[39m\u001b[38;5;241m.\u001b[39mdf \u001b[38;5;241m=\u001b[39m \u001b[43mpd\u001b[49m\u001b[38;5;241;43m.\u001b[39;49m\u001b[43mread_csv\u001b[49m\u001b[43m(\u001b[49m\u001b[43mroot\u001b[49m\u001b[43m,\u001b[49m\u001b[43m \u001b[49m\u001b[43mnames\u001b[49m\u001b[38;5;241;43m=\u001b[39;49m\u001b[43mnames\u001b[49m\u001b[43m,\u001b[49m\u001b[43m \u001b[49m\u001b[43mdtype\u001b[49m\u001b[38;5;241;43m=\u001b[39;49m\u001b[43mdtypes\u001b[49m\u001b[43m,\u001b[49m\u001b[43m \u001b[49m\u001b[43mheader\u001b[49m\u001b[38;5;241;43m=\u001b[39;49m\u001b[38;5;241;43m0\u001b[39;49m\u001b[43m)\u001b[49m         \n\u001b[1;32m     91\u001b[0m \u001b[38;5;28mself\u001b[39m\u001b[38;5;241m.\u001b[39mdf\u001b[38;5;241m.\u001b[39mreset_index(inplace\u001b[38;5;241m=\u001b[39m\u001b[38;5;28;01mTrue\u001b[39;00m)\n\u001b[1;32m     93\u001b[0m col_to_stype \u001b[38;5;241m=\u001b[39m {\n\u001b[1;32m     94\u001b[0m     \u001b[38;5;124m'\u001b[39m\u001b[38;5;124mnonce\u001b[39m\u001b[38;5;124m'\u001b[39m: torch_frame\u001b[38;5;241m.\u001b[39mnumerical,\n\u001b[1;32m     95\u001b[0m     \u001b[38;5;66;03m#'transaction_index': torch_frame.categorical,\u001b[39;00m\n\u001b[0;32m   (...)\u001b[0m\n\u001b[1;32m    100\u001b[0m     \u001b[38;5;124m'\u001b[39m\u001b[38;5;124mblock_timestamp\u001b[39m\u001b[38;5;124m'\u001b[39m: torch_frame\u001b[38;5;241m.\u001b[39mtimestamp,\n\u001b[1;32m    101\u001b[0m }\n",
      "File \u001b[0;32m/opt/miniconda3/envs/rel-mm/lib/python3.10/site-packages/pandas/io/parsers/readers.py:1026\u001b[0m, in \u001b[0;36mread_csv\u001b[0;34m(filepath_or_buffer, sep, delimiter, header, names, index_col, usecols, dtype, engine, converters, true_values, false_values, skipinitialspace, skiprows, skipfooter, nrows, na_values, keep_default_na, na_filter, verbose, skip_blank_lines, parse_dates, infer_datetime_format, keep_date_col, date_parser, date_format, dayfirst, cache_dates, iterator, chunksize, compression, thousands, decimal, lineterminator, quotechar, quoting, doublequote, escapechar, comment, encoding, encoding_errors, dialect, on_bad_lines, delim_whitespace, low_memory, memory_map, float_precision, storage_options, dtype_backend)\u001b[0m\n\u001b[1;32m   1013\u001b[0m kwds_defaults \u001b[38;5;241m=\u001b[39m _refine_defaults_read(\n\u001b[1;32m   1014\u001b[0m     dialect,\n\u001b[1;32m   1015\u001b[0m     delimiter,\n\u001b[0;32m   (...)\u001b[0m\n\u001b[1;32m   1022\u001b[0m     dtype_backend\u001b[38;5;241m=\u001b[39mdtype_backend,\n\u001b[1;32m   1023\u001b[0m )\n\u001b[1;32m   1024\u001b[0m kwds\u001b[38;5;241m.\u001b[39mupdate(kwds_defaults)\n\u001b[0;32m-> 1026\u001b[0m \u001b[38;5;28;01mreturn\u001b[39;00m \u001b[43m_read\u001b[49m\u001b[43m(\u001b[49m\u001b[43mfilepath_or_buffer\u001b[49m\u001b[43m,\u001b[49m\u001b[43m \u001b[49m\u001b[43mkwds\u001b[49m\u001b[43m)\u001b[49m\n",
      "File \u001b[0;32m/opt/miniconda3/envs/rel-mm/lib/python3.10/site-packages/pandas/io/parsers/readers.py:626\u001b[0m, in \u001b[0;36m_read\u001b[0;34m(filepath_or_buffer, kwds)\u001b[0m\n\u001b[1;32m    623\u001b[0m     \u001b[38;5;28;01mreturn\u001b[39;00m parser\n\u001b[1;32m    625\u001b[0m \u001b[38;5;28;01mwith\u001b[39;00m parser:\n\u001b[0;32m--> 626\u001b[0m     \u001b[38;5;28;01mreturn\u001b[39;00m \u001b[43mparser\u001b[49m\u001b[38;5;241;43m.\u001b[39;49m\u001b[43mread\u001b[49m\u001b[43m(\u001b[49m\u001b[43mnrows\u001b[49m\u001b[43m)\u001b[49m\n",
      "File \u001b[0;32m/opt/miniconda3/envs/rel-mm/lib/python3.10/site-packages/pandas/io/parsers/readers.py:1923\u001b[0m, in \u001b[0;36mTextFileReader.read\u001b[0;34m(self, nrows)\u001b[0m\n\u001b[1;32m   1916\u001b[0m nrows \u001b[38;5;241m=\u001b[39m validate_integer(\u001b[38;5;124m\"\u001b[39m\u001b[38;5;124mnrows\u001b[39m\u001b[38;5;124m\"\u001b[39m, nrows)\n\u001b[1;32m   1917\u001b[0m \u001b[38;5;28;01mtry\u001b[39;00m:\n\u001b[1;32m   1918\u001b[0m     \u001b[38;5;66;03m# error: \"ParserBase\" has no attribute \"read\"\u001b[39;00m\n\u001b[1;32m   1919\u001b[0m     (\n\u001b[1;32m   1920\u001b[0m         index,\n\u001b[1;32m   1921\u001b[0m         columns,\n\u001b[1;32m   1922\u001b[0m         col_dict,\n\u001b[0;32m-> 1923\u001b[0m     ) \u001b[38;5;241m=\u001b[39m \u001b[38;5;28;43mself\u001b[39;49m\u001b[38;5;241;43m.\u001b[39;49m\u001b[43m_engine\u001b[49m\u001b[38;5;241;43m.\u001b[39;49m\u001b[43mread\u001b[49m\u001b[43m(\u001b[49m\u001b[43m  \u001b[49m\u001b[38;5;66;43;03m# type: ignore[attr-defined]\u001b[39;49;00m\n\u001b[1;32m   1924\u001b[0m \u001b[43m        \u001b[49m\u001b[43mnrows\u001b[49m\n\u001b[1;32m   1925\u001b[0m \u001b[43m    \u001b[49m\u001b[43m)\u001b[49m\n\u001b[1;32m   1926\u001b[0m \u001b[38;5;28;01mexcept\u001b[39;00m \u001b[38;5;167;01mException\u001b[39;00m:\n\u001b[1;32m   1927\u001b[0m     \u001b[38;5;28mself\u001b[39m\u001b[38;5;241m.\u001b[39mclose()\n",
      "File \u001b[0;32m/opt/miniconda3/envs/rel-mm/lib/python3.10/site-packages/pandas/io/parsers/c_parser_wrapper.py:234\u001b[0m, in \u001b[0;36mCParserWrapper.read\u001b[0;34m(self, nrows)\u001b[0m\n\u001b[1;32m    232\u001b[0m \u001b[38;5;28;01mtry\u001b[39;00m:\n\u001b[1;32m    233\u001b[0m     \u001b[38;5;28;01mif\u001b[39;00m \u001b[38;5;28mself\u001b[39m\u001b[38;5;241m.\u001b[39mlow_memory:\n\u001b[0;32m--> 234\u001b[0m         chunks \u001b[38;5;241m=\u001b[39m \u001b[38;5;28;43mself\u001b[39;49m\u001b[38;5;241;43m.\u001b[39;49m\u001b[43m_reader\u001b[49m\u001b[38;5;241;43m.\u001b[39;49m\u001b[43mread_low_memory\u001b[49m\u001b[43m(\u001b[49m\u001b[43mnrows\u001b[49m\u001b[43m)\u001b[49m\n\u001b[1;32m    235\u001b[0m         \u001b[38;5;66;03m# destructive to chunks\u001b[39;00m\n\u001b[1;32m    236\u001b[0m         data \u001b[38;5;241m=\u001b[39m _concatenate_chunks(chunks)\n",
      "File \u001b[0;32mparsers.pyx:838\u001b[0m, in \u001b[0;36mpandas._libs.parsers.TextReader.read_low_memory\u001b[0;34m()\u001b[0m\n",
      "File \u001b[0;32mparsers.pyx:905\u001b[0m, in \u001b[0;36mpandas._libs.parsers.TextReader._read_rows\u001b[0;34m()\u001b[0m\n",
      "File \u001b[0;32mparsers.pyx:874\u001b[0m, in \u001b[0;36mpandas._libs.parsers.TextReader._tokenize_rows\u001b[0;34m()\u001b[0m\n",
      "File \u001b[0;32mparsers.pyx:891\u001b[0m, in \u001b[0;36mpandas._libs.parsers.TextReader._check_tokenize_status\u001b[0;34m()\u001b[0m\n",
      "File \u001b[0;32mparsers.pyx:2061\u001b[0m, in \u001b[0;36mpandas._libs.parsers.raise_parser_error\u001b[0;34m()\u001b[0m\n",
      "\u001b[0;31mParserError\u001b[0m: Error tokenizing data. C error: Calling read(nbytes) on source failed. Try engine='python'."
     ]
    }
   ],
   "source": [
    "dataset = EthereumPhishingTransactions(\n",
    "    root='/mnt/data/ethereum-phishing-transaction-network/ethereum-phishing-transaction-network-c.csv', \n",
    "    pretrain={PretrainType.MASK, PretrainType.LINK_PRED},\n",
    "    split_type='temporal',\n",
    "    \n",
    "    splits=[0.6, 0.2, 0.2], \n",
    "    khop_neighbors=[100, 100]\n",
    ")\n",
    "start = time.time()\n",
    "dataset.materialize()\n",
    "logger.info(f\"Dataset materialized in {time.time()-start} seconds.\")"
   ]
  },
  {
   "cell_type": "code",
   "execution_count": 9,
   "metadata": {},
   "outputs": [
    {
     "name": "stdout",
     "output_type": "stream",
     "text": [
      "Masked applied\n",
      "Tensor frame created\n"
     ]
    },
    {
     "data": {
      "text/plain": [
       "EthereumPhishingNodes()"
      ]
     },
     "execution_count": 9,
     "metadata": {},
     "output_type": "execute_result"
    }
   ],
   "source": [
    "nodes = EthereumPhishingNodes(root='/mnt/data/ethereum-phishing-transaction-network/nodes.csv')\n",
    "nodes.materialize()"
   ]
  },
  {
   "cell_type": "code",
   "execution_count": 14,
   "metadata": {},
   "outputs": [],
   "source": [
    "from torch_frame.data import DataLoader\n",
    "train_dataset, val_dataset, test_dataset = nodes.split()\n",
    "tensor_frame = nodes.tensor_frame \n",
    "train_loader = DataLoader(train_dataset.tensor_frame, batch_size=2048, shuffle=True, num_workers=4)\n",
    "val_loader = DataLoader(val_dataset.tensor_frame, batch_size=2048, shuffle=False, num_workers=4)\n",
    "test_loader = DataLoader(test_dataset.tensor_frame, batch_size=2048, shuffle=False, num_workers=4)"
   ]
  },
  {
   "cell_type": "code",
   "execution_count": 16,
   "metadata": {},
   "outputs": [
    {
     "name": "stdout",
     "output_type": "stream",
     "text": [
      "TensorFrame(\n",
      "  num_cols=1,\n",
      "  num_rows=2048,\n",
      "  numerical (1): ['node'],\n",
      "  has_target=True,\n",
      "  device='cpu',\n",
      ")\n",
      "tensor([0, 0, 0,  ..., 0, 0, 0])\n",
      "tensor(2)\n"
     ]
    }
   ],
   "source": [
    "batch = next(iter(train_loader))\n",
    "print(batch)\n",
    "print(batch.y)\n",
    "print(sum(batch.y))"
   ]
  },
  {
   "cell_type": "code",
   "execution_count": 27,
   "metadata": {},
   "outputs": [],
   "source": [
    "df = pd.read_csv('/mnt/data/ethereum-phishing-transaction-network/dummy-c.csv')\n",
    "m = max(df['from_address'].max(), df['to_address'].max())\n",
    "dummynodes = pd.DataFrame({'node': range(m+1), 'label': 0})\n",
    "dummynodes.to_csv('/mnt/data/ethereum-phishing-transaction-network/dummy-nodes.csv', index=False)"
   ]
  },
  {
   "cell_type": "code",
   "execution_count": 3,
   "metadata": {},
   "outputs": [],
   "source": [
    "edges = pd.read_csv('/mnt/data/ethereum-phishing-transaction-network/ethereum-phishing-transaction-network.csv')\n",
    "nodes= pd.read_csv('/mnt/data/ethereum-phishing-transaction-network/nodes.csv')"
   ]
  },
  {
   "cell_type": "code",
   "execution_count": 7,
   "metadata": {},
   "outputs": [],
   "source": [
    "edges = pd.read_csv('/mnt/data/ethereum-phishing-transaction-network/dummy.csv')\n",
    "nodes= pd.read_csv('/mnt/data/ethereum-phishing-transaction-network/dummy-nodes.csv')"
   ]
  },
  {
   "cell_type": "code",
   "execution_count": 8,
   "metadata": {},
   "outputs": [
    {
     "data": {
      "text/html": [
       "<div>\n",
       "<style scoped>\n",
       "    .dataframe tbody tr th:only-of-type {\n",
       "        vertical-align: middle;\n",
       "    }\n",
       "\n",
       "    .dataframe tbody tr th {\n",
       "        vertical-align: top;\n",
       "    }\n",
       "\n",
       "    .dataframe thead th {\n",
       "        text-align: right;\n",
       "    }\n",
       "</style>\n",
       "<table border=\"1\" class=\"dataframe\">\n",
       "  <thead>\n",
       "    <tr style=\"text-align: right;\">\n",
       "      <th></th>\n",
       "      <th>node</th>\n",
       "      <th>label</th>\n",
       "      <th>first_transaction</th>\n",
       "    </tr>\n",
       "  </thead>\n",
       "  <tbody>\n",
       "    <tr>\n",
       "      <th>0</th>\n",
       "      <td>0</td>\n",
       "      <td>0</td>\n",
       "      <td>1.494732e+09</td>\n",
       "    </tr>\n",
       "    <tr>\n",
       "      <th>1</th>\n",
       "      <td>1</td>\n",
       "      <td>0</td>\n",
       "      <td>1.497959e+09</td>\n",
       "    </tr>\n",
       "    <tr>\n",
       "      <th>2</th>\n",
       "      <td>2</td>\n",
       "      <td>0</td>\n",
       "      <td>1.507349e+09</td>\n",
       "    </tr>\n",
       "    <tr>\n",
       "      <th>3</th>\n",
       "      <td>3</td>\n",
       "      <td>0</td>\n",
       "      <td>1.507305e+09</td>\n",
       "    </tr>\n",
       "    <tr>\n",
       "      <th>4</th>\n",
       "      <td>4</td>\n",
       "      <td>0</td>\n",
       "      <td>1.502329e+09</td>\n",
       "    </tr>\n",
       "  </tbody>\n",
       "</table>\n",
       "</div>"
      ],
      "text/plain": [
       "   node  label  first_transaction\n",
       "0     0      0       1.494732e+09\n",
       "1     1      0       1.497959e+09\n",
       "2     2      0       1.507349e+09\n",
       "3     3      0       1.507305e+09\n",
       "4     4      0       1.502329e+09"
      ]
     },
     "execution_count": 8,
     "metadata": {},
     "output_type": "execute_result"
    }
   ],
   "source": [
    "import pandas as pd\n",
    "\n",
    "# Assuming nodes and edges are pandas DataFrames\n",
    "\n",
    "# Get the first transaction timestamp for each from_address\n",
    "from_min_timestamp = edges.groupby('from_address')['block_timestamp'].min().reset_index()\n",
    "from_min_timestamp.columns = ['node', 'first_transaction']\n",
    "\n",
    "# Get the first transaction timestamp for each to_address\n",
    "to_min_timestamp = edges.groupby('to_address')['block_timestamp'].min().reset_index()\n",
    "to_min_timestamp.columns = ['node', 'first_transaction']\n",
    "\n",
    "# Concatenate both results and take the minimum timestamp for each node\n",
    "combined = pd.concat([from_min_timestamp, to_min_timestamp])\n",
    "\n",
    "# Group by node and take the earliest transaction\n",
    "first_transactions = combined.groupby('node')['first_transaction'].min().reset_index()\n",
    "\n",
    "# Merge with the nodes DataFrame\n",
    "nodes = nodes.merge(first_transactions, on='node', how='left')\n",
    "\n",
    "\n",
    "nodes.head()"
   ]
  },
  {
   "cell_type": "code",
   "execution_count": 9,
   "metadata": {},
   "outputs": [],
   "source": [
    "# Save the result\n",
    "nodes.to_csv('/mnt/data/ethereum-phishing-transaction-network/dummy-nodes.csv', index=False)"
   ]
  }
 ],
 "metadata": {
  "kernelspec": {
   "display_name": "rel-mm",
   "language": "python",
   "name": "python3"
  },
  "language_info": {
   "codemirror_mode": {
    "name": "ipython",
    "version": 3
   },
   "file_extension": ".py",
   "mimetype": "text/x-python",
   "name": "python",
   "nbconvert_exporter": "python",
   "pygments_lexer": "ipython3",
   "version": "3.10.14"
  }
 },
 "nbformat": 4,
 "nbformat_minor": 2
}
