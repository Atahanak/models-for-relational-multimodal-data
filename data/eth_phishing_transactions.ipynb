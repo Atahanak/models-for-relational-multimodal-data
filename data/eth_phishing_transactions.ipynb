{
 "cells": [
  {
   "cell_type": "code",
   "execution_count": 2,
   "metadata": {},
   "outputs": [],
   "source": [
    "import logging\n",
    "# Configure logging\n",
    "logging.basicConfig(\n",
    "    level=logging.DEBUG,  # Set the logging level\n",
    "    format='%(asctime)s - %(levelname)s - %(message)s',  # Specify the log message format\n",
    "    datefmt='%Y-%m-%d %H:%M:%S',  # Specify the date format\n",
    "    handlers=[\n",
    "        #logging.FileHandler('app.log'),  # Log messages to a file\n",
    "        logging.StreamHandler()  # Also output log messages to the console\n",
    "    ]\n",
    ")\n",
    "logger = logging.getLogger(__name__)\n",
    "import pickle \n",
    "import networkx as nx\n",
    "import time\n",
    "from datetime import datetime, timezone\n",
    "import os\n",
    "import sys\n",
    "import pandas as pd"
   ]
  },
  {
   "cell_type": "code",
   "execution_count": 1,
   "metadata": {},
   "outputs": [
    {
     "name": "stderr",
     "output_type": "stream",
     "text": [
      "2024-07-19 16:24:58 - INFO - Loading the graph\n",
      "2024-07-19 16:25:13 - INFO - Graph loaded in 14.575936079025269 seconds.\n",
      "2024-07-19 16:25:13 - INFO - Number of nodes: 2973489\n",
      "2024-07-19 16:25:15 - INFO - Number of edges: 13551303\n",
      "2024-07-19 16:25:15 - INFO - Processing the graph\n",
      "2024-07-19 16:25:28 - INFO - Graph processed in 12.854514837265015 seconds.\n",
      "2024-07-19 16:25:28 - INFO - Number of unique transactions: 5355155\n",
      "2024-07-19 16:25:28 - INFO - An element from uniq: ('0x8b2d16de6c99ea66e8d93a256cb3105d6e2a3ad9', '0xf8c595d070d104377f58715ce2e6c93e49a87f3c', 1532624554.0)\n",
      "2024-07-19 16:25:28 - INFO - Minimum timestamp: 2015-08-07 07:01:09\n",
      "2024-07-19 16:25:28 - INFO - Maximum timestamp: 2019-01-19 09:32:09\n"
     ]
    }
   ],
   "source": [
    "\"\"\"The data stored in pickle format with version: 0.7.5 (python 3.7).\n",
    "The type of graph object：networkx.classes.multidigraph.MultiDiGraph\n",
    "Numbers of nodes: 2973489\n",
    "Numbers of edges: 13551303\n",
    "Average degree:   4.5574\n",
    "Nodes' features：\n",
    "    // The label. 1 means fishing mark node, otherwise 0.\n",
    "    G.nodes[nodeName]['isp']；\n",
    "\n",
    "Edges' features:\n",
    "    G[node1][node2][0]['amount']        // The amount mount of the transaction.\n",
    "    G[node1][node2][0]['timestamp']     // The timestamp of the transaction.\t\t\t\t\n",
    "\t\t\t\t\t\t\t\n",
    "* Notes * \n",
    "\"\"\"\n",
    "\n",
    "\n",
    "\n",
    "def load_pickle(fname):\n",
    "    with open(fname, 'rb') as f:\n",
    "        return pickle.load(f)\n",
    "logger.info(\"Loading the graph\")\n",
    "start = time.time()\n",
    "G = load_pickle('/mnt/data/ethereum-phishing-transaction-network/MulDiGraph.pkl')\n",
    "logger.info(f\"Graph loaded in {time.time()-start} seconds.\")\n",
    "logger.info(f'Number of nodes: {G.number_of_nodes()}')\n",
    "logger.info(f'Number of edges: {G.number_of_edges()}')\n",
    "\n",
    "logger.info(\"Processing the graph\")\n",
    "uniq = set()\n",
    "start = time.time()\n",
    "min_time = 1e20\n",
    "max_time = 0\n",
    "from_address = []\n",
    "to_address = []\n",
    "time_stamps = []\n",
    "amounts = []\n",
    "\n",
    "for ind, edge in enumerate(nx.edges(G)):\n",
    "    (u, v) = edge\n",
    "    eg = G[u][v][0]\n",
    "    amo, tim = eg['amount'], eg['timestamp']\n",
    "    uniq.add((u, v, tim))\n",
    "    #uniq.add((u, v, amo, tim))\n",
    "    min_time = min(min_time, tim)\n",
    "    max_time = max(max_time, tim)\n",
    "min_time = time.strftime('%Y-%m-%d %H:%M:%S', time.localtime(min_time))\n",
    "max_time = time.strftime('%Y-%m-%d %H:%M:%S', time.localtime(max_time))\n",
    "# print(min_time, max_time)\n",
    "# print(len(uniq))\n",
    "logger.info(f\"Graph processed in {time.time()-start} seconds.\")\n",
    "logger.info(f'Number of unique transactions: {len(uniq)}')\n",
    "#print an element from uniq\n",
    "logger.info(f\"An element from uniq: {list(uniq)[0]}\")\n",
    "logger.info(f'Minimum timestamp: {min_time}')\n",
    "logger.info(f'Maximum timestamp: {max_time}')"
   ]
  },
  {
   "cell_type": "code",
   "execution_count": 2,
   "metadata": {},
   "outputs": [
    {
     "name": "stdout",
     "output_type": "stream",
     "text": [
      "Read 5256894 transactions from the csv\n",
      "A row from the dataframe: from_address       0xc3d9c17d7f6988c0fe7ebe929c47efccbd92be13\n",
      "to_address         0x0d64b06929f797d641064521705714498618fe1e\n",
      "block_timestamp                                  1494731739.0\n",
      "Name: 0, dtype: object\n"
     ]
    },
    {
     "name": "stderr",
     "output_type": "stream",
     "text": [
      "/tmp/ipykernel_3972980/1141260626.py:15: FutureWarning: Series.view is deprecated and will be removed in a future version. Use ``astype`` as an alternative to change the dtype.\n",
      "  df['block_timestamp'] = pd.to_datetime(df['block_timestamp']).view('int64') / 10**9\n"
     ]
    }
   ],
   "source": [
    "import os\n",
    "transactions_path = '/mnt/data/ethereum-phishing-transaction-network/transactions-c.csv'\n",
    "if os.path.exists(transactions_path):\n",
    "    columns_to_read = ['from_address', 'to_address', 'value', 'block_timestamp']\n",
    "    columns_to_read = ['from_address', 'to_address', 'block_timestamp']\n",
    "    dtype_dict = {\n",
    "        'from_address': 'str',\n",
    "        'to_address': 'str',\n",
    "        #'value': 'str',\n",
    "        'block_timestamp': 'str'  # assuming block_timestamp is initially read as string\n",
    "    }\n",
    "    df = pd.read_csv(transactions_path, usecols=columns_to_read, dtype=dtype_dict) \n",
    "    print(f\"Read {len(df)} transactions from the csv\")\n",
    "    #df['value'] = df['value'].astype(float)\n",
    "    df['block_timestamp'] = pd.to_datetime(df['block_timestamp']).view('int64') / 10**9\n",
    "    # print a row of the dataframe\n",
    "    print(f\"A row from the dataframe: {df.iloc[0]}\")\n",
    "    #exists = set(zip(df['from_address'], df['to_address'], df['value'], df['block_timestamp']))\n",
    "    exists = set(zip(df['from_address'], df['to_address'], df['block_timestamp']))\n",
    "    diff = uniq - exists"
   ]
  },
  {
   "cell_type": "code",
   "execution_count": 3,
   "metadata": {},
   "outputs": [
    {
     "name": "stdout",
     "output_type": "stream",
     "text": [
      "Number of transactions in the csv:  5242514\n",
      "Number of transactions in the graph but not in the csv:  136344\n",
      "Number of transactions in the csv but not in the graph:  23703\n"
     ]
    }
   ],
   "source": [
    "# compare the transactions in the graph with the transactions in the csv\n",
    "print(\"Number of transactions in the csv: \", len(exists))\n",
    "print(\"Number of transactions in the graph but not in the csv: \", len(diff))\n",
    "print(\"Number of transactions in the csv but not in the graph: \", len(exists - uniq))"
   ]
  },
  {
   "cell_type": "code",
   "execution_count": 4,
   "metadata": {},
   "outputs": [
    {
     "name": "stdout",
     "output_type": "stream",
     "text": [
      "Number of nodes in the graph: 2973489\n",
      "Number of nodes in the csv: 2890207\n",
      "Number of nodes in the graph but not in the csv: 83282\n",
      "Number of nodes in the csv but not in the graph: 0\n",
      "Percentage of labels in the graph but not in the csv: 7.204437933767201e-05\n",
      "Ilicit missing nodes 6\n"
     ]
    }
   ],
   "source": [
    "# compare the nodes in the graph with the from_address and to_address in the csv\n",
    "nodes = set(G.nodes())\n",
    "from_addresses = set(df['from_address'])\n",
    "to_addresses = set(df['to_address'])\n",
    "csv_nodes = from_addresses.union(to_addresses)\n",
    "print(f\"Number of nodes in the graph: {len(nodes)}\")\n",
    "print(f\"Number of nodes in the csv: {len(csv_nodes)}\")\n",
    "print(f\"Number of nodes in the graph but not in the csv: {len(nodes - csv_nodes)}\")\n",
    "print(f\"Number of nodes in the csv but not in the graph: {len(csv_nodes - nodes)}\")\n",
    "# what is the percentage of labels of the nodes in the graph but not in the csv\n",
    "labels = [G.nodes[node]['isp'] for node in (nodes - csv_nodes)]\n",
    "print(f\"Percentage of labels in the graph but not in the csv: {sum(labels)/len(labels)}\")\n",
    "print(f\"Ilicit missing nodes {sum(labels)}\")\n"
   ]
  },
  {
   "cell_type": "code",
   "execution_count": 25,
   "metadata": {},
   "outputs": [
    {
     "name": "stdout",
     "output_type": "stream",
     "text": [
      "Statistics for column nonce\n",
      "count    5.483921e+06\n",
      "mean     8.564149e+03\n",
      "std      1.557166e+05\n",
      "min      0.000000e+00\n",
      "25%      1.000000e+00\n",
      "50%      1.400000e+01\n",
      "75%      1.330000e+02\n",
      "max      1.727516e+07\n",
      "Name: nonce, dtype: float64\n",
      "Number of nans in column nonce: 0\n",
      "\n",
      "Statistics for column transaction_index\n",
      "count     5483921\n",
      "unique        381\n",
      "top             0\n",
      "freq        80364\n",
      "Name: transaction_index, dtype: object\n",
      "Number of nans in column transaction_index: 0\n",
      "\n",
      "Statistics for column from_address\n",
      "count                                        5483921\n",
      "unique                                       2091826\n",
      "top       0x564286362092d8e7936f0549571a803b203aaced\n",
      "freq                                           12773\n",
      "Name: from_address, dtype: object\n",
      "Number of nans in column from_address: 0\n",
      "\n",
      "Statistics for column to_address\n",
      "count                                        5483921\n",
      "unique                                       1032475\n",
      "top       0x8d12a197cb00d4747a1fe03395095ce2a5cc6819\n",
      "freq                                           11908\n",
      "Name: to_address, dtype: object\n",
      "Number of nans in column to_address: 0\n",
      "\n",
      "Statistics for column value\n",
      "count    5.483921e+06\n",
      "mean     3.992176e+18\n",
      "std      3.859235e+20\n",
      "min      0.000000e+00\n",
      "25%      0.000000e+00\n",
      "50%      0.000000e+00\n",
      "75%      1.700000e+17\n",
      "max      6.111020e+23\n",
      "Name: value, dtype: float64\n",
      "Number of nans in column value: 0\n",
      "\n",
      "Statistics for column gas\n",
      "count    5.483921e+06\n",
      "mean     1.016670e+05\n",
      "std      1.799826e+05\n",
      "min      2.100000e+04\n",
      "25%      3.684300e+04\n",
      "50%      6.000000e+04\n",
      "75%      1.006660e+05\n",
      "max      7.999992e+06\n",
      "Name: gas, dtype: float64\n",
      "Number of nans in column gas: 0\n",
      "\n",
      "Statistics for column gas_price\n",
      "count    5.483921e+06\n",
      "mean     2.456953e+10\n",
      "std      8.448019e+11\n",
      "min      0.000000e+00\n",
      "25%      4.125000e+09\n",
      "50%      2.000000e+10\n",
      "75%      3.000000e+10\n",
      "max      1.149246e+15\n",
      "Name: gas_price, dtype: float64\n",
      "Number of nans in column gas_price: 0\n",
      "\n",
      "Statistics for column block_timestamp\n",
      "count                                5483921\n",
      "mean     2018-02-15 18:58:00.171457280+00:00\n",
      "min                2015-08-07 05:01:09+00:00\n",
      "25%                2017-12-06 15:23:25+00:00\n",
      "50%                2018-02-22 02:14:51+00:00\n",
      "75%                2018-05-26 17:26:07+00:00\n",
      "max                2019-01-19 08:32:09+00:00\n",
      "Name: block_timestamp, dtype: object\n",
      "Number of nans in column block_timestamp: 0\n",
      "\n"
     ]
    }
   ],
   "source": [
    "transactions_path = '/mnt/data/ethereum-phishing-transaction-network/transactions.csv'\n",
    "names = [\n",
    "    'nonce',\n",
    "    'from_address',\n",
    "    'to_address',\n",
    "    'transaction_index',\n",
    "    'value',\n",
    "    'gas',\n",
    "    'gas_price',\n",
    "    #'receipt_status',\n",
    "    'block_timestamp',\n",
    "    # 'phishing',\n",
    "]\n",
    "dtypes = {\n",
    "    'nonce': 'float64',\n",
    "    'from_address': 'str',\n",
    "    'to_address': 'str',\n",
    "    'transaction_index': 'category',\n",
    "    'value': 'float64',\n",
    "    'gas': 'float64',\n",
    "    'gas_price': 'float64',\n",
    "    #'receipt_status': 'category',\n",
    "}\n",
    "import numpy as np\n",
    "# Define converter function\n",
    "def to_float_or_nan(value):\n",
    "    try:\n",
    "        return float(value)\n",
    "    except ValueError:\n",
    "        return np.nan\n",
    "df = pd.read_csv(transactions_path, usecols=names, dtype=dtypes, parse_dates=['block_timestamp'], converters={'receipt_gas_used': to_float_or_nan})\n",
    "# print statistics for each column of the dataframe\n",
    "for col in df.columns:\n",
    "    print(f\"Statistics for column {col}\")\n",
    "    print(df[col].describe())\n",
    "    # print the number of nans in the column\n",
    "    print(f\"Number of nans in column {col}: {df[col].isna().sum()}\")\n",
    "    print()"
   ]
  },
  {
   "cell_type": "code",
   "execution_count": 30,
   "metadata": {},
   "outputs": [
    {
     "data": {
      "text/plain": [
       "<Axes: >"
      ]
     },
     "execution_count": 30,
     "metadata": {},
     "output_type": "execute_result"
    },
    {
     "data": {
      "image/png": "[encoded data removed]",
      "text/plain": [
       "<Figure size 640x480 with 1 Axes>"
      ]
     },
     "metadata": {},
     "output_type": "display_data"
    }
   ],
   "source": [
    "df['gas_price'].hist(bins=100)"
   ]
  },
  {
   "cell_type": "code",
   "execution_count": 31,
   "metadata": {},
   "outputs": [
    {
     "data": {
      "text/plain": [
       "<Axes: >"
      ]
     },
     "execution_count": 31,
     "metadata": {},
     "output_type": "execute_result"
    },
    {
     "data": {
      "image/png": "[encoded data removed]",
      "text/plain": [
       "<Figure size 640x480 with 1 Axes>"
      ]
     },
     "metadata": {},
     "output_type": "display_data"
    }
   ],
   "source": [
    "np.log1p(df['gas_price']).hist(bins=100)"
   ]
  },
  {
   "cell_type": "code",
   "execution_count": 32,
   "metadata": {},
   "outputs": [],
   "source": [
    "# renumber from_address and to_address starting from 0 and update the dataframe\n",
    "unique_ids = pd.concat([df['from_address'], df['to_address']]).unique()\n",
    "# create a mapping from the original ID to a new ID\n",
    "id_map = {old_id: new_id for new_id, old_id in enumerate(unique_ids)}\n",
    "# replace the original IDs with the new IDs\n",
    "df['from_address'] = df['from_address'].apply(lambda x: id_map[x])\n",
    "df['to_address'] = df['to_address'].apply(lambda x: id_map[x])\n",
    "# convert timestamp to UNIX\n",
    "df['block_timestamp'] = df['block_timestamp'].apply(lambda x: x.timestamp())\n",
    "\n",
    "# normalize numerical columns\n",
    "for col in df.columns:\n",
    "    if col in ['from_address', 'to_address', 'phishing', 'receipt_status', 'block_timestamp', 'nonce', 'transaction_index']:\n",
    "        continue\n",
    "    df[col] = np.log1p(df[col])\n",
    "    df[col] = (df[col] - df[col].mean()) / df[col].std()"
   ]
  },
  {
   "cell_type": "code",
   "execution_count": 33,
   "metadata": {},
   "outputs": [],
   "source": [
    "# save the dataframe to a csv file\n",
    "# if not os.path.exists('/mnt/data/ethereum-phishing-transaction-network/ethereum-phishing-transaction-network.csv'):\n",
    "df.to_csv('/mnt/data/ethereum-phishing-transaction-network/ethereum-phishing-transaction-network.csv', index=False)"
   ]
  },
  {
   "cell_type": "code",
   "execution_count": 34,
   "metadata": {},
   "outputs": [],
   "source": [
    "%load_ext autoreload\n",
    "%autoreload 2\n",
    "# add parent directory to the path\n",
    "import sys\n",
    "sys.path.append('../')\n",
    "from src.datasets import EthereumPhishingTransactions\n",
    "from src.datasets.util.mask import PretrainType"
   ]
  },
  {
   "cell_type": "code",
   "execution_count": 35,
   "metadata": {},
   "outputs": [
    {
     "name": "stderr",
     "output_type": "stream",
     "text": [
      "2024-07-23 13:00:13 - INFO - Creating graph...\n",
      "2024-07-23 13:00:17 - INFO - Graph created in 3.4475977420806885 seconds.\n",
      "2024-07-23 13:00:17 - INFO - Applying mask...\n",
      "2024-07-23 13:00:17 - INFO - Loading masked columns from /mnt/data/ethereum-phishing-transaction-network/ethereum-phishing-transaction-network-c.csv.npy\n",
      "2024-07-23 13:00:40 - INFO - Mask applied in 23.777350425720215 seconds.\n",
      "2024-07-23 13:02:34 - INFO - Dataset materialized in 111.22740697860718 seconds.\n"
     ]
    }
   ],
   "source": [
    "dataset = EthereumPhishingTransactions(\n",
    "    root='/mnt/data/ethereum-phishing-transaction-network/ethereum-phishing-transaction-network-c.csv', \n",
    "    pretrain={PretrainType.MASK, PretrainType.LINK_PRED},\n",
    "    split_type='temporal',\n",
    "    \n",
    "    splits=[0.6, 0.2, 0.2], \n",
    "    khop_neighbors=[100, 100]\n",
    ")\n",
    "start = time.time()\n",
    "dataset.materialize()\n",
    "logger.info(f\"Dataset materialized in {time.time()-start} seconds.\")"
   ]
  }
 ],
 "metadata": {
  "kernelspec": {
   "display_name": "rel-mm",
   "language": "python",
   "name": "python3"
  },
  "language_info": {
   "codemirror_mode": {
    "name": "ipython",
    "version": 3
   },
   "file_extension": ".py",
   "mimetype": "text/x-python",
   "name": "python",
   "nbconvert_exporter": "python",
   "pygments_lexer": "ipython3",
   "version": "3.10.14"
  }
 },
 "nbformat": 4,
 "nbformat_minor": 2
}
