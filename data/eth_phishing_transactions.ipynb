{
 "cells": [
  {
   "cell_type": "code",
   "execution_count": 1,
   "metadata": {},
   "outputs": [],
   "source": [
    "import logging\n",
    "# Configure logging\n",
    "logging.basicConfig(\n",
    "    level=logging.DEBUG,  # Set the logging level\n",
    "    format='%(asctime)s - %(levelname)s - %(message)s',  # Specify the log message format\n",
    "    datefmt='%Y-%m-%d %H:%M:%S',  # Specify the date format\n",
    "    handlers=[\n",
    "        #logging.FileHandler('app.log'),  # Log messages to a file\n",
    "        logging.StreamHandler()  # Also output log messages to the console\n",
    "    ]\n",
    ")\n",
    "logger = logging.getLogger(__name__)\n",
    "import pickle \n",
    "import networkx as nx\n",
    "import time\n",
    "from datetime import datetime, timezone\n",
    "import os\n",
    "import sys\n",
    "import pandas as pd"
   ]
  },
  {
   "cell_type": "code",
   "execution_count": 2,
   "metadata": {},
   "outputs": [
    {
     "name": "stderr",
     "output_type": "stream",
     "text": [
      "2024-08-11 14:08:07 - INFO - Loading the graph\n",
      "2024-08-11 14:08:22 - INFO - Graph loaded in 14.570035457611084 seconds.\n",
      "2024-08-11 14:08:22 - INFO - Number of nodes: 2973489\n",
      "2024-08-11 14:08:24 - INFO - Number of edges: 13551303\n",
      "2024-08-11 14:08:24 - INFO - Saving nodes and their labels to a csv\n"
     ]
    }
   ],
   "source": [
    "\"\"\"The data stored in pickle format with version: 0.7.5 (python 3.7).\n",
    "The type of graph object：networkx.classes.multidigraph.MultiDiGraph\n",
    "Numbers of nodes: 2973489\n",
    "Numbers of edges: 13551303\n",
    "Average degree:   4.5574\n",
    "Nodes' features：\n",
    "    // The label. 1 means fishing mark node, otherwise 0.\n",
    "    G.nodes[nodeName]['isp']；\n",
    "\n",
    "Edges' features:\n",
    "    G[node1][node2][0]['amount']        // The amount mount of the transaction.\n",
    "    G[node1][node2][0]['timestamp']     // The timestamp of the transaction.\t\t\t\t\n",
    "\t\t\t\t\t\t\t\n",
    "* Notes * \n",
    "\"\"\"\n",
    "\n",
    "def load_pickle(fname):\n",
    "    with open(fname, 'rb') as f:\n",
    "        return pickle.load(f)\n",
    "logger.info(\"Loading the graph\")\n",
    "start = time.time()\n",
    "G = load_pickle('/mnt/data/ethereum-phishing-transaction-network/MulDiGraph.pkl')\n",
    "logger.info(f\"Graph loaded in {time.time()-start} seconds.\")\n",
    "logger.info(f'Number of nodes: {G.number_of_nodes()}')\n",
    "logger.info(f'Number of edges: {G.number_of_edges()}')\n",
    "\n",
    "\n",
    "# save nodes and their labels to a csv\n",
    "logger.info(\"Saving nodes and their labels to a csv\")\n",
    "start = time.time()\n",
    "nodes = []\n",
    "labels = []\n",
    "for node in G.nodes():\n",
    "    nodes.append(node)\n",
    "    labels.append(G.nodes[node]['isp'])\n",
    "dfnodes = pd.DataFrame({'node': nodes, 'label': labels})"
   ]
  },
  {
   "cell_type": "code",
   "execution_count": 3,
   "metadata": {},
   "outputs": [
    {
     "name": "stderr",
     "output_type": "stream",
     "text": [
      "2024-08-11 14:08:26 - INFO - Processing the graph\n",
      "2024-08-11 14:08:38 - INFO - Graph processed in 12.710413932800293 seconds.\n",
      "2024-08-11 14:08:38 - INFO - Number of unique transactions: 5355155\n",
      "2024-08-11 14:08:38 - INFO - An element from uniq: ('0x5b2c0ea6fb7130a43bd70bef163f4d7ec72a69f1', '0xb6ee9668771a79be7967ee29a63d4184f8097143', 1517497803.0)\n",
      "2024-08-11 14:08:38 - INFO - Minimum timestamp: 2015-08-07 07:01:09\n",
      "2024-08-11 14:08:38 - INFO - Maximum timestamp: 2019-01-19 09:32:09\n"
     ]
    }
   ],
   "source": [
    "logger.info(\"Processing the graph\")\n",
    "uniq = set()\n",
    "start = time.time()\n",
    "min_time = 1e20\n",
    "max_time = 0\n",
    "from_address = []\n",
    "to_address = []\n",
    "time_stamps = []\n",
    "amounts = []\n",
    "\n",
    "for ind, edge in enumerate(nx.edges(G)):\n",
    "    (u, v) = edge\n",
    "    eg = G[u][v][0]\n",
    "    amo, tim = eg['amount'], eg['timestamp']\n",
    "    uniq.add((u, v, tim))\n",
    "    #uniq.add((u, v, amo, tim))\n",
    "    min_time = min(min_time, tim)\n",
    "    max_time = max(max_time, tim)\n",
    "min_time = time.strftime('%Y-%m-%d %H:%M:%S', time.localtime(min_time))\n",
    "max_time = time.strftime('%Y-%m-%d %H:%M:%S', time.localtime(max_time))\n",
    "# print(min_time, max_time)\n",
    "# print(len(uniq))\n",
    "logger.info(f\"Graph processed in {time.time()-start} seconds.\")\n",
    "logger.info(f'Number of unique transactions: {len(uniq)}')\n",
    "#print an element from uniq\n",
    "logger.info(f\"An element from uniq: {list(uniq)[0]}\")\n",
    "logger.info(f'Minimum timestamp: {min_time}')\n",
    "logger.info(f'Maximum timestamp: {max_time}')"
   ]
  },
  {
   "cell_type": "code",
   "execution_count": 4,
   "metadata": {},
   "outputs": [
    {
     "name": "stdout",
     "output_type": "stream",
     "text": [
      "Read 5256894 transactions from the csv\n",
      "A row from the dataframe: nonce                                                    1746\n",
      "from_address       0xc3d9c17d7f6988c0fe7ebe929c47efccbd92be13\n",
      "to_address         0x0d64b06929f797d641064521705714498618fe1e\n",
      "value                                     5550000000000000000\n",
      "gas                                                     90000\n",
      "gas_price                                         20417458463\n",
      "block_timestamp                                  1494731739.0\n",
      "Name: 0, dtype: object\n"
     ]
    },
    {
     "name": "stderr",
     "output_type": "stream",
     "text": [
      "/tmp/ipykernel_858171/2634460356.py:8: FutureWarning: Series.view is deprecated and will be removed in a future version. Use ``astype`` as an alternative to change the dtype.\n",
      "  edges['block_timestamp'] = pd.to_datetime(edges['block_timestamp']).view('int64') / 10**9\n"
     ]
    }
   ],
   "source": [
    "import os\n",
    "transactions_path = '/mnt/data/ethereum-phishing-transaction-network/transactions-c.csv'\n",
    "if os.path.exists(transactions_path):\n",
    "    columns_to_read = ['from_address', 'to_address', 'nonce', 'gas', 'gas_price', 'value', 'block_timestamp']\n",
    "    edges = pd.read_csv(transactions_path, usecols=columns_to_read) \n",
    "    print(f\"Read {len(edges)} transactions from the csv\")\n",
    "    #df['value'] = df['value'].astype(float)\n",
    "    edges['block_timestamp'] = pd.to_datetime(edges['block_timestamp']).view('int64') / 10**9\n",
    "    # print a row of the dataframe\n",
    "    print(f\"A row from the dataframe: {edges.iloc[0]}\")\n",
    "    #exists = set(zip(df['from_address'], df['to_address'], df['value'], df['block_timestamp']))\n",
    "    exists = set(zip(edges['from_address'], edges['to_address'], edges['block_timestamp']))\n",
    "    diff = uniq - exists"
   ]
  },
  {
   "cell_type": "code",
   "execution_count": 5,
   "metadata": {},
   "outputs": [
    {
     "name": "stdout",
     "output_type": "stream",
     "text": [
      "Number of transactions in the csv:  5242514\n",
      "Number of transactions in the graph but not in the csv:  136344\n",
      "Number of transactions in the csv but not in the graph:  23703\n"
     ]
    }
   ],
   "source": [
    "# compare the transactions in the graph with the transactions in the csv\n",
    "print(\"Number of transactions in the csv: \", len(exists))\n",
    "print(\"Number of transactions in the graph but not in the csv: \", len(diff))\n",
    "print(\"Number of transactions in the csv but not in the graph: \", len(exists - uniq))"
   ]
  },
  {
   "cell_type": "code",
   "execution_count": 6,
   "metadata": {},
   "outputs": [
    {
     "name": "stdout",
     "output_type": "stream",
     "text": [
      "Number of nodes in the graph: 2973489\n",
      "Number of nodes in the csv: 2890207\n",
      "Number of nodes in the graph but not in the csv: 83282\n",
      "Number of nodes in the csv but not in the graph: 0\n",
      "Percentage of labels in the graph but not in the csv: 7.204437933767201e-05\n",
      "Ilicit missing nodes 6\n"
     ]
    }
   ],
   "source": [
    "# compare the nodes in the graph with the from_address and to_address in the csv\n",
    "nodes = set(G.nodes())\n",
    "from_addresses = set(edges['from_address'])\n",
    "to_addresses = set(edges['to_address'])\n",
    "csv_nodes = from_addresses.union(to_addresses)\n",
    "print(f\"Number of nodes in the graph: {len(nodes)}\")\n",
    "print(f\"Number of nodes in the csv: {len(csv_nodes)}\")\n",
    "print(f\"Number of nodes in the graph but not in the csv: {len(nodes - csv_nodes)}\")\n",
    "print(f\"Number of nodes in the csv but not in the graph: {len(csv_nodes - nodes)}\")\n",
    "# what is the percentage of labels of the nodes in the graph but not in the csv\n",
    "missing_nodes = list(nodes-csv_nodes)\n",
    "missing_labels = [G.nodes[node]['isp'] for node in missing_nodes]\n",
    "print(f\"Percentage of labels in the graph but not in the csv: {sum(missing_labels)/len(missing_labels)}\")\n",
    "print(f\"Ilicit missing nodes {sum(missing_labels)}\")\n",
    "labels = [G.nodes[node]['isp'] for node in csv_nodes] \n"
   ]
  },
  {
   "cell_type": "code",
   "execution_count": 7,
   "metadata": {},
   "outputs": [],
   "source": [
    "df_nodes = pd.DataFrame({'node': list(csv_nodes), 'label': labels})"
   ]
  },
  {
   "cell_type": "code",
   "execution_count": 8,
   "metadata": {},
   "outputs": [
    {
     "name": "stdout",
     "output_type": "stream",
     "text": [
      "nonce\n",
      "from_address\n",
      "to_address\n",
      "value\n",
      "gas\n",
      "gas_price\n",
      "block_timestamp\n"
     ]
    }
   ],
   "source": [
    "import numpy as np\n",
    "# renumber from_address and to_address starting from 0 and update the dataframe\n",
    "unique_ids = pd.concat([edges['from_address'], edges['to_address']]).unique()\n",
    "# create a mapping from the original ID to a new ID\n",
    "id_map = {old_id: new_id for new_id, old_id in enumerate(unique_ids)}\n",
    "# replace the original IDs with the new IDs\n",
    "edges['from_address'] = edges['from_address'].apply(lambda x: id_map[x])\n",
    "edges['to_address'] = edges['to_address'].apply(lambda x: id_map[x])\n",
    "# convert timestamp to UNIX\n",
    "#df['block_timestamp'] = pd.to_datetime(df['block_timestamp']).astype('int64') / 10**9\n",
    "\n",
    "# re label dfnodes with the new ids\n",
    "df_nodes['node'] = df_nodes['node'].apply(lambda x: id_map[x])\n",
    "\n",
    "# normalize numerical columns\n",
    "for col in edges.columns:\n",
    "    print(col)\n",
    "    if col in ['from_address', 'to_address', 'phishing', 'receipt_status', 'block_timestamp', 'transaction_index']:\n",
    "        continue\n",
    "    edges[col] = edges[col].astype(float)\n",
    "    edges[col] = np.log1p(edges[col])\n",
    "    edges[col] = (edges[col] - edges[col].min()) / (edges[col].max() - edges[col].min())"
   ]
  },
  {
   "cell_type": "code",
   "execution_count": 9,
   "metadata": {},
   "outputs": [
    {
     "name": "stdout",
     "output_type": "stream",
     "text": [
      "      node  label\n",
      "0  2779686      0\n",
      "1   760873      0\n",
      "2  1496063      0\n",
      "3   200774      0\n",
      "4  2336759      0\n"
     ]
    },
    {
     "data": {
      "text/plain": [
       "2890207"
      ]
     },
     "execution_count": 9,
     "metadata": {},
     "output_type": "execute_result"
    }
   ],
   "source": [
    "print(df_nodes.head())\n",
    "len(df_nodes)"
   ]
  },
  {
   "cell_type": "code",
   "execution_count": 10,
   "metadata": {},
   "outputs": [
    {
     "data": {
      "text/html": [
       "<div>\n",
       "<style scoped>\n",
       "    .dataframe tbody tr th:only-of-type {\n",
       "        vertical-align: middle;\n",
       "    }\n",
       "\n",
       "    .dataframe tbody tr th {\n",
       "        vertical-align: top;\n",
       "    }\n",
       "\n",
       "    .dataframe thead th {\n",
       "        text-align: right;\n",
       "    }\n",
       "</style>\n",
       "<table border=\"1\" class=\"dataframe\">\n",
       "  <thead>\n",
       "    <tr style=\"text-align: right;\">\n",
       "      <th></th>\n",
       "      <th>node</th>\n",
       "      <th>label</th>\n",
       "      <th>first_transaction</th>\n",
       "    </tr>\n",
       "  </thead>\n",
       "  <tbody>\n",
       "    <tr>\n",
       "      <th>0</th>\n",
       "      <td>2779686</td>\n",
       "      <td>0</td>\n",
       "      <td>1.520490e+09</td>\n",
       "    </tr>\n",
       "    <tr>\n",
       "      <th>1</th>\n",
       "      <td>760873</td>\n",
       "      <td>0</td>\n",
       "      <td>1.517382e+09</td>\n",
       "    </tr>\n",
       "    <tr>\n",
       "      <th>2</th>\n",
       "      <td>1496063</td>\n",
       "      <td>0</td>\n",
       "      <td>1.498833e+09</td>\n",
       "    </tr>\n",
       "    <tr>\n",
       "      <th>3</th>\n",
       "      <td>200774</td>\n",
       "      <td>0</td>\n",
       "      <td>1.534206e+09</td>\n",
       "    </tr>\n",
       "    <tr>\n",
       "      <th>4</th>\n",
       "      <td>2336759</td>\n",
       "      <td>0</td>\n",
       "      <td>1.515501e+09</td>\n",
       "    </tr>\n",
       "  </tbody>\n",
       "</table>\n",
       "</div>"
      ],
      "text/plain": [
       "      node  label  first_transaction\n",
       "0  2779686      0       1.520490e+09\n",
       "1   760873      0       1.517382e+09\n",
       "2  1496063      0       1.498833e+09\n",
       "3   200774      0       1.534206e+09\n",
       "4  2336759      0       1.515501e+09"
      ]
     },
     "execution_count": 10,
     "metadata": {},
     "output_type": "execute_result"
    }
   ],
   "source": [
    "import pandas as pd\n",
    "\n",
    "# Assuming nodes and edges are pandas DataFrames\n",
    "\n",
    "# Get the first transaction timestamp for each from_address\n",
    "from_min_timestamp = edges.groupby('from_address')['block_timestamp'].min().reset_index()\n",
    "from_min_timestamp.columns = ['node', 'first_transaction']\n",
    "\n",
    "# Get the first transaction timestamp for each to_address\n",
    "to_min_timestamp = edges.groupby('to_address')['block_timestamp'].min().reset_index()\n",
    "to_min_timestamp.columns = ['node', 'first_transaction']\n",
    "\n",
    "# Concatenate both results and take the minimum timestamp for each node\n",
    "combined = pd.concat([from_min_timestamp, to_min_timestamp])\n",
    "\n",
    "# Group by node and take the earliest transaction\n",
    "first_transactions = combined.groupby('node')['first_transaction'].min().reset_index()\n",
    "\n",
    "# Merge with the nodes DataFrame\n",
    "df_nodes = df_nodes.merge(first_transactions, on='node', how='left')\n",
    "df_nodes.head()"
   ]
  },
  {
   "cell_type": "code",
   "execution_count": 11,
   "metadata": {},
   "outputs": [],
   "source": [
    "df_nodes.to_csv('/mnt/data/ethereum-phishing-transaction-network/nodes.csv', index=False)\n",
    "edges.to_csv('/mnt/data/ethereum-phishing-transaction-network/edges.csv', index=False)"
   ]
  },
  {
   "cell_type": "code",
   "execution_count": 17,
   "metadata": {},
   "outputs": [
    {
     "name": "stderr",
     "output_type": "stream",
     "text": [
      "/tmp/ipykernel_858171/3739020453.py:4: SettingWithCopyWarning: \n",
      "A value is trying to be set on a copy of a slice from a DataFrame.\n",
      "Try using .loc[row_indexer,col_indexer] = value instead\n",
      "\n",
      "See the caveats in the documentation: https://pandas.pydata.org/pandas-docs/stable/user_guide/indexing.html#returning-a-view-versus-a-copy\n",
      "  dummy_edges['from_address'] = dummy_edges['from_address'].apply(lambda x: id_map[x])\n",
      "/tmp/ipykernel_858171/3739020453.py:5: SettingWithCopyWarning: \n",
      "A value is trying to be set on a copy of a slice from a DataFrame.\n",
      "Try using .loc[row_indexer,col_indexer] = value instead\n",
      "\n",
      "See the caveats in the documentation: https://pandas.pydata.org/pandas-docs/stable/user_guide/indexing.html#returning-a-view-versus-a-copy\n",
      "  dummy_edges['to_address'] = dummy_edges['to_address'].apply(lambda x: id_map[x])\n",
      "/tmp/ipykernel_858171/3739020453.py:9: SettingWithCopyWarning: \n",
      "A value is trying to be set on a copy of a slice from a DataFrame.\n",
      "Try using .loc[row_indexer,col_indexer] = value instead\n",
      "\n",
      "See the caveats in the documentation: https://pandas.pydata.org/pandas-docs/stable/user_guide/indexing.html#returning-a-view-versus-a-copy\n",
      "  dummy_nodes['node'] = dummy_nodes['node'].apply(lambda x: id_map[x])\n"
     ]
    }
   ],
   "source": [
    "dummy_edges = edges.head(1000)\n",
    "unique_ids = pd.concat([dummy_edges['from_address'], dummy_edges['to_address']]).unique()\n",
    "id_map = {old_id: new_id for new_id, old_id in enumerate(unique_ids)}\n",
    "dummy_edges['from_address'] = dummy_edges['from_address'].apply(lambda x: id_map[x])\n",
    "dummy_edges['to_address'] = dummy_edges['to_address'].apply(lambda x: id_map[x])\n",
    "\n",
    "mask = df_nodes[\"node\"].isin(unique_ids)\n",
    "dummy_nodes = df_nodes[mask]\n",
    "dummy_nodes['node'] = dummy_nodes['node'].apply(lambda x: id_map[x])"
   ]
  },
  {
   "cell_type": "code",
   "execution_count": 18,
   "metadata": {},
   "outputs": [],
   "source": [
    "dummy_nodes.to_csv('/mnt/data/ethereum-phishing-transaction-network-dummy/nodes.csv', index=False)\n",
    "dummy_edges.to_csv('/mnt/data/ethereum-phishing-transaction-network-dummy/edges.csv', index=False)"
   ]
  },
  {
   "cell_type": "code",
   "execution_count": 2,
   "metadata": {},
   "outputs": [
    {
     "name": "stdout",
     "output_type": "stream",
     "text": [
      "The autoreload extension is already loaded. To reload it, use:\n",
      "  %reload_ext autoreload\n"
     ]
    }
   ],
   "source": [
    "%load_ext autoreload\n",
    "%autoreload 2\n",
    "# add parent directory to the path\n",
    "import sys\n",
    "sys.path.append('../')\n",
    "from src.datasets import EthereumPhishingTransactions, EthereumPhishingNodes\n",
    "from src.datasets.util.mask import PretrainType\n",
    "import pandas as pd"
   ]
  },
  {
   "cell_type": "code",
   "execution_count": 8,
   "metadata": {},
   "outputs": [
    {
     "ename": "ParserError",
     "evalue": "Error tokenizing data. C error: Calling read(nbytes) on source failed. Try engine='python'.",
     "output_type": "error",
     "traceback": [
      "\u001b[0;31m---------------------------------------------------------------------------\u001b[0m",
      "\u001b[0;31mParserError\u001b[0m                               Traceback (most recent call last)",
      "Cell \u001b[0;32mIn[8], line 1\u001b[0m\n\u001b[0;32m----> 1\u001b[0m dataset \u001b[38;5;241m=\u001b[39m \u001b[43mEthereumPhishingTransactions\u001b[49m\u001b[43m(\u001b[49m\n\u001b[1;32m      2\u001b[0m \u001b[43m    \u001b[49m\u001b[43mroot\u001b[49m\u001b[38;5;241;43m=\u001b[39;49m\u001b[38;5;124;43m'\u001b[39;49m\u001b[38;5;124;43m/mnt/data/ethereum-phishing-transaction-network/ethereum-phishing-transaction-network-c.csv\u001b[39;49m\u001b[38;5;124;43m'\u001b[39;49m\u001b[43m,\u001b[49m\u001b[43m \u001b[49m\n\u001b[1;32m      3\u001b[0m \u001b[43m    \u001b[49m\u001b[43mpretrain\u001b[49m\u001b[38;5;241;43m=\u001b[39;49m\u001b[43m{\u001b[49m\u001b[43mPretrainType\u001b[49m\u001b[38;5;241;43m.\u001b[39;49m\u001b[43mMASK\u001b[49m\u001b[43m,\u001b[49m\u001b[43m \u001b[49m\u001b[43mPretrainType\u001b[49m\u001b[38;5;241;43m.\u001b[39;49m\u001b[43mLINK_PRED\u001b[49m\u001b[43m}\u001b[49m\u001b[43m,\u001b[49m\n\u001b[1;32m      4\u001b[0m \u001b[43m    \u001b[49m\u001b[43msplit_type\u001b[49m\u001b[38;5;241;43m=\u001b[39;49m\u001b[38;5;124;43m'\u001b[39;49m\u001b[38;5;124;43mtemporal\u001b[39;49m\u001b[38;5;124;43m'\u001b[39;49m\u001b[43m,\u001b[49m\n\u001b[1;32m      5\u001b[0m \u001b[43m    \u001b[49m\n\u001b[1;32m      6\u001b[0m \u001b[43m    \u001b[49m\u001b[43msplits\u001b[49m\u001b[38;5;241;43m=\u001b[39;49m\u001b[43m[\u001b[49m\u001b[38;5;241;43m0.6\u001b[39;49m\u001b[43m,\u001b[49m\u001b[43m \u001b[49m\u001b[38;5;241;43m0.2\u001b[39;49m\u001b[43m,\u001b[49m\u001b[43m \u001b[49m\u001b[38;5;241;43m0.2\u001b[39;49m\u001b[43m]\u001b[49m\u001b[43m,\u001b[49m\u001b[43m \u001b[49m\n\u001b[1;32m      7\u001b[0m \u001b[43m    \u001b[49m\u001b[43mkhop_neighbors\u001b[49m\u001b[38;5;241;43m=\u001b[39;49m\u001b[43m[\u001b[49m\u001b[38;5;241;43m100\u001b[39;49m\u001b[43m,\u001b[49m\u001b[43m \u001b[49m\u001b[38;5;241;43m100\u001b[39;49m\u001b[43m]\u001b[49m\n\u001b[1;32m      8\u001b[0m \u001b[43m)\u001b[49m\n\u001b[1;32m      9\u001b[0m start \u001b[38;5;241m=\u001b[39m time\u001b[38;5;241m.\u001b[39mtime()\n\u001b[1;32m     10\u001b[0m dataset\u001b[38;5;241m.\u001b[39mmaterialize()\n",
      "File \u001b[0;32m~/dev/models-for-relational-multimodal-data/data/../src/datasets/eth_phishing_transactions.py:90\u001b[0m, in \u001b[0;36mEthereumPhishingTransactions.__init__\u001b[0;34m(self, root, mask_type, pretrain, split_type, splits, khop_neighbors, ports)\u001b[0m\n\u001b[1;32m     65\u001b[0m names \u001b[38;5;241m=\u001b[39m [\n\u001b[1;32m     66\u001b[0m     \u001b[38;5;124m'\u001b[39m\u001b[38;5;124mnonce\u001b[39m\u001b[38;5;124m'\u001b[39m,\n\u001b[1;32m     67\u001b[0m     \u001b[38;5;124m'\u001b[39m\u001b[38;5;124mfrom_address\u001b[39m\u001b[38;5;124m'\u001b[39m,\n\u001b[0;32m   (...)\u001b[0m\n\u001b[1;32m     75\u001b[0m     \u001b[38;5;66;03m# 'phishing',\u001b[39;00m\n\u001b[1;32m     76\u001b[0m ]\n\u001b[1;32m     77\u001b[0m dtypes \u001b[38;5;241m=\u001b[39m {\n\u001b[1;32m     78\u001b[0m     \u001b[38;5;124m'\u001b[39m\u001b[38;5;124mnonce\u001b[39m\u001b[38;5;124m'\u001b[39m: \u001b[38;5;124m'\u001b[39m\u001b[38;5;124mfloat64\u001b[39m\u001b[38;5;124m'\u001b[39m,\n\u001b[1;32m     79\u001b[0m     \u001b[38;5;124m'\u001b[39m\u001b[38;5;124mfrom_address\u001b[39m\u001b[38;5;124m'\u001b[39m: \u001b[38;5;124m'\u001b[39m\u001b[38;5;124mfloat64\u001b[39m\u001b[38;5;124m'\u001b[39m,\n\u001b[0;32m   (...)\u001b[0m\n\u001b[1;32m     87\u001b[0m     \u001b[38;5;66;03m# 'phishing': 'category',\u001b[39;00m\n\u001b[1;32m     88\u001b[0m }\n\u001b[0;32m---> 90\u001b[0m \u001b[38;5;28mself\u001b[39m\u001b[38;5;241m.\u001b[39mdf \u001b[38;5;241m=\u001b[39m \u001b[43mpd\u001b[49m\u001b[38;5;241;43m.\u001b[39;49m\u001b[43mread_csv\u001b[49m\u001b[43m(\u001b[49m\u001b[43mroot\u001b[49m\u001b[43m,\u001b[49m\u001b[43m \u001b[49m\u001b[43mnames\u001b[49m\u001b[38;5;241;43m=\u001b[39;49m\u001b[43mnames\u001b[49m\u001b[43m,\u001b[49m\u001b[43m \u001b[49m\u001b[43mdtype\u001b[49m\u001b[38;5;241;43m=\u001b[39;49m\u001b[43mdtypes\u001b[49m\u001b[43m,\u001b[49m\u001b[43m \u001b[49m\u001b[43mheader\u001b[49m\u001b[38;5;241;43m=\u001b[39;49m\u001b[38;5;241;43m0\u001b[39;49m\u001b[43m)\u001b[49m         \n\u001b[1;32m     91\u001b[0m \u001b[38;5;28mself\u001b[39m\u001b[38;5;241m.\u001b[39mdf\u001b[38;5;241m.\u001b[39mreset_index(inplace\u001b[38;5;241m=\u001b[39m\u001b[38;5;28;01mTrue\u001b[39;00m)\n\u001b[1;32m     93\u001b[0m col_to_stype \u001b[38;5;241m=\u001b[39m {\n\u001b[1;32m     94\u001b[0m     \u001b[38;5;124m'\u001b[39m\u001b[38;5;124mnonce\u001b[39m\u001b[38;5;124m'\u001b[39m: torch_frame\u001b[38;5;241m.\u001b[39mnumerical,\n\u001b[1;32m     95\u001b[0m     \u001b[38;5;66;03m#'transaction_index': torch_frame.categorical,\u001b[39;00m\n\u001b[0;32m   (...)\u001b[0m\n\u001b[1;32m    100\u001b[0m     \u001b[38;5;124m'\u001b[39m\u001b[38;5;124mblock_timestamp\u001b[39m\u001b[38;5;124m'\u001b[39m: torch_frame\u001b[38;5;241m.\u001b[39mtimestamp,\n\u001b[1;32m    101\u001b[0m }\n",
      "File \u001b[0;32m/opt/miniconda3/envs/rel-mm/lib/python3.10/site-packages/pandas/io/parsers/readers.py:1026\u001b[0m, in \u001b[0;36mread_csv\u001b[0;34m(filepath_or_buffer, sep, delimiter, header, names, index_col, usecols, dtype, engine, converters, true_values, false_values, skipinitialspace, skiprows, skipfooter, nrows, na_values, keep_default_na, na_filter, verbose, skip_blank_lines, parse_dates, infer_datetime_format, keep_date_col, date_parser, date_format, dayfirst, cache_dates, iterator, chunksize, compression, thousands, decimal, lineterminator, quotechar, quoting, doublequote, escapechar, comment, encoding, encoding_errors, dialect, on_bad_lines, delim_whitespace, low_memory, memory_map, float_precision, storage_options, dtype_backend)\u001b[0m\n\u001b[1;32m   1013\u001b[0m kwds_defaults \u001b[38;5;241m=\u001b[39m _refine_defaults_read(\n\u001b[1;32m   1014\u001b[0m     dialect,\n\u001b[1;32m   1015\u001b[0m     delimiter,\n\u001b[0;32m   (...)\u001b[0m\n\u001b[1;32m   1022\u001b[0m     dtype_backend\u001b[38;5;241m=\u001b[39mdtype_backend,\n\u001b[1;32m   1023\u001b[0m )\n\u001b[1;32m   1024\u001b[0m kwds\u001b[38;5;241m.\u001b[39mupdate(kwds_defaults)\n\u001b[0;32m-> 1026\u001b[0m \u001b[38;5;28;01mreturn\u001b[39;00m \u001b[43m_read\u001b[49m\u001b[43m(\u001b[49m\u001b[43mfilepath_or_buffer\u001b[49m\u001b[43m,\u001b[49m\u001b[43m \u001b[49m\u001b[43mkwds\u001b[49m\u001b[43m)\u001b[49m\n",
      "File \u001b[0;32m/opt/miniconda3/envs/rel-mm/lib/python3.10/site-packages/pandas/io/parsers/readers.py:626\u001b[0m, in \u001b[0;36m_read\u001b[0;34m(filepath_or_buffer, kwds)\u001b[0m\n\u001b[1;32m    623\u001b[0m     \u001b[38;5;28;01mreturn\u001b[39;00m parser\n\u001b[1;32m    625\u001b[0m \u001b[38;5;28;01mwith\u001b[39;00m parser:\n\u001b[0;32m--> 626\u001b[0m     \u001b[38;5;28;01mreturn\u001b[39;00m \u001b[43mparser\u001b[49m\u001b[38;5;241;43m.\u001b[39;49m\u001b[43mread\u001b[49m\u001b[43m(\u001b[49m\u001b[43mnrows\u001b[49m\u001b[43m)\u001b[49m\n",
      "File \u001b[0;32m/opt/miniconda3/envs/rel-mm/lib/python3.10/site-packages/pandas/io/parsers/readers.py:1923\u001b[0m, in \u001b[0;36mTextFileReader.read\u001b[0;34m(self, nrows)\u001b[0m\n\u001b[1;32m   1916\u001b[0m nrows \u001b[38;5;241m=\u001b[39m validate_integer(\u001b[38;5;124m\"\u001b[39m\u001b[38;5;124mnrows\u001b[39m\u001b[38;5;124m\"\u001b[39m, nrows)\n\u001b[1;32m   1917\u001b[0m \u001b[38;5;28;01mtry\u001b[39;00m:\n\u001b[1;32m   1918\u001b[0m     \u001b[38;5;66;03m# error: \"ParserBase\" has no attribute \"read\"\u001b[39;00m\n\u001b[1;32m   1919\u001b[0m     (\n\u001b[1;32m   1920\u001b[0m         index,\n\u001b[1;32m   1921\u001b[0m         columns,\n\u001b[1;32m   1922\u001b[0m         col_dict,\n\u001b[0;32m-> 1923\u001b[0m     ) \u001b[38;5;241m=\u001b[39m \u001b[38;5;28;43mself\u001b[39;49m\u001b[38;5;241;43m.\u001b[39;49m\u001b[43m_engine\u001b[49m\u001b[38;5;241;43m.\u001b[39;49m\u001b[43mread\u001b[49m\u001b[43m(\u001b[49m\u001b[43m  \u001b[49m\u001b[38;5;66;43;03m# type: ignore[attr-defined]\u001b[39;49;00m\n\u001b[1;32m   1924\u001b[0m \u001b[43m        \u001b[49m\u001b[43mnrows\u001b[49m\n\u001b[1;32m   1925\u001b[0m \u001b[43m    \u001b[49m\u001b[43m)\u001b[49m\n\u001b[1;32m   1926\u001b[0m \u001b[38;5;28;01mexcept\u001b[39;00m \u001b[38;5;167;01mException\u001b[39;00m:\n\u001b[1;32m   1927\u001b[0m     \u001b[38;5;28mself\u001b[39m\u001b[38;5;241m.\u001b[39mclose()\n",
      "File \u001b[0;32m/opt/miniconda3/envs/rel-mm/lib/python3.10/site-packages/pandas/io/parsers/c_parser_wrapper.py:234\u001b[0m, in \u001b[0;36mCParserWrapper.read\u001b[0;34m(self, nrows)\u001b[0m\n\u001b[1;32m    232\u001b[0m \u001b[38;5;28;01mtry\u001b[39;00m:\n\u001b[1;32m    233\u001b[0m     \u001b[38;5;28;01mif\u001b[39;00m \u001b[38;5;28mself\u001b[39m\u001b[38;5;241m.\u001b[39mlow_memory:\n\u001b[0;32m--> 234\u001b[0m         chunks \u001b[38;5;241m=\u001b[39m \u001b[38;5;28;43mself\u001b[39;49m\u001b[38;5;241;43m.\u001b[39;49m\u001b[43m_reader\u001b[49m\u001b[38;5;241;43m.\u001b[39;49m\u001b[43mread_low_memory\u001b[49m\u001b[43m(\u001b[49m\u001b[43mnrows\u001b[49m\u001b[43m)\u001b[49m\n\u001b[1;32m    235\u001b[0m         \u001b[38;5;66;03m# destructive to chunks\u001b[39;00m\n\u001b[1;32m    236\u001b[0m         data \u001b[38;5;241m=\u001b[39m _concatenate_chunks(chunks)\n",
      "File \u001b[0;32mparsers.pyx:838\u001b[0m, in \u001b[0;36mpandas._libs.parsers.TextReader.read_low_memory\u001b[0;34m()\u001b[0m\n",
      "File \u001b[0;32mparsers.pyx:905\u001b[0m, in \u001b[0;36mpandas._libs.parsers.TextReader._read_rows\u001b[0;34m()\u001b[0m\n",
      "File \u001b[0;32mparsers.pyx:874\u001b[0m, in \u001b[0;36mpandas._libs.parsers.TextReader._tokenize_rows\u001b[0;34m()\u001b[0m\n",
      "File \u001b[0;32mparsers.pyx:891\u001b[0m, in \u001b[0;36mpandas._libs.parsers.TextReader._check_tokenize_status\u001b[0;34m()\u001b[0m\n",
      "File \u001b[0;32mparsers.pyx:2061\u001b[0m, in \u001b[0;36mpandas._libs.parsers.raise_parser_error\u001b[0;34m()\u001b[0m\n",
      "\u001b[0;31mParserError\u001b[0m: Error tokenizing data. C error: Calling read(nbytes) on source failed. Try engine='python'."
     ]
    }
   ],
   "source": [
    "dataset = EthereumPhishingTransactions(\n",
    "    root='/mnt/data/ethereum-phishing-transaction-network/ethereum-phishing-transaction-network-c.csv', \n",
    "    pretrain={PretrainType.MASK, PretrainType.LINK_PRED},\n",
    "    split_type='temporal',\n",
    "    \n",
    "    splits=[0.6, 0.2, 0.2], \n",
    "    khop_neighbors=[100, 100]\n",
    ")\n",
    "start = time.time()\n",
    "dataset.materialize()\n",
    "logger.info(f\"Dataset materialized in {time.time()-start} seconds.\")"
   ]
  },
  {
   "cell_type": "code",
   "execution_count": 9,
   "metadata": {},
   "outputs": [
    {
     "name": "stdout",
     "output_type": "stream",
     "text": [
      "Masked applied\n",
      "Tensor frame created\n"
     ]
    },
    {
     "data": {
      "text/plain": [
       "EthereumPhishingNodes()"
      ]
     },
     "execution_count": 9,
     "metadata": {},
     "output_type": "execute_result"
    }
   ],
   "source": [
    "nodes = EthereumPhishingNodes(root='/mnt/data/ethereum-phishing-transaction-network/nodes.csv')\n",
    "nodes.materialize()"
   ]
  },
  {
   "cell_type": "code",
   "execution_count": 14,
   "metadata": {},
   "outputs": [],
   "source": [
    "from torch_frame.data import DataLoader\n",
    "train_dataset, val_dataset, test_dataset = nodes.split()\n",
    "tensor_frame = nodes.tensor_frame \n",
    "train_loader = DataLoader(train_dataset.tensor_frame, batch_size=2048, shuffle=True, num_workers=4)\n",
    "val_loader = DataLoader(val_dataset.tensor_frame, batch_size=2048, shuffle=False, num_workers=4)\n",
    "test_loader = DataLoader(test_dataset.tensor_frame, batch_size=2048, shuffle=False, num_workers=4)"
   ]
  },
  {
   "cell_type": "code",
   "execution_count": 16,
   "metadata": {},
   "outputs": [
    {
     "name": "stdout",
     "output_type": "stream",
     "text": [
      "TensorFrame(\n",
      "  num_cols=1,\n",
      "  num_rows=2048,\n",
      "  numerical (1): ['node'],\n",
      "  has_target=True,\n",
      "  device='cpu',\n",
      ")\n",
      "tensor([0, 0, 0,  ..., 0, 0, 0])\n",
      "tensor(2)\n"
     ]
    }
   ],
   "source": [
    "batch = next(iter(train_loader))\n",
    "print(batch)\n",
    "print(batch.y)\n",
    "print(sum(batch.y))"
   ]
  }
 ],
 "metadata": {
  "kernelspec": {
   "display_name": "rel-mm",
   "language": "python",
   "name": "python3"
  },
  "language_info": {
   "codemirror_mode": {
    "name": "ipython",
    "version": 3
   },
   "file_extension": ".py",
   "mimetype": "text/x-python",
   "name": "python",
   "nbconvert_exporter": "python",
   "pygments_lexer": "ipython3",
   "version": "3.10.14"
  }
 },
 "nbformat": 4,
 "nbformat_minor": 2
}
