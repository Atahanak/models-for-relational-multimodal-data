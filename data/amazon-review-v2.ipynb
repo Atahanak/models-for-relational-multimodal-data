{
 "cells": [
  {
   "cell_type": "code",
   "execution_count": 1,
   "metadata": {},
   "outputs": [],
   "source": [
    "import pandas as pd\n",
    "from datetime import datetime\n",
    "from icecream import ic\n",
    "import json\n",
    "import networkx as nx\n",
    "import torch_geometric.utils as utils\n",
    "import matplotlib.pyplot as plt"
   ]
  },
  {
   "cell_type": "code",
   "execution_count": 2,
   "metadata": {},
   "outputs": [],
   "source": [
    "folder_path = \"../datasets/\"\n",
    "file_name = \"AMAZON_FASHION.json\""
   ]
  },
  {
   "cell_type": "code",
   "execution_count": 3,
   "metadata": {},
   "outputs": [
    {
     "name": "stderr",
     "output_type": "stream",
     "text": [
      "ic| len(data): 883636\n"
     ]
    },
    {
     "data": {
      "text/plain": "   overall  verified   reviewTime      reviewerID        asin  reviewerName  \\\n0      5.0      True  10 20, 2014  A1D4G1SNUZWQOT  7106116521         Tracy   \n1      2.0      True  09 28, 2014  A3DDWDH9PX2YX2  7106116521     Sonja Lau   \n2      4.0     False  08 25, 2014  A2MWC41EW7XL15  7106116521      Kathleen   \n3      2.0      True  08 24, 2014  A2UH2QQ275NV45  7106116521   Jodi Stoner   \n4      3.0     False  07 27, 2014   A89F3LQADZBS5  7106116521  Alexander D.   \n\n                                          reviewText  \\\n0                             Exactly what I needed.   \n1  I agree with the other review, the opening is ...   \n2  Love these... I am going to order another pack...   \n3                                too tiny an opening   \n4                                               Okay   \n\n                                             summary  unixReviewTime vote  \\\n0                             perfect replacements!!      1413763200  NaN   \n1  I agree with the other review, the opening is ...      1411862400    3   \n2                                My New 'Friends' !!      1408924800  NaN   \n3                                          Two Stars      1408838400  NaN   \n4                                        Three Stars      1406419200  NaN   \n\n   ... style.Team Name: style.Style Name: style.Format:  \\\n0  ...              NaN               NaN           NaN   \n1  ...              NaN               NaN           NaN   \n2  ...              NaN               NaN           NaN   \n3  ...              NaN               NaN           NaN   \n4  ...              NaN               NaN           NaN   \n\n  style.Package Quantity: style.Material: style.Item Display Length:  \\\n0                     NaN             NaN                        NaN   \n1                     NaN             NaN                        NaN   \n2                     NaN             NaN                        NaN   \n3                     NaN             NaN                        NaN   \n4                     NaN             NaN                        NaN   \n\n  style.Gem Type: style.Item Package Quantity: style.Scent Name: style.Shape:  \n0             NaN                          NaN               NaN          NaN  \n1             NaN                          NaN               NaN          NaN  \n2             NaN                          NaN               NaN          NaN  \n3             NaN                          NaN               NaN          NaN  \n4             NaN                          NaN               NaN          NaN  \n\n[5 rows x 27 columns]",
      "text/html": "<div>\n<style scoped>\n    .dataframe tbody tr th:only-of-type {\n        vertical-align: middle;\n    }\n\n    .dataframe tbody tr th {\n        vertical-align: top;\n    }\n\n    .dataframe thead th {\n        text-align: right;\n    }\n</style>\n<table border=\"1\" class=\"dataframe\">\n  <thead>\n    <tr style=\"text-align: right;\">\n      <th></th>\n      <th>overall</th>\n      <th>verified</th>\n      <th>reviewTime</th>\n      <th>reviewerID</th>\n      <th>asin</th>\n      <th>reviewerName</th>\n      <th>reviewText</th>\n      <th>summary</th>\n      <th>unixReviewTime</th>\n      <th>vote</th>\n      <th>...</th>\n      <th>style.Team Name:</th>\n      <th>style.Style Name:</th>\n      <th>style.Format:</th>\n      <th>style.Package Quantity:</th>\n      <th>style.Material:</th>\n      <th>style.Item Display Length:</th>\n      <th>style.Gem Type:</th>\n      <th>style.Item Package Quantity:</th>\n      <th>style.Scent Name:</th>\n      <th>style.Shape:</th>\n    </tr>\n  </thead>\n  <tbody>\n    <tr>\n      <th>0</th>\n      <td>5.0</td>\n      <td>True</td>\n      <td>10 20, 2014</td>\n      <td>A1D4G1SNUZWQOT</td>\n      <td>7106116521</td>\n      <td>Tracy</td>\n      <td>Exactly what I needed.</td>\n      <td>perfect replacements!!</td>\n      <td>1413763200</td>\n      <td>NaN</td>\n      <td>...</td>\n      <td>NaN</td>\n      <td>NaN</td>\n      <td>NaN</td>\n      <td>NaN</td>\n      <td>NaN</td>\n      <td>NaN</td>\n      <td>NaN</td>\n      <td>NaN</td>\n      <td>NaN</td>\n      <td>NaN</td>\n    </tr>\n    <tr>\n      <th>1</th>\n      <td>2.0</td>\n      <td>True</td>\n      <td>09 28, 2014</td>\n      <td>A3DDWDH9PX2YX2</td>\n      <td>7106116521</td>\n      <td>Sonja Lau</td>\n      <td>I agree with the other review, the opening is ...</td>\n      <td>I agree with the other review, the opening is ...</td>\n      <td>1411862400</td>\n      <td>3</td>\n      <td>...</td>\n      <td>NaN</td>\n      <td>NaN</td>\n      <td>NaN</td>\n      <td>NaN</td>\n      <td>NaN</td>\n      <td>NaN</td>\n      <td>NaN</td>\n      <td>NaN</td>\n      <td>NaN</td>\n      <td>NaN</td>\n    </tr>\n    <tr>\n      <th>2</th>\n      <td>4.0</td>\n      <td>False</td>\n      <td>08 25, 2014</td>\n      <td>A2MWC41EW7XL15</td>\n      <td>7106116521</td>\n      <td>Kathleen</td>\n      <td>Love these... I am going to order another pack...</td>\n      <td>My New 'Friends' !!</td>\n      <td>1408924800</td>\n      <td>NaN</td>\n      <td>...</td>\n      <td>NaN</td>\n      <td>NaN</td>\n      <td>NaN</td>\n      <td>NaN</td>\n      <td>NaN</td>\n      <td>NaN</td>\n      <td>NaN</td>\n      <td>NaN</td>\n      <td>NaN</td>\n      <td>NaN</td>\n    </tr>\n    <tr>\n      <th>3</th>\n      <td>2.0</td>\n      <td>True</td>\n      <td>08 24, 2014</td>\n      <td>A2UH2QQ275NV45</td>\n      <td>7106116521</td>\n      <td>Jodi Stoner</td>\n      <td>too tiny an opening</td>\n      <td>Two Stars</td>\n      <td>1408838400</td>\n      <td>NaN</td>\n      <td>...</td>\n      <td>NaN</td>\n      <td>NaN</td>\n      <td>NaN</td>\n      <td>NaN</td>\n      <td>NaN</td>\n      <td>NaN</td>\n      <td>NaN</td>\n      <td>NaN</td>\n      <td>NaN</td>\n      <td>NaN</td>\n    </tr>\n    <tr>\n      <th>4</th>\n      <td>3.0</td>\n      <td>False</td>\n      <td>07 27, 2014</td>\n      <td>A89F3LQADZBS5</td>\n      <td>7106116521</td>\n      <td>Alexander D.</td>\n      <td>Okay</td>\n      <td>Three Stars</td>\n      <td>1406419200</td>\n      <td>NaN</td>\n      <td>...</td>\n      <td>NaN</td>\n      <td>NaN</td>\n      <td>NaN</td>\n      <td>NaN</td>\n      <td>NaN</td>\n      <td>NaN</td>\n      <td>NaN</td>\n      <td>NaN</td>\n      <td>NaN</td>\n      <td>NaN</td>\n    </tr>\n  </tbody>\n</table>\n<p>5 rows × 27 columns</p>\n</div>"
     },
     "execution_count": 3,
     "metadata": {},
     "output_type": "execute_result"
    }
   ],
   "source": [
    "with open(folder_path + file_name) as f:\n",
    "    # read json file to dict\n",
    "    data = f.read()\n",
    "    reviews = []\n",
    "\n",
    "    # Split JSON data into lines and load each line as JSON\n",
    "    for line in data.split('\\n'):\n",
    "        if line.strip():  # Check if line is not empty\n",
    "            review = json.loads(line)\n",
    "            reviews.append(review)  # Use reviewerID as key\n",
    "\n",
    "data = pd.json_normalize(reviews)#, \"style\", ['Size', 'Color'])\n",
    "ic(len(data))\n",
    "data.head()"
   ]
  },
  {
   "cell_type": "code",
   "execution_count": 4,
   "metadata": {},
   "outputs": [
    {
     "name": "stderr",
     "output_type": "stream",
     "text": [
      "ic| len(grouped): 186189\n",
      "ic| data['asin'].nunique(): 186189\n"
     ]
    },
    {
     "data": {
      "text/plain": "186189"
     },
     "execution_count": 4,
     "metadata": {},
     "output_type": "execute_result"
    }
   ],
   "source": [
    "#group by asin\n",
    "grouped = data.groupby('asin')\n",
    "ic(len(grouped))\n",
    "grouped.head()\n",
    "ic(data['asin'].nunique())"
   ]
  },
  {
   "cell_type": "code",
   "execution_count": 5,
   "metadata": {},
   "outputs": [
    {
     "name": "stderr",
     "output_type": "stream",
     "text": [
      "ic| len(grouped): 749233\n",
      "ic| data['reviewerID'].nunique(): 749233\n"
     ]
    },
    {
     "data": {
      "text/plain": "749233"
     },
     "execution_count": 5,
     "metadata": {},
     "output_type": "execute_result"
    }
   ],
   "source": [
    "# group by reviewerID\n",
    "grouped = data.groupby('reviewerID')\n",
    "ic(len(grouped))\n",
    "grouped.head()\n",
    "# count unique reviewerID\n",
    "ic(data['reviewerID'].nunique())"
   ]
  },
  {
   "cell_type": "code",
   "execution_count": 6,
   "metadata": {},
   "outputs": [
    {
     "name": "stderr",
     "output_type": "stream",
     "text": [
      "ic| data.tail():         overall  verified   reviewTime         From ID       To ID  \\\n",
      "                 883631      5.0      True  02 21, 2017  A1ZSB2Q144UTEY  B01HJHTH5U   \n",
      "                 883632      5.0      True  11 25, 2016  A2CCDV0J5VB6F2  B01HJHTH5U   \n",
      "                 883633      3.0      True  11 10, 2016  A3O90PACS7B61K  B01HJHTH5U   \n",
      "                 883634      3.0      True  11 10, 2016  A2HO94I89U3LNH  B01HJHF97K   \n",
      "                 883635      5.0      True   08 9, 2016  A2RSX9E79DUHRX  B01HJG5NMW   \n",
      "                 \n",
      "                                reviewerName  \\\n",
      "                 883631      Amazon Customer   \n",
      "                 883632      Amazon Customer   \n",
      "                 883633             Fabfifty   \n",
      "                 883634               Mgomez   \n",
      "                 883635  Natasha Mascarenhas   \n",
      "                 \n",
      "                                                                reviewText  \\\n",
      "                 883631  I absolutely love this dress!!  It's sexy and ...   \n",
      "                 883632  I'm 5'6 175lbs. I'm on the tall side. I wear a...   \n",
      "                 883633                         Too big in the chest area!   \n",
      "                 883634                Too clear in the back, needs lining   \n",
      "                 883635  Ordered and was slightly small. Worked with th...   \n",
      "                 \n",
      "                                                                   summary  unixReviewTime  \\\n",
      "                 883631                       I absolutely love this dress      1487635200   \n",
      "                 883632  I wear a large and ordered a large and it stil...      1480032000   \n",
      "                 883633                                        Three Stars      1478736000   \n",
      "                 883634                                        Three Stars      1478736000   \n",
      "                 883635         The quality is excellent and it is so cute      1470700800   \n",
      "                 \n",
      "                        vote  ... style.Team Name: style.Style Name: style.Format:  \\\n",
      "                 883631  NaN  ...              NaN               NaN           NaN   \n",
      "                 883632    2  ...              NaN               NaN           NaN   \n",
      "                 883633  NaN  ...              NaN               NaN           NaN   \n",
      "                 883634  NaN  ...              NaN               NaN           NaN   \n",
      "                 883635  NaN  ...              NaN               NaN           NaN   \n",
      "                 \n",
      "                        style.Package Quantity: style.Material: style.Item Display Length:  \\\n",
      "                 883631                     NaN             NaN                        NaN   \n",
      "                 883632                     NaN             NaN                        NaN   \n",
      "                 883633                     NaN             NaN                        NaN   \n",
      "                 883634                     NaN             NaN                        NaN   \n",
      "                 883635                     NaN             NaN                        NaN   \n",
      "                 \n",
      "                        style.Gem Type: style.Item Package Quantity: style.Scent Name:  \\\n",
      "                 883631             NaN                          NaN               NaN   \n",
      "                 883632             NaN                          NaN               NaN   \n",
      "                 883633             NaN                          NaN               NaN   \n",
      "                 883634             NaN                          NaN               NaN   \n",
      "                 883635             NaN                          NaN               NaN   \n",
      "                 \n",
      "                        style.Shape:  \n",
      "                 883631          NaN  \n",
      "                 883632          NaN  \n",
      "                 883633          NaN  \n",
      "                 883634          NaN  \n",
      "                 883635          NaN  \n",
      "                 \n",
      "                 [5 rows x 27 columns]\n"
     ]
    },
    {
     "data": {
      "text/plain": "        overall  verified   reviewTime         From ID       To ID  \\\n0           5.0      True  10 20, 2014  A1D4G1SNUZWQOT  7106116521   \n1           2.0      True  09 28, 2014  A3DDWDH9PX2YX2  7106116521   \n2           4.0     False  08 25, 2014  A2MWC41EW7XL15  7106116521   \n3           2.0      True  08 24, 2014  A2UH2QQ275NV45  7106116521   \n4           3.0     False  07 27, 2014   A89F3LQADZBS5  7106116521   \n...         ...       ...          ...             ...         ...   \n883631      5.0      True  02 21, 2017  A1ZSB2Q144UTEY  B01HJHTH5U   \n883632      5.0      True  11 25, 2016  A2CCDV0J5VB6F2  B01HJHTH5U   \n883633      3.0      True  11 10, 2016  A3O90PACS7B61K  B01HJHTH5U   \n883634      3.0      True  11 10, 2016  A2HO94I89U3LNH  B01HJHF97K   \n883635      5.0      True   08 9, 2016  A2RSX9E79DUHRX  B01HJG5NMW   \n\n               reviewerName  \\\n0                     Tracy   \n1                 Sonja Lau   \n2                  Kathleen   \n3               Jodi Stoner   \n4              Alexander D.   \n...                     ...   \n883631      Amazon Customer   \n883632      Amazon Customer   \n883633             Fabfifty   \n883634               Mgomez   \n883635  Natasha Mascarenhas   \n\n                                               reviewText  \\\n0                                  Exactly what I needed.   \n1       I agree with the other review, the opening is ...   \n2       Love these... I am going to order another pack...   \n3                                     too tiny an opening   \n4                                                    Okay   \n...                                                   ...   \n883631  I absolutely love this dress!!  It's sexy and ...   \n883632  I'm 5'6 175lbs. I'm on the tall side. I wear a...   \n883633                         Too big in the chest area!   \n883634                Too clear in the back, needs lining   \n883635  Ordered and was slightly small. Worked with th...   \n\n                                                  summary  unixReviewTime  \\\n0                                  perfect replacements!!      1413763200   \n1       I agree with the other review, the opening is ...      1411862400   \n2                                     My New 'Friends' !!      1408924800   \n3                                               Two Stars      1408838400   \n4                                             Three Stars      1406419200   \n...                                                   ...             ...   \n883631                       I absolutely love this dress      1487635200   \n883632  I wear a large and ordered a large and it stil...      1480032000   \n883633                                        Three Stars      1478736000   \n883634                                        Three Stars      1478736000   \n883635         The quality is excellent and it is so cute      1470700800   \n\n       vote  ... style.Team Name: style.Style Name: style.Format:  \\\n0       NaN  ...              NaN               NaN           NaN   \n1         3  ...              NaN               NaN           NaN   \n2       NaN  ...              NaN               NaN           NaN   \n3       NaN  ...              NaN               NaN           NaN   \n4       NaN  ...              NaN               NaN           NaN   \n...     ...  ...              ...               ...           ...   \n883631  NaN  ...              NaN               NaN           NaN   \n883632    2  ...              NaN               NaN           NaN   \n883633  NaN  ...              NaN               NaN           NaN   \n883634  NaN  ...              NaN               NaN           NaN   \n883635  NaN  ...              NaN               NaN           NaN   \n\n       style.Package Quantity: style.Material: style.Item Display Length:  \\\n0                          NaN             NaN                        NaN   \n1                          NaN             NaN                        NaN   \n2                          NaN             NaN                        NaN   \n3                          NaN             NaN                        NaN   \n4                          NaN             NaN                        NaN   \n...                        ...             ...                        ...   \n883631                     NaN             NaN                        NaN   \n883632                     NaN             NaN                        NaN   \n883633                     NaN             NaN                        NaN   \n883634                     NaN             NaN                        NaN   \n883635                     NaN             NaN                        NaN   \n\n       style.Gem Type: style.Item Package Quantity: style.Scent Name:  \\\n0                  NaN                          NaN               NaN   \n1                  NaN                          NaN               NaN   \n2                  NaN                          NaN               NaN   \n3                  NaN                          NaN               NaN   \n4                  NaN                          NaN               NaN   \n...                ...                          ...               ...   \n883631             NaN                          NaN               NaN   \n883632             NaN                          NaN               NaN   \n883633             NaN                          NaN               NaN   \n883634             NaN                          NaN               NaN   \n883635             NaN                          NaN               NaN   \n\n       style.Shape:  \n0               NaN  \n1               NaN  \n2               NaN  \n3               NaN  \n4               NaN  \n...             ...  \n883631          NaN  \n883632          NaN  \n883633          NaN  \n883634          NaN  \n883635          NaN  \n\n[883636 rows x 27 columns]",
      "text/html": "<div>\n<style scoped>\n    .dataframe tbody tr th:only-of-type {\n        vertical-align: middle;\n    }\n\n    .dataframe tbody tr th {\n        vertical-align: top;\n    }\n\n    .dataframe thead th {\n        text-align: right;\n    }\n</style>\n<table border=\"1\" class=\"dataframe\">\n  <thead>\n    <tr style=\"text-align: right;\">\n      <th></th>\n      <th>overall</th>\n      <th>verified</th>\n      <th>reviewTime</th>\n      <th>From ID</th>\n      <th>To ID</th>\n      <th>reviewerName</th>\n      <th>reviewText</th>\n      <th>summary</th>\n      <th>unixReviewTime</th>\n      <th>vote</th>\n      <th>...</th>\n      <th>style.Team Name:</th>\n      <th>style.Style Name:</th>\n      <th>style.Format:</th>\n      <th>style.Package Quantity:</th>\n      <th>style.Material:</th>\n      <th>style.Item Display Length:</th>\n      <th>style.Gem Type:</th>\n      <th>style.Item Package Quantity:</th>\n      <th>style.Scent Name:</th>\n      <th>style.Shape:</th>\n    </tr>\n  </thead>\n  <tbody>\n    <tr>\n      <th>0</th>\n      <td>5.0</td>\n      <td>True</td>\n      <td>10 20, 2014</td>\n      <td>A1D4G1SNUZWQOT</td>\n      <td>7106116521</td>\n      <td>Tracy</td>\n      <td>Exactly what I needed.</td>\n      <td>perfect replacements!!</td>\n      <td>1413763200</td>\n      <td>NaN</td>\n      <td>...</td>\n      <td>NaN</td>\n      <td>NaN</td>\n      <td>NaN</td>\n      <td>NaN</td>\n      <td>NaN</td>\n      <td>NaN</td>\n      <td>NaN</td>\n      <td>NaN</td>\n      <td>NaN</td>\n      <td>NaN</td>\n    </tr>\n    <tr>\n      <th>1</th>\n      <td>2.0</td>\n      <td>True</td>\n      <td>09 28, 2014</td>\n      <td>A3DDWDH9PX2YX2</td>\n      <td>7106116521</td>\n      <td>Sonja Lau</td>\n      <td>I agree with the other review, the opening is ...</td>\n      <td>I agree with the other review, the opening is ...</td>\n      <td>1411862400</td>\n      <td>3</td>\n      <td>...</td>\n      <td>NaN</td>\n      <td>NaN</td>\n      <td>NaN</td>\n      <td>NaN</td>\n      <td>NaN</td>\n      <td>NaN</td>\n      <td>NaN</td>\n      <td>NaN</td>\n      <td>NaN</td>\n      <td>NaN</td>\n    </tr>\n    <tr>\n      <th>2</th>\n      <td>4.0</td>\n      <td>False</td>\n      <td>08 25, 2014</td>\n      <td>A2MWC41EW7XL15</td>\n      <td>7106116521</td>\n      <td>Kathleen</td>\n      <td>Love these... I am going to order another pack...</td>\n      <td>My New 'Friends' !!</td>\n      <td>1408924800</td>\n      <td>NaN</td>\n      <td>...</td>\n      <td>NaN</td>\n      <td>NaN</td>\n      <td>NaN</td>\n      <td>NaN</td>\n      <td>NaN</td>\n      <td>NaN</td>\n      <td>NaN</td>\n      <td>NaN</td>\n      <td>NaN</td>\n      <td>NaN</td>\n    </tr>\n    <tr>\n      <th>3</th>\n      <td>2.0</td>\n      <td>True</td>\n      <td>08 24, 2014</td>\n      <td>A2UH2QQ275NV45</td>\n      <td>7106116521</td>\n      <td>Jodi Stoner</td>\n      <td>too tiny an opening</td>\n      <td>Two Stars</td>\n      <td>1408838400</td>\n      <td>NaN</td>\n      <td>...</td>\n      <td>NaN</td>\n      <td>NaN</td>\n      <td>NaN</td>\n      <td>NaN</td>\n      <td>NaN</td>\n      <td>NaN</td>\n      <td>NaN</td>\n      <td>NaN</td>\n      <td>NaN</td>\n      <td>NaN</td>\n    </tr>\n    <tr>\n      <th>4</th>\n      <td>3.0</td>\n      <td>False</td>\n      <td>07 27, 2014</td>\n      <td>A89F3LQADZBS5</td>\n      <td>7106116521</td>\n      <td>Alexander D.</td>\n      <td>Okay</td>\n      <td>Three Stars</td>\n      <td>1406419200</td>\n      <td>NaN</td>\n      <td>...</td>\n      <td>NaN</td>\n      <td>NaN</td>\n      <td>NaN</td>\n      <td>NaN</td>\n      <td>NaN</td>\n      <td>NaN</td>\n      <td>NaN</td>\n      <td>NaN</td>\n      <td>NaN</td>\n      <td>NaN</td>\n    </tr>\n    <tr>\n      <th>...</th>\n      <td>...</td>\n      <td>...</td>\n      <td>...</td>\n      <td>...</td>\n      <td>...</td>\n      <td>...</td>\n      <td>...</td>\n      <td>...</td>\n      <td>...</td>\n      <td>...</td>\n      <td>...</td>\n      <td>...</td>\n      <td>...</td>\n      <td>...</td>\n      <td>...</td>\n      <td>...</td>\n      <td>...</td>\n      <td>...</td>\n      <td>...</td>\n      <td>...</td>\n      <td>...</td>\n    </tr>\n    <tr>\n      <th>883631</th>\n      <td>5.0</td>\n      <td>True</td>\n      <td>02 21, 2017</td>\n      <td>A1ZSB2Q144UTEY</td>\n      <td>B01HJHTH5U</td>\n      <td>Amazon Customer</td>\n      <td>I absolutely love this dress!!  It's sexy and ...</td>\n      <td>I absolutely love this dress</td>\n      <td>1487635200</td>\n      <td>NaN</td>\n      <td>...</td>\n      <td>NaN</td>\n      <td>NaN</td>\n      <td>NaN</td>\n      <td>NaN</td>\n      <td>NaN</td>\n      <td>NaN</td>\n      <td>NaN</td>\n      <td>NaN</td>\n      <td>NaN</td>\n      <td>NaN</td>\n    </tr>\n    <tr>\n      <th>883632</th>\n      <td>5.0</td>\n      <td>True</td>\n      <td>11 25, 2016</td>\n      <td>A2CCDV0J5VB6F2</td>\n      <td>B01HJHTH5U</td>\n      <td>Amazon Customer</td>\n      <td>I'm 5'6 175lbs. I'm on the tall side. I wear a...</td>\n      <td>I wear a large and ordered a large and it stil...</td>\n      <td>1480032000</td>\n      <td>2</td>\n      <td>...</td>\n      <td>NaN</td>\n      <td>NaN</td>\n      <td>NaN</td>\n      <td>NaN</td>\n      <td>NaN</td>\n      <td>NaN</td>\n      <td>NaN</td>\n      <td>NaN</td>\n      <td>NaN</td>\n      <td>NaN</td>\n    </tr>\n    <tr>\n      <th>883633</th>\n      <td>3.0</td>\n      <td>True</td>\n      <td>11 10, 2016</td>\n      <td>A3O90PACS7B61K</td>\n      <td>B01HJHTH5U</td>\n      <td>Fabfifty</td>\n      <td>Too big in the chest area!</td>\n      <td>Three Stars</td>\n      <td>1478736000</td>\n      <td>NaN</td>\n      <td>...</td>\n      <td>NaN</td>\n      <td>NaN</td>\n      <td>NaN</td>\n      <td>NaN</td>\n      <td>NaN</td>\n      <td>NaN</td>\n      <td>NaN</td>\n      <td>NaN</td>\n      <td>NaN</td>\n      <td>NaN</td>\n    </tr>\n    <tr>\n      <th>883634</th>\n      <td>3.0</td>\n      <td>True</td>\n      <td>11 10, 2016</td>\n      <td>A2HO94I89U3LNH</td>\n      <td>B01HJHF97K</td>\n      <td>Mgomez</td>\n      <td>Too clear in the back, needs lining</td>\n      <td>Three Stars</td>\n      <td>1478736000</td>\n      <td>NaN</td>\n      <td>...</td>\n      <td>NaN</td>\n      <td>NaN</td>\n      <td>NaN</td>\n      <td>NaN</td>\n      <td>NaN</td>\n      <td>NaN</td>\n      <td>NaN</td>\n      <td>NaN</td>\n      <td>NaN</td>\n      <td>NaN</td>\n    </tr>\n    <tr>\n      <th>883635</th>\n      <td>5.0</td>\n      <td>True</td>\n      <td>08 9, 2016</td>\n      <td>A2RSX9E79DUHRX</td>\n      <td>B01HJG5NMW</td>\n      <td>Natasha Mascarenhas</td>\n      <td>Ordered and was slightly small. Worked with th...</td>\n      <td>The quality is excellent and it is so cute</td>\n      <td>1470700800</td>\n      <td>NaN</td>\n      <td>...</td>\n      <td>NaN</td>\n      <td>NaN</td>\n      <td>NaN</td>\n      <td>NaN</td>\n      <td>NaN</td>\n      <td>NaN</td>\n      <td>NaN</td>\n      <td>NaN</td>\n      <td>NaN</td>\n      <td>NaN</td>\n    </tr>\n  </tbody>\n</table>\n<p>883636 rows × 27 columns</p>\n</div>"
     },
     "execution_count": 6,
     "metadata": {},
     "output_type": "execute_result"
    }
   ],
   "source": [
    "# convert reviewTime from M D,Y to datetime (POSIX time)\n",
    "#timestamp_format = '%m %d, %Y'\n",
    "#format_fn = lambda x: int(datetime.strptime(x, timestamp_format).timestamp())\n",
    "#data['reviewTime'] = data['reviewTime'].apply(format_fn)\n",
    "#data['reviewTime'] = pd.to_datetime(data['reviewTime'], format='%m %d, %Y')\n",
    "# rename src and dest\n",
    "data.rename(columns={'reviewerID': 'From ID', 'asin': 'To ID'}, inplace=True)\n",
    "# style column is a json object, convert each key to a column\n",
    "\n",
    "ic(data.tail())\n",
    "data"
   ]
  },
  {
   "cell_type": "code",
   "execution_count": 7,
   "metadata": {},
   "outputs": [],
   "source": [
    "# store the data in a csv file\n",
    "data.to_csv(folder_path + file_name + \".csv\", index=False)"
   ]
  },
  {
   "cell_type": "code",
   "execution_count": 8,
   "metadata": {},
   "outputs": [
    {
     "name": "stderr",
     "output_type": "stream",
     "text": [
      "C:\\Users\\Efe\\AppData\\Local\\Temp\\ipykernel_33684\\87688146.py:2: DtypeWarning: Columns (13,14,16,17,18,19,21,23,25,26) have mixed types. Specify dtype option on import or set low_memory=False.\n",
      "  preprocessed_data = pd.read_csv(f)\n",
      "ic| preprocessed_data.head():    overall  verified   reviewTime         From ID       To ID  reviewerName  \\\n",
      "                              0      5.0      True  10 20, 2014  A1D4G1SNUZWQOT  7106116521         Tracy   \n",
      "                              1      2.0      True  09 28, 2014  A3DDWDH9PX2YX2  7106116521     Sonja Lau   \n",
      "                              2      4.0     False  08 25, 2014  A2MWC41EW7XL15  7106116521      Kathleen   \n",
      "                              3      2.0      True  08 24, 2014  A2UH2QQ275NV45  7106116521   Jodi Stoner   \n",
      "                              4      3.0     False  07 27, 2014   A89F3LQADZBS5  7106116521  Alexander D.   \n",
      "                              \n",
      "                                                                        reviewText  \\\n",
      "                              0                             Exactly what I needed.   \n",
      "                              1  I agree with the other review, the opening is ...   \n",
      "                              2  Love these... I am going to order another pack...   \n",
      "                              3                                too tiny an opening   \n",
      "                              4                                               Okay   \n",
      "                              \n",
      "                                                                           summary  unixReviewTime  vote  \\\n",
      "                              0                             perfect replacements!!      1413763200   NaN   \n",
      "                              1  I agree with the other review, the opening is ...      1411862400   3.0   \n",
      "                              2                                My New 'Friends' !!      1408924800   NaN   \n",
      "                              3                                          Two Stars      1408838400   NaN   \n",
      "                              4                                        Three Stars      1406419200   NaN   \n",
      "                              \n",
      "                                 ... style.Team Name: style.Style Name: style.Format:  \\\n",
      "                              0  ...              NaN               NaN           NaN   \n",
      "                              1  ...              NaN               NaN           NaN   \n",
      "                              2  ...              NaN               NaN           NaN   \n",
      "                              3  ...              NaN               NaN           NaN   \n",
      "                              4  ...              NaN               NaN           NaN   \n",
      "                              \n",
      "                                style.Package Quantity: style.Material: style.Item Display Length:  \\\n",
      "                              0                     NaN             NaN                        NaN   \n",
      "                              1                     NaN             NaN                        NaN   \n",
      "                              2                     NaN             NaN                        NaN   \n",
      "                              3                     NaN             NaN                        NaN   \n",
      "                              4                     NaN             NaN                        NaN   \n",
      "                              \n",
      "                                style.Gem Type: style.Item Package Quantity: style.Scent Name: style.Shape:  \n",
      "                              0             NaN                          NaN               NaN          NaN  \n",
      "                              1             NaN                          NaN               NaN          NaN  \n",
      "                              2             NaN                          NaN               NaN          NaN  \n",
      "                              3             NaN                          NaN               NaN          NaN  \n",
      "                              4             NaN                          NaN               NaN          NaN  \n",
      "                              \n",
      "                              [5 rows x 27 columns]\n",
      "ic| len(preprocessed_data): 883636\n"
     ]
    },
    {
     "data": {
      "text/plain": "883636"
     },
     "execution_count": 8,
     "metadata": {},
     "output_type": "execute_result"
    }
   ],
   "source": [
    "with open(folder_path + file_name + \".csv\") as f:\n",
    "    preprocessed_data = pd.read_csv(f)\n",
    "ic(preprocessed_data.head())\n",
    "ic(len(preprocessed_data))"
   ]
  },
  {
   "cell_type": "code",
   "execution_count": 9,
   "metadata": {},
   "outputs": [
    {
     "name": "stderr",
     "output_type": "stream",
     "text": [
      "ic| len(edge_index): 883636\n",
      "ic| edge_index.head():           From ID       To ID\n",
      "                       0  A1D4G1SNUZWQOT  7106116521\n",
      "                       1  A3DDWDH9PX2YX2  7106116521\n",
      "                       2  A2MWC41EW7XL15  7106116521\n",
      "                       3  A2UH2QQ275NV45  7106116521\n",
      "                       4   A89F3LQADZBS5  7106116521\n"
     ]
    },
    {
     "data": {
      "text/plain": "          From ID       To ID\n0  A1D4G1SNUZWQOT  7106116521\n1  A3DDWDH9PX2YX2  7106116521\n2  A2MWC41EW7XL15  7106116521\n3  A2UH2QQ275NV45  7106116521\n4   A89F3LQADZBS5  7106116521",
      "text/html": "<div>\n<style scoped>\n    .dataframe tbody tr th:only-of-type {\n        vertical-align: middle;\n    }\n\n    .dataframe tbody tr th {\n        vertical-align: top;\n    }\n\n    .dataframe thead th {\n        text-align: right;\n    }\n</style>\n<table border=\"1\" class=\"dataframe\">\n  <thead>\n    <tr style=\"text-align: right;\">\n      <th></th>\n      <th>From ID</th>\n      <th>To ID</th>\n    </tr>\n  </thead>\n  <tbody>\n    <tr>\n      <th>0</th>\n      <td>A1D4G1SNUZWQOT</td>\n      <td>7106116521</td>\n    </tr>\n    <tr>\n      <th>1</th>\n      <td>A3DDWDH9PX2YX2</td>\n      <td>7106116521</td>\n    </tr>\n    <tr>\n      <th>2</th>\n      <td>A2MWC41EW7XL15</td>\n      <td>7106116521</td>\n    </tr>\n    <tr>\n      <th>3</th>\n      <td>A2UH2QQ275NV45</td>\n      <td>7106116521</td>\n    </tr>\n    <tr>\n      <th>4</th>\n      <td>A89F3LQADZBS5</td>\n      <td>7106116521</td>\n    </tr>\n  </tbody>\n</table>\n</div>"
     },
     "execution_count": 9,
     "metadata": {},
     "output_type": "execute_result"
    }
   ],
   "source": [
    "# create an edge list out of preproccessed_data using From ID and To ID\n",
    "edge_index = preprocessed_data[['From ID', 'To ID']]\n",
    "ic(len(edge_index))\n",
    "ic(edge_index.head())"
   ]
  },
  {
   "cell_type": "code",
   "execution_count": 10,
   "metadata": {},
   "outputs": [
    {
     "name": "stderr",
     "output_type": "stream",
     "text": [
      "ic| reviewer_review_count.head(): From ID\n",
      "                                  A3G5KDMFNRUXHB    40\n",
      "                                  A3JBQHQZEZPQK4    36\n",
      "                                  A1RRX286ZRI830    32\n",
      "                                  A2PBHVTPTIIGKR    31\n",
      "                                  A2GP4EJIAA2OE0    29\n",
      "                                  Name: count, dtype: int64\n"
     ]
    },
    {
     "data": {
      "text/plain": "<Axes: >"
     },
     "execution_count": 10,
     "metadata": {},
     "output_type": "execute_result"
    },
    {
     "data": {
      "text/plain": "<Figure size 640x480 with 1 Axes>",
      "image/png": "[encoded data removed]"
     },
     "metadata": {},
     "output_type": "display_data"
    }
   ],
   "source": [
    "# histogram of the number of reviews per reviewer\n",
    "reviewer_review_count = preprocessed_data['From ID'].value_counts()\n",
    "ic(reviewer_review_count.head())\n",
    "# depict the histogram in log scale\n",
    "reviewer_review_count.hist(bins=100, log=True)"
   ]
  },
  {
   "cell_type": "code",
   "execution_count": 11,
   "metadata": {},
   "outputs": [
    {
     "name": "stderr",
     "output_type": "stream",
     "text": [
      "ic| product_review_count.head(): To ID\n",
      "                                 B000V0IBDM    4384\n",
      "                                 B000KPIHQ4    4375\n",
      "                                 B00I0VHS10    3889\n",
      "                                 B00RLSCLJM    3638\n",
      "                                 B000PHANNM    2572\n",
      "                                 Name: count, dtype: int64\n"
     ]
    },
    {
     "data": {
      "text/plain": "<Axes: >"
     },
     "execution_count": 11,
     "metadata": {},
     "output_type": "execute_result"
    },
    {
     "data": {
      "text/plain": "<Figure size 640x480 with 1 Axes>",
      "image/png": "[encoded data removed]"
     },
     "metadata": {},
     "output_type": "display_data"
    }
   ],
   "source": [
    "# histogram of the number of reviews per product\n",
    "product_review_count = preprocessed_data['To ID'].value_counts()\n",
    "ic(product_review_count.head())\n",
    "# depict the histogram in log scale\n",
    "product_review_count.hist(bins=100, log=True)"
   ]
  },
  {
   "cell_type": "code",
   "execution_count": 12,
   "metadata": {},
   "outputs": [
    {
     "name": "stderr",
     "output_type": "stream",
     "text": [
      "C:\\Users\\Efe\\anaconda3\\envs\\cse3000\\lib\\site-packages\\torch_geometric\\data\\storage.py:450: UserWarning: Unable to accurately infer 'num_nodes' from the attribute set '{'edge_index'}'. Please explicitly set 'num_nodes' as an attribute of 'data' to suppress this warning\n",
      "  warnings.warn(\n",
      "ic| data.num_nodes: 935422\n",
      "ic| data.num_edges: 883636\n",
      "ic| data.is_directed(): True\n"
     ]
    },
    {
     "data": {
      "text/plain": "True"
     },
     "execution_count": 12,
     "metadata": {},
     "output_type": "execute_result"
    }
   ],
   "source": [
    "import torch\n",
    "from torch_geometric.data import Data\n",
    "\n",
    "# create node mapping for reviewerID and asin\n",
    "node_mapping = {}\n",
    "edges = []\n",
    "for reviewer, product in edge_index.values:\n",
    "    if reviewer not in node_mapping:\n",
    "        node_mapping[reviewer] = len(node_mapping)\n",
    "    if product not in node_mapping:\n",
    "        node_mapping[product] = len(node_mapping)\n",
    "    edges.append([node_mapping[reviewer], node_mapping[product]])\n",
    "\n",
    "# Convert edge_index to PyTorch tensor\n",
    "edge_index_tensor = torch.tensor(edges, dtype=torch.long).t().contiguous()\n",
    "\n",
    "data = Data(edge_index=edge_index_tensor)\n",
    "ic(data.num_nodes)\n",
    "ic(data.num_edges)\n",
    "ic(data.is_directed())"
   ]
  },
  {
   "cell_type": "code",
   "execution_count": 13,
   "outputs": [
    {
     "name": "stderr",
     "output_type": "stream",
     "text": [
      "ic| missing_attributes: {'_edge_attr_cls': False, '_store': False, '_tensor_attr_cls': False}\n",
      "ic| f\"Total missing values: {total_missing}\": 'Total missing values: 0'\n",
      "ic| f\"Percentage of missing data: {percentage_missing}%\": 'Percentage of missing data: 0.0%'\n"
     ]
    },
    {
     "data": {
      "text/plain": "'Percentage of missing data: 0.0%'"
     },
     "execution_count": 13,
     "metadata": {},
     "output_type": "execute_result"
    }
   ],
   "source": [
    "#num/percentage of missing data\n",
    "missing_attributes = {attr: val is None for attr, val in data.__dict__.items()}\n",
    "total_missing = sum(val is None for val in data.__dict__.values())\n",
    "percentage_missing = (total_missing / len(data.__dict__)) * 100\n",
    "\n",
    "ic(missing_attributes)\n",
    "ic(f\"Total missing values: {total_missing}\")\n",
    "ic(f\"Percentage of missing data: {percentage_missing}%\")"
   ],
   "metadata": {
    "collapsed": false
   }
  },
  {
   "cell_type": "code",
   "execution_count": 22,
   "outputs": [
    {
     "name": "stderr",
     "output_type": "stream",
     "text": [
      "C:\\Users\\Efe\\anaconda3\\envs\\cse3000\\lib\\site-packages\\torch_geometric\\data\\storage.py:450: UserWarning: Unable to accurately infer 'num_nodes' from the attribute set '{'edge_index'}'. Please explicitly set 'num_nodes' as an attribute of 'data' to suppress this warning\n",
      "  warnings.warn(\n",
      "ic| degree_centrality.get(3): 1.0690373639249066e-06\n"
     ]
    },
    {
     "data": {
      "text/plain": "<Figure size 1000x600 with 1 Axes>",
      "image/png": "[encoded data removed]"
     },
     "metadata": {},
     "output_type": "display_data"
    }
   ],
   "source": [
    "if 'edge_index' in data:\n",
    "    G = utils.to_networkx(data, to_undirected=True)\n",
    "    #ic(list(G.nodes(data=True))[0:1000:None])\n",
    "    degree_centrality = nx.degree_centrality(G)\n",
    "\n",
    "    # Limit the nodes to the first 1000 for computational feasibility\n",
    "    limited_nodes = list(degree_centrality.keys())[:10000]\n",
    "    limited_centralities = [degree_centrality[node] for node in limited_nodes]\n",
    "\n",
    "    # Plotting\n",
    "    plt.figure(figsize=(10, 6))\n",
    "    plt.bar(limited_nodes, limited_centralities, color='b')\n",
    "    plt.xlabel('Node')\n",
    "    plt.ylabel('Degree Centrality')\n",
    "    plt.title('Degree Centrality of First 1000 Nodes in the Graph')\n",
    "    plt.show()"
   ],
   "metadata": {
    "collapsed": false
   }
  },
  {
   "cell_type": "code",
   "execution_count": null,
   "outputs": [],
   "source": [],
   "metadata": {
    "collapsed": false
   }
  }
 ],
 "metadata": {
  "kernelspec": {
   "display_name": "tabgt",
   "language": "python",
   "name": "python3"
  },
  "language_info": {
   "codemirror_mode": {
    "name": "ipython",
    "version": 3
   },
   "file_extension": ".py",
   "mimetype": "text/x-python",
   "name": "python",
   "nbconvert_exporter": "python",
   "pygments_lexer": "ipython3",
   "version": "3.10.13"
  }
 },
 "nbformat": 4,
 "nbformat_minor": 2
}
