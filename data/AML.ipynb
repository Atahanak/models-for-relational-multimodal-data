{
 "cells": [
  {
   "cell_type": "code",
   "execution_count": 1,
   "metadata": {},
   "outputs": [],
   "source": [
    "\"\"\"Script to pre-process AML transaction data to be used in training and inference.\"\"\"\n",
    "import os\n",
    "import argparse\n",
    "import logging\n",
    "from datetime import datetime\n",
    "\n",
    "import pandas as pd\n",
    "import numpy as np\n",
    "from icecream import ic\n",
    "\n",
    "# Setup logging\n",
    "logger = logging.getLogger(__name__)\n",
    "logging.basicConfig(format = '%(asctime)s - %(levelname)s - %(name)s -   %(message)s',\n",
    "                    datefmt = '%m/%d/%Y %H:%M:%S',\n",
    "                    level = logging.INFO)"
   ]
  },
  {
   "cell_type": "code",
   "execution_count": 18,
   "metadata": {},
   "outputs": [
    {
     "ename": "",
     "evalue": "",
     "output_type": "error",
     "traceback": [
      "\u001b[1;31mThe Kernel crashed while executing code in the current cell or a previous cell. \n",
      "\u001b[1;31mPlease review the code in the cell(s) to identify a possible cause of the failure. \n",
      "\u001b[1;31mClick <a href='https://aka.ms/vscodeJupyterKernelCrash'>here</a> for more info. \n",
      "\u001b[1;31mView Jupyter <a href='command:jupyter.viewOutput'>log</a> for further details."
     ]
    }
   ],
   "source": [
    "df = pd.read_csv('/mnt/data/ibm-transactions-for-anti-money-laundering-aml/HI-Large_Trans.csv')\n",
    "# print the histogram of Amount Recieved column\n",
    "print(df['Amount Received'].hist(bins=10000, color='blue', edgecolor='black'))\n",
    "# print min and max\n",
    "print(df['Amount Received'].min())\n",
    "print(df['Amount Received'].max())"
   ]
  },
  {
   "cell_type": "code",
   "execution_count": null,
   "metadata": {},
   "outputs": [
    {
     "name": "stdout",
     "output_type": "stream",
     "text": [
      "Account\n",
      "80C746490        [20703, 19200]\n",
      "81A27EB30      [160226, 264674]\n",
      "81F71BE10       [60269, 157344]\n",
      "82954CE40      [144465, 143318]\n",
      "83212BF10    [2125527, 1135003]\n",
      "83214F0E0    [2129483, 2133788]\n",
      "8347C8F30    [2142416, 2142968]\n",
      "83510AC20       [51969, 243938]\n",
      "83B7523F0     [2121060, 298409]\n",
      "83FFB8A70     [172737, 1166034]\n",
      "84ADF03D0       [164028, 38633]\n",
      "851912640      [246267, 238428]\n",
      "Name: From Bank, dtype: object\n"
     ]
    }
   ],
   "source": [
    "# Group by 'Account' and aggregate 'From Bank'\n",
    "grouped = df.groupby('Account')['From Bank'].unique()\n",
    "\n",
    "# Find accounts with multiple banks\n",
    "duplicated_accounts = grouped[grouped.apply(lambda x: len(x) > 1)]\n",
    "\n",
    "print(duplicated_accounts)"
   ]
  }
 ],
 "metadata": {
  "kernelspec": {
   "display_name": "rel-mm",
   "language": "python",
   "name": "python3"
  },
  "language_info": {
   "codemirror_mode": {
    "name": "ipython",
    "version": 3
   },
   "file_extension": ".py",
   "mimetype": "text/x-python",
   "name": "python",
   "nbconvert_exporter": "python",
   "pygments_lexer": "ipython3",
   "version": "3.10.14"
  }
 },
 "nbformat": 4,
 "nbformat_minor": 2
}
