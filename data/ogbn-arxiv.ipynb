{
 "cells": [
  {
   "cell_type": "code",
   "execution_count": 5,
   "metadata": {},
   "outputs": [],
   "source": [
    "from ogb.nodeproppred import PygNodePropPredDataset"
   ]
  },
  {
   "cell_type": "code",
   "execution_count": 7,
   "metadata": {},
   "outputs": [
    {
     "name": "stdout",
     "output_type": "stream",
     "text": [
      "Downloading http://snap.stanford.edu/ogb/data/nodeproppred/arxiv.zip\n"
     ]
    },
    {
     "name": "stderr",
     "output_type": "stream",
     "text": [
      "Downloaded 0.08 GB: 100%|██████████| 81/81 [00:15<00:00,  5.13it/s]\n",
      "Processing...\n"
     ]
    },
    {
     "name": "stdout",
     "output_type": "stream",
     "text": [
      "Extracting /mnt/data/arxiv.zip\n",
      "Loading necessary files...\n",
      "This might take a while.\n",
      "Processing graphs...\n"
     ]
    },
    {
     "name": "stderr",
     "output_type": "stream",
     "text": [
      "100%|██████████| 1/1 [00:00<00:00, 37786.52it/s]\n"
     ]
    },
    {
     "name": "stdout",
     "output_type": "stream",
     "text": [
      "Converting graphs into PyG objects...\n"
     ]
    },
    {
     "name": "stderr",
     "output_type": "stream",
     "text": [
      "100%|██████████| 1/1 [00:00<00:00, 9177.91it/s]"
     ]
    },
    {
     "name": "stdout",
     "output_type": "stream",
     "text": [
      "Saving...\n"
     ]
    },
    {
     "name": "stderr",
     "output_type": "stream",
     "text": [
      "\n",
      "Done!\n"
     ]
    }
   ],
   "source": [
    "# Download and process data at './dataset/ogbg_molhiv/'\n",
    "dataset = PygNodePropPredDataset(name = \"ogbn-arxiv\", root = '/mnt/data/')"
   ]
  },
  {
   "cell_type": "code",
   "execution_count": 3,
   "metadata": {},
   "outputs": [
    {
     "name": "stdout",
     "output_type": "stream",
     "text": [
      "        0       1\n",
      "0  104447   13091\n",
      "1   15858   47283\n",
      "2  107156   69161\n",
      "3  107156  136440\n",
      "4  107156  107366\n",
      "        0         1         2         3         4         5         6    \\\n",
      "0 -0.057943 -0.052530 -0.072603 -0.026555  0.130435 -0.241386 -0.449242   \n",
      "1 -0.124500 -0.070665 -0.325202  0.007779 -0.001559  0.074189 -0.191013   \n",
      "2 -0.080242 -0.023328 -0.183787 -0.180707  0.075765 -0.125818 -0.394573   \n",
      "3 -0.145044  0.054915 -0.126666  0.039971 -0.055909 -0.101278 -0.339202   \n",
      "4 -0.071154  0.070766 -0.281432 -0.161892 -0.165246 -0.029116 -0.338593   \n",
      "\n",
      "        7         8         9    ...       118       119       120       121  \\\n",
      "0 -0.018443 -0.087218  0.112320  ...  0.211490 -0.226118 -0.185603  0.053230   \n",
      "1  0.049689  0.026369  0.099364  ...  0.106316  0.052926 -0.258378  0.021567   \n",
      "2 -0.219078 -0.108931  0.056966  ...  0.019453 -0.070291 -0.177562 -0.214012   \n",
      "3 -0.115801 -0.080058 -0.001633  ... -0.065752  0.042735  0.066338 -0.226921   \n",
      "4 -0.138727  0.100015  0.132794  ... -0.056130  0.047475 -0.263795  0.026462   \n",
      "\n",
      "        122       123       124       125       126       127  \n",
      "0  0.332873  0.104175  0.007408  0.173364 -0.172796 -0.140059  \n",
      "1  0.281503 -0.173423  0.202082  0.068524 -0.372111 -0.301036  \n",
      "2  0.182186 -0.121589 -0.073642  0.109919  0.117589 -0.139883  \n",
      "3  0.188418 -0.017295  0.063449  0.017816  0.085364 -0.081804  \n",
      "4  0.376349 -0.253772  0.084472  0.098033 -0.075347 -0.111687  \n",
      "\n",
      "[5 rows x 128 columns]\n",
      "    0\n",
      "0   4\n",
      "1   5\n",
      "2  28\n",
      "3   8\n",
      "4  27\n",
      "      0\n",
      "0  2013\n",
      "1  2015\n",
      "2  2014\n",
      "3  2014\n",
      "4  2014\n"
     ]
    }
   ],
   "source": [
    "import pandas as pd\n",
    "edges = pd.read_csv('/mnt/data/ogbn_arxiv/raw/edge.csv', header=None)\n",
    "node_features = pd.read_csv('/mnt/data/ogbn_arxiv/raw/node-feat.csv', header=None)\n",
    "node_labels = pd.read_csv('/mnt/data/ogbn_arxiv/raw/node-label.csv',  header=None)\n",
    "node_years = pd.read_csv('/mnt/data/ogbn_arxiv/raw/node_year.csv',  header=None)\n",
    "print(edges.head())\n",
    "print(node_features.head())\n",
    "print(node_labels.head())\n",
    "print(node_years.head())"
   ]
  },
  {
   "cell_type": "code",
   "execution_count": 4,
   "metadata": {},
   "outputs": [
    {
     "name": "stdout",
     "output_type": "stream",
     "text": [
      "        f_0       f_1       f_2       f_3       f_4       f_5       f_6  \\\n",
      "0 -0.057943 -0.052530 -0.072603 -0.026555  0.130435 -0.241386 -0.449242   \n",
      "1 -0.124500 -0.070665 -0.325202  0.007779 -0.001559  0.074189 -0.191013   \n",
      "2 -0.080242 -0.023328 -0.183787 -0.180707  0.075765 -0.125818 -0.394573   \n",
      "3 -0.145044  0.054915 -0.126666  0.039971 -0.055909 -0.101278 -0.339202   \n",
      "4 -0.071154  0.070766 -0.281432 -0.161892 -0.165246 -0.029116 -0.338593   \n",
      "\n",
      "        f_7       f_8       f_9  ...     f_121     f_122     f_123     f_124  \\\n",
      "0 -0.018443 -0.087218  0.112320  ...  0.053230  0.332873  0.104175  0.007408   \n",
      "1  0.049689  0.026369  0.099364  ...  0.021567  0.281503 -0.173423  0.202082   \n",
      "2 -0.219078 -0.108931  0.056966  ... -0.214012  0.182186 -0.121589 -0.073642   \n",
      "3 -0.115801 -0.080058 -0.001633  ... -0.226921  0.188418 -0.017295  0.063449   \n",
      "4 -0.138727  0.100015  0.132794  ...  0.026462  0.376349 -0.253772  0.084472   \n",
      "\n",
      "      f_125     f_126     f_127  label  year  id  \n",
      "0  0.173364 -0.172796 -0.140059      4  2013   0  \n",
      "1  0.068524 -0.372111 -0.301036      5  2015   1  \n",
      "2  0.109919  0.117589 -0.139883     28  2014   2  \n",
      "3  0.017816  0.085364 -0.081804      8  2014   3  \n",
      "4  0.098033 -0.075347 -0.111687     27  2014   4  \n",
      "\n",
      "[5 rows x 131 columns]\n",
      "(169343, 131)\n"
     ]
    }
   ],
   "source": [
    "# merge node features labels and years\n",
    "node_data = pd.concat([node_features, node_labels, node_years], axis=1)\n",
    "# add id column\n",
    "node_data['id'] = node_data.index\n",
    "columns = ['f_'+str(i) for i in range(node_features.shape[1])]\n",
    "columns += ['label', 'year', 'id']\n",
    "node_data.columns = columns\n",
    "print(node_data.head())\n",
    "print(node_data.shape)"
   ]
  },
  {
   "cell_type": "code",
   "execution_count": 5,
   "metadata": {},
   "outputs": [
    {
     "name": "stdout",
     "output_type": "stream",
     "text": [
      "                 f_0            f_1            f_2            f_3  \\\n",
      "count  169343.000000  169343.000000  169343.000000  169343.000000   \n",
      "mean       -0.095499       0.018615      -0.200257      -0.050083   \n",
      "std         0.104760       0.107906       0.114011       0.117659   \n",
      "min        -0.753942      -0.711038      -1.239961      -0.826783   \n",
      "25%        -0.161587      -0.050627      -0.270516      -0.127758   \n",
      "50%        -0.095248       0.016597      -0.197415      -0.054508   \n",
      "75%        -0.029251       0.085527      -0.126237       0.023043   \n",
      "max         0.698438       0.709360       0.610937       0.878995   \n",
      "\n",
      "                 f_4            f_5            f_6            f_7  \\\n",
      "count  169343.000000  169343.000000  169343.000000  169343.000000   \n",
      "mean        0.049301      -0.085223      -0.369258      -0.111832   \n",
      "std         0.106440       0.107372       0.114725       0.130833   \n",
      "min        -0.899320      -1.006146      -1.050989      -1.061832   \n",
      "25%        -0.016998      -0.152594      -0.443579      -0.199086   \n",
      "50%         0.050127      -0.085322      -0.370543      -0.118406   \n",
      "75%         0.117085      -0.017517      -0.296716      -0.032147   \n",
      "max         0.714684       0.658821       0.418793       0.844044   \n",
      "\n",
      "                 f_8            f_9  ...          f_121          f_122  \\\n",
      "count  169343.000000  169343.000000  ...  169343.000000  169343.000000   \n",
      "mean        0.083998       0.045889  ...      -0.080385       0.315474   \n",
      "std         0.143303       0.115820  ...       0.101785       0.110271   \n",
      "min        -0.818375      -0.885494  ...      -0.882519      -0.573742   \n",
      "25%        -0.013167      -0.028734  ...      -0.144697       0.248785   \n",
      "50%         0.084123       0.045137  ...      -0.082802       0.319374   \n",
      "75%         0.179826       0.120009  ...      -0.018256       0.387041   \n",
      "max         0.878136       0.837103  ...       0.902845       1.076078   \n",
      "\n",
      "               f_123          f_124          f_125          f_126  \\\n",
      "count  169343.000000  169343.000000  169343.000000  169343.000000   \n",
      "mean       -0.091896       0.133277       0.113858      -0.062727   \n",
      "std         0.139336       0.116604       0.106255       0.114660   \n",
      "min        -0.907688      -0.648044      -0.600410      -0.962844   \n",
      "25%        -0.184339       0.056763       0.048758      -0.132420   \n",
      "50%        -0.089468       0.127972       0.115555      -0.057423   \n",
      "75%         0.001955       0.203925       0.181553       0.013149   \n",
      "max         0.847290       1.105174       0.849240       0.626516   \n",
      "\n",
      "               f_127          label           year             id  \n",
      "count  169343.000000  169343.000000  169343.000000  169343.000000  \n",
      "mean       -0.128833      20.678942    2016.117495   84671.000000  \n",
      "std         0.098774       9.924934       3.512155   48885.257655  \n",
      "min        -0.862064       0.000000    1971.000000       0.000000  \n",
      "25%        -0.191149      16.000000    2015.000000   42335.500000  \n",
      "50%        -0.129555      24.000000    2017.000000   84671.000000  \n",
      "75%        -0.066776      28.000000    2019.000000  127006.500000  \n",
      "max         0.644890      39.000000    2020.000000  169342.000000  \n",
      "\n",
      "[8 rows x 131 columns]\n"
     ]
    }
   ],
   "source": [
    "print(node_data.describe())"
   ]
  },
  {
   "cell_type": "code",
   "execution_count": 8,
   "metadata": {},
   "outputs": [
    {
     "name": "stdout",
     "output_type": "stream",
     "text": [
      "169342 169341\n"
     ]
    }
   ],
   "source": [
    "edges.columns = ['src', 'dst']\n",
    "print(max(edges['src']), max(edges['dst']))"
   ]
  },
  {
   "cell_type": "code",
   "execution_count": 11,
   "metadata": {},
   "outputs": [],
   "source": [
    "edges.to_csv('/mnt/data/ogbn_arxiv/edges.csv', index=False)"
   ]
  },
  {
   "cell_type": "code",
   "execution_count": 10,
   "metadata": {},
   "outputs": [],
   "source": [
    "node_data.to_csv('/mnt/data/ogbn_arxiv/nodes.csv', index=False)"
   ]
  },
  {
   "cell_type": "code",
   "execution_count": 10,
   "metadata": {},
   "outputs": [
    {
     "name": "stdout",
     "output_type": "stream",
     "text": [
      "          f_0       f_1       f_2       f_3       f_4       f_5       f_6  \\\n",
      "0   -0.057943 -0.052530 -0.072603 -0.026555  0.130435 -0.241386 -0.449242   \n",
      "1   -0.124500 -0.070665 -0.325202  0.007779 -0.001559  0.074189 -0.191013   \n",
      "2   -0.080242 -0.023328 -0.183787 -0.180707  0.075765 -0.125818 -0.394573   \n",
      "125 -0.004967  0.223814 -0.194784 -0.192212  0.334989 -0.127873 -0.346097   \n",
      "152  0.063684 -0.038780 -0.088171 -0.082459  0.226655 -0.029420 -0.333937   \n",
      "\n",
      "          f_7       f_8       f_9  ...     f_121     f_122     f_123  \\\n",
      "0   -0.018443 -0.087218  0.112320  ...  0.053230  0.332873  0.104175   \n",
      "1    0.049689  0.026369  0.099364  ...  0.021567  0.281503 -0.173423   \n",
      "2   -0.219078 -0.108931  0.056966  ... -0.214012  0.182186 -0.121589   \n",
      "125  0.020875 -0.125539  0.108515  ...  0.064321  0.428641 -0.235330   \n",
      "152 -0.119556  0.275062 -0.033750  ... -0.025895  0.364317 -0.147182   \n",
      "\n",
      "        f_124     f_125     f_126     f_127  label  year  id  \n",
      "0    0.007408  0.173364 -0.172796 -0.140059      4  2013   0  \n",
      "1    0.202082  0.068524 -0.372111 -0.301036      5  2015   1  \n",
      "2   -0.073642  0.109919  0.117589 -0.139883     28  2014   2  \n",
      "125  0.180840  0.282803 -0.302592 -0.078605      4  2008   3  \n",
      "152  0.161457  0.108907  0.012147 -0.045074     28  2012   4  \n",
      "\n",
      "[5 rows x 131 columns]\n",
      "   src   dst\n",
      "0  808   111\n",
      "1  135   381\n",
      "2  829   530\n",
      "3  829  1047\n",
      "4  829   840\n"
     ]
    },
    {
     "name": "stderr",
     "output_type": "stream",
     "text": [
      "/tmp/ipykernel_1376077/3738519343.py:6: SettingWithCopyWarning: \n",
      "A value is trying to be set on a copy of a slice from a DataFrame.\n",
      "Try using .loc[row_indexer,col_indexer] = value instead\n",
      "\n",
      "See the caveats in the documentation: https://pandas.pydata.org/pandas-docs/stable/user_guide/indexing.html#returning-a-view-versus-a-copy\n",
      "  dummy_nodes['id'] = dummy_nodes['id'].map(id_map)\n",
      "/tmp/ipykernel_1376077/3738519343.py:7: SettingWithCopyWarning: \n",
      "A value is trying to be set on a copy of a slice from a DataFrame.\n",
      "Try using .loc[row_indexer,col_indexer] = value instead\n",
      "\n",
      "See the caveats in the documentation: https://pandas.pydata.org/pandas-docs/stable/user_guide/indexing.html#returning-a-view-versus-a-copy\n",
      "  dummy_edges['src'] = dummy_edges['src'].map(id_map)\n",
      "/tmp/ipykernel_1376077/3738519343.py:8: SettingWithCopyWarning: \n",
      "A value is trying to be set on a copy of a slice from a DataFrame.\n",
      "Try using .loc[row_indexer,col_indexer] = value instead\n",
      "\n",
      "See the caveats in the documentation: https://pandas.pydata.org/pandas-docs/stable/user_guide/indexing.html#returning-a-view-versus-a-copy\n",
      "  dummy_edges['dst'] = dummy_edges['dst'].map(id_map)\n"
     ]
    }
   ],
   "source": [
    "dummy_edges = edges.head(1000)\n",
    "dummy_edges.columns = ['src', 'dst']\n",
    "dummy_node_ids = set(dummy_edges['src'].values) | set(dummy_edges['dst'].values)\n",
    "dummy_nodes = node_data[node_data['id'].isin(dummy_node_ids)]\n",
    "id_map = {node_id: i for i, node_id in enumerate(dummy_nodes['id'].values)}\n",
    "dummy_nodes['id'] = dummy_nodes['id'].map(id_map)\n",
    "dummy_edges['src'] = dummy_edges['src'].map(id_map)\n",
    "dummy_edges['dst'] = dummy_edges['dst'].map(id_map)\n",
    "print(dummy_nodes.head())\n",
    "print(dummy_edges.head())"
   ]
  },
  {
   "cell_type": "code",
   "execution_count": 11,
   "metadata": {},
   "outputs": [
    {
     "data": {
      "text/plain": [
       "(1286, 1000)"
      ]
     },
     "execution_count": 11,
     "metadata": {},
     "output_type": "execute_result"
    }
   ],
   "source": [
    "len(dummy_nodes), len(dummy_edges)"
   ]
  },
  {
   "cell_type": "code",
   "execution_count": null,
   "metadata": {},
   "outputs": [],
   "source": [
    "dummy_nodes.to_csv('/mnt/data/ogbn_arxiv-dummy/nodes.csv', index=False)\n",
    "dummy_edges.to_csv('/mnt/data/ogbn_arxiv-dummy/edges.csv', index=False) "
   ]
  },
  {
   "cell_type": "code",
   "execution_count": 1,
   "metadata": {},
   "outputs": [
    {
     "name": "stderr",
     "output_type": "stream",
     "text": [
      "2024-08-13 20:02:46 - INFO - Creating edges...\n",
      "2024-08-13 20:02:46 - INFO - Creating graph...\n",
      "2024-08-13 20:02:48 - INFO - Graph created in 1.4081230163574219 seconds.\n"
     ]
    },
    {
     "name": "stdout",
     "output_type": "stream",
     "text": [
      "No split column found. Using the same graph for train, val and test.\n",
      "Masked applied\n"
     ]
    },
    {
     "name": "stderr",
     "output_type": "stream",
     "text": [
      "2024-08-13 20:02:49 - INFO - Edges created.\n",
      "2024-08-13 20:02:49 - INFO - Creating nodes...\n"
     ]
    },
    {
     "name": "stdout",
     "output_type": "stream",
     "text": [
      "Tensor frame created\n",
      "                 f_0            f_1            f_2            f_3  \\\n",
      "count  169343.000000  169343.000000  169343.000000  169343.000000   \n",
      "mean       -0.095499       0.018615      -0.200257      -0.050083   \n",
      "std         0.104760       0.107906       0.114011       0.117659   \n",
      "min        -0.753942      -0.711038      -1.239961      -0.826783   \n",
      "25%        -0.161587      -0.050627      -0.270516      -0.127758   \n",
      "50%        -0.095248       0.016597      -0.197415      -0.054508   \n",
      "75%        -0.029251       0.085527      -0.126237       0.023043   \n",
      "max         0.698438       0.709360       0.610937       0.878995   \n",
      "\n",
      "                 f_4            f_5            f_6            f_7  \\\n",
      "count  169343.000000  169343.000000  169343.000000  169343.000000   \n",
      "mean        0.049301      -0.085223      -0.369258      -0.111832   \n",
      "std         0.106440       0.107372       0.114725       0.130833   \n",
      "min        -0.899320      -1.006146      -1.050989      -1.061832   \n",
      "25%        -0.016998      -0.152594      -0.443579      -0.199086   \n",
      "50%         0.050127      -0.085322      -0.370543      -0.118406   \n",
      "75%         0.117085      -0.017517      -0.296716      -0.032147   \n",
      "max         0.714684       0.658821       0.418793       0.844044   \n",
      "\n",
      "                 f_8            f_9  ...          f_121          f_122  \\\n",
      "count  169343.000000  169343.000000  ...  169343.000000  169343.000000   \n",
      "mean        0.083998       0.045889  ...      -0.080385       0.315474   \n",
      "std         0.143303       0.115820  ...       0.101785       0.110271   \n",
      "min        -0.818375      -0.885494  ...      -0.882519      -0.573742   \n",
      "25%        -0.013167      -0.028734  ...      -0.144697       0.248785   \n",
      "50%         0.084123       0.045137  ...      -0.082802       0.319374   \n",
      "75%         0.179826       0.120009  ...      -0.018256       0.387041   \n",
      "max         0.878136       0.837103  ...       0.902845       1.076078   \n",
      "\n",
      "               f_123          f_124          f_125          f_126  \\\n",
      "count  169343.000000  169343.000000  169343.000000  169343.000000   \n",
      "mean       -0.091896       0.133277       0.113858      -0.062727   \n",
      "std         0.139336       0.116604       0.106255       0.114660   \n",
      "min        -0.907688      -0.648044      -0.600410      -0.962844   \n",
      "25%        -0.184339       0.056763       0.048758      -0.132420   \n",
      "50%        -0.089468       0.127972       0.115555      -0.057423   \n",
      "75%         0.001955       0.203925       0.181553       0.013149   \n",
      "max         0.847290       1.105174       0.849240       0.626516   \n",
      "\n",
      "               f_127          label           year             id  \n",
      "count  169343.000000  169343.000000  169343.000000  169343.000000  \n",
      "mean       -0.128833      20.678942    2016.117495   84671.000000  \n",
      "std         0.098774       9.924934       3.512155   48885.257655  \n",
      "min        -0.862064       0.000000    1971.000000       0.000000  \n",
      "25%        -0.191149      16.000000    2015.000000   42335.500000  \n",
      "50%        -0.129555      24.000000    2017.000000   84671.000000  \n",
      "75%        -0.066776      28.000000    2019.000000  127006.500000  \n",
      "max         0.644890      39.000000    2020.000000  169342.000000  \n",
      "\n",
      "[8 rows x 131 columns]\n",
      "Masked applied\n"
     ]
    },
    {
     "name": "stderr",
     "output_type": "stream",
     "text": [
      "2024-08-13 20:05:27 - INFO - Nodes created.\n"
     ]
    },
    {
     "name": "stdout",
     "output_type": "stream",
     "text": [
      "Tensor frame created\n"
     ]
    }
   ],
   "source": [
    "%load_ext autoreload\n",
    "%autoreload 2\n",
    "import sys\n",
    "sys.path.append('../')\n",
    "from src.datasets import OgbnArxiv\n",
    "dataset = OgbnArxiv('/mnt/data/ogbn_arxiv/')"
   ]
  }
 ],
 "metadata": {
  "kernelspec": {
   "display_name": "rel-mm",
   "language": "python",
   "name": "python3"
  },
  "language_info": {
   "codemirror_mode": {
    "name": "ipython",
    "version": 3
   },
   "file_extension": ".py",
   "mimetype": "text/x-python",
   "name": "python",
   "nbconvert_exporter": "python",
   "pygments_lexer": "ipython3",
   "version": "3.10.14"
  }
 },
 "nbformat": 4,
 "nbformat_minor": 2
}
