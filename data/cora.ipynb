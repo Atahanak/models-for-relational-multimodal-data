{
 "cells": [
  {
   "cell_type": "code",
   "execution_count": 1,
   "metadata": {},
   "outputs": [],
   "source": [
    "import pandas as pd"
   ]
  },
  {
   "cell_type": "code",
   "execution_count": 3,
   "metadata": {},
   "outputs": [],
   "source": [
    "edges = pd.read_csv('/mnt/data/cora/edges.csv')\n",
    "nodes = pd.read_csv('/mnt/data/cora/nodes.csv')"
   ]
  },
  {
   "cell_type": "code",
   "execution_count": 4,
   "metadata": {},
   "outputs": [
    {
     "name": "stdout",
     "output_type": "stream",
     "text": [
      "   Unnamed: 0  sourceNodeId  targetNodeId relationshipType\n",
      "0           0            35          1033            CITES\n",
      "1           1            35        103482            CITES\n",
      "2           2            35        103515            CITES\n",
      "3           3            35       1050679            CITES\n",
      "4           4            35       1103960            CITES\n"
     ]
    }
   ],
   "source": [
    "print(edges.head())"
   ]
  },
  {
   "cell_type": "code",
   "execution_count": 5,
   "metadata": {},
   "outputs": [
    {
     "name": "stdout",
     "output_type": "stream",
     "text": [
      "   Unnamed: 0   nodeId labels                 subject  \\\n",
      "0           0    31336  Paper         Neural_Networks   \n",
      "1           1  1061127  Paper           Rule_Learning   \n",
      "2           2  1106406  Paper  Reinforcement_Learning   \n",
      "3           3    13195  Paper  Reinforcement_Learning   \n",
      "4           4    37879  Paper   Probabilistic_Methods   \n",
      "\n",
      "                                            features  \n",
      "0  [0, 0, 0, 0, 0, 0, 0, 0, 0, 0, 0, 0, 0, 0, 0, ...  \n",
      "1  [0, 0, 0, 0, 0, 0, 0, 0, 0, 0, 0, 0, 1, 0, 0, ...  \n",
      "2  [0, 0, 0, 0, 0, 0, 0, 0, 0, 0, 0, 0, 0, 0, 0, ...  \n",
      "3  [0, 0, 0, 0, 0, 0, 0, 0, 0, 0, 0, 0, 0, 0, 0, ...  \n",
      "4  [0, 0, 0, 0, 0, 0, 0, 0, 0, 0, 0, 0, 0, 0, 0, ...  \n"
     ]
    }
   ],
   "source": [
    "print(nodes.head())"
   ]
  },
  {
   "cell_type": "code",
   "execution_count": 7,
   "metadata": {},
   "outputs": [
    {
     "name": "stdout",
     "output_type": "stream",
     "text": [
      "[[355, 376, 529, 757, 1054, 1369, 1522, 1564, 1858, 1945, 2095, 2107, 2203, 2536, 2707, 3616, 3628, 3709, 4057, 4279], [37, 1528, 1861, 2290, 2647, 2680, 2935, 3394, 3406, 3532, 3622, 3769, 3790, 3799, 3997, 4168, 4276], [136, 628, 637, 718, 877, 1183, 1531, 1543, 1744, 1864, 1870, 1915, 3226, 3397, 3532, 3619, 3790, 3868, 4048, 4168, 4246, 4264], [124, 280, 298, 448, 1783, 1852, 1873, 1945, 2623, 2746, 2827, 2965, 3013, 3148, 3214, 3511, 3532, 3583, 3877, 4045, 4048], [133, 367, 406, 460, 1093, 1189, 1207, 1423, 1522, 1858, 1984, 2098, 2104, 2485, 3199, 3523, 3526, 3532, 3625, 3628, 3637, 3763, 4144]]\n"
     ]
    }
   ],
   "source": [
    "# get features and convert it to a list of idexes\n",
    "fi = []\n",
    "features = nodes['features'].values\n",
    "for f in features:\n",
    "    i = []\n",
    "    for k, j in enumerate(f):\n",
    "        if j == '1':\n",
    "            i.append(k)\n",
    "    fi.append(i)\n",
    "    \n",
    "print(fi[:5])"
   ]
  },
  {
   "cell_type": "code",
   "execution_count": 10,
   "metadata": {},
   "outputs": [
    {
     "name": "stdout",
     "output_type": "stream",
     "text": [
      "30\n",
      "1\n",
      "2590.315789473684\n",
      "1432\n"
     ]
    }
   ],
   "source": [
    "max = 0\n",
    "min = 100000\n",
    "sum = 0\n",
    "uniq_features = set()\n",
    "for f in fi:\n",
    "    uniq_features.update(f)\n",
    "    if len(f) > max:\n",
    "        max = len(f)\n",
    "    if len(f) < min:\n",
    "        min = len(f)\n",
    "    sum += len(f)\n",
    "print(max)\n",
    "print(min)\n",
    "print(sum/len(f))\n",
    "print(len(uniq_features))"
   ]
  },
  {
   "cell_type": "code",
   "execution_count": 11,
   "metadata": {},
   "outputs": [
    {
     "data": {
      "text/plain": [
       "(array([  1.,   0.,   0.,  23.,   0.,   0.,  32.,   0.,   0.,   0.,  56.,\n",
       "          0.,   0.,  78.,   0.,   0.,   0.,  68.,   0.,   0.,  39.,   0.,\n",
       "          0.,   0.,  31.,   0.,   0.,  24.,   0.,   0.,   0.,  18.,   0.,\n",
       "          0.,  15.,   0.,   0.,  12.,   0.,   0.,   0.,  28.,   0.,   0.,\n",
       "         35.,   0.,   0.,   0.,  68.,   0.,   0., 102.,   0.,   0.,   0.,\n",
       "        167.,   0.,   0., 200.,   0.,   0.,   0., 278.,   0.,   0., 319.,\n",
       "          0.,   0., 320.,   0.,   0.,   0., 261.,   0.,   0., 237.,   0.,\n",
       "          0.,   0., 157.,   0.,   0.,  93.,   0.,   0.,   0.,  35.,   0.,\n",
       "          0.,   8.,   0.,   0.,   0.,   2.,   0.,   0.,   0.,   0.,   0.,\n",
       "          1.]),\n",
       " array([ 1.  ,  1.29,  1.58,  1.87,  2.16,  2.45,  2.74,  3.03,  3.32,\n",
       "         3.61,  3.9 ,  4.19,  4.48,  4.77,  5.06,  5.35,  5.64,  5.93,\n",
       "         6.22,  6.51,  6.8 ,  7.09,  7.38,  7.67,  7.96,  8.25,  8.54,\n",
       "         8.83,  9.12,  9.41,  9.7 ,  9.99, 10.28, 10.57, 10.86, 11.15,\n",
       "        11.44, 11.73, 12.02, 12.31, 12.6 , 12.89, 13.18, 13.47, 13.76,\n",
       "        14.05, 14.34, 14.63, 14.92, 15.21, 15.5 , 15.79, 16.08, 16.37,\n",
       "        16.66, 16.95, 17.24, 17.53, 17.82, 18.11, 18.4 , 18.69, 18.98,\n",
       "        19.27, 19.56, 19.85, 20.14, 20.43, 20.72, 21.01, 21.3 , 21.59,\n",
       "        21.88, 22.17, 22.46, 22.75, 23.04, 23.33, 23.62, 23.91, 24.2 ,\n",
       "        24.49, 24.78, 25.07, 25.36, 25.65, 25.94, 26.23, 26.52, 26.81,\n",
       "        27.1 , 27.39, 27.68, 27.97, 28.26, 28.55, 28.84, 29.13, 29.42,\n",
       "        29.71, 30.  ]),\n",
       " <BarContainer object of 100 artists>)"
      ]
     },
     "execution_count": 11,
     "metadata": {},
     "output_type": "execute_result"
    },
    {
     "data": {
      "image/png": "[encoded data removed]",
      "text/plain": [
       "<Figure size 640x480 with 1 Axes>"
      ]
     },
     "metadata": {},
     "output_type": "display_data"
    }
   ],
   "source": [
    "# histogram of number of features\n",
    "import matplotlib.pyplot as plt\n",
    "import numpy as np\n",
    "plt.hist([len(f) for f in fi], bins=100)"
   ]
  },
  {
   "cell_type": "code",
   "execution_count": 13,
   "metadata": {},
   "outputs": [
    {
     "name": "stdout",
     "output_type": "stream",
     "text": [
      "                                                0     \\\n",
      "0  [0, 0, 0, 0, 0, 0, 0, 0, 0, 0, 0, 0, 0, 0, 0, ...   \n",
      "\n",
      "                                                1     \\\n",
      "0  [0, 0, 0, 0, 0, 0, 0, 0, 0, 0, 0, 0, 1, 0, 0, ...   \n",
      "\n",
      "                                                2     \\\n",
      "0  [0, 0, 0, 0, 0, 0, 0, 0, 0, 0, 0, 0, 0, 0, 0, ...   \n",
      "\n",
      "                                                3     \\\n",
      "0  [0, 0, 0, 0, 0, 0, 0, 0, 0, 0, 0, 0, 0, 0, 0, ...   \n",
      "\n",
      "                                                4     \\\n",
      "0  [0, 0, 0, 0, 0, 0, 0, 0, 0, 0, 0, 0, 0, 0, 0, ...   \n",
      "\n",
      "                                                5     \\\n",
      "0  [0, 0, 0, 0, 0, 0, 0, 0, 0, 0, 0, 0, 0, 0, 0, ...   \n",
      "\n",
      "                                                6     \\\n",
      "0  [0, 0, 0, 0, 0, 0, 0, 0, 0, 0, 0, 0, 0, 0, 0, ...   \n",
      "\n",
      "                                                7     \\\n",
      "0  [0, 0, 0, 1, 0, 0, 0, 0, 0, 0, 0, 0, 0, 0, 0, ...   \n",
      "\n",
      "                                                8     \\\n",
      "0  [0, 0, 0, 0, 0, 0, 0, 0, 0, 0, 0, 0, 0, 0, 0, ...   \n",
      "\n",
      "                                                9     ...  \\\n",
      "0  [0, 0, 0, 0, 0, 0, 0, 0, 0, 0, 0, 0, 1, 0, 0, ...  ...   \n",
      "\n",
      "                                                2698  \\\n",
      "0  [0, 0, 0, 0, 0, 0, 0, 0, 0, 0, 0, 0, 0, 0, 0, ...   \n",
      "\n",
      "                                                2699  \\\n",
      "0  [0, 0, 0, 0, 0, 0, 0, 0, 0, 0, 0, 0, 0, 0, 0, ...   \n",
      "\n",
      "                                                2700  \\\n",
      "0  [0, 0, 0, 0, 1, 0, 0, 0, 0, 0, 0, 0, 0, 0, 0, ...   \n",
      "\n",
      "                                                2701  \\\n",
      "0  [0, 0, 0, 0, 0, 0, 0, 0, 0, 0, 0, 0, 0, 0, 0, ...   \n",
      "\n",
      "                                                2702  \\\n",
      "0  [0, 0, 0, 0, 0, 0, 1, 0, 0, 0, 0, 0, 0, 0, 0, ...   \n",
      "\n",
      "                                                2703  \\\n",
      "0  [0, 0, 0, 0, 0, 0, 0, 0, 0, 0, 0, 0, 0, 0, 0, ...   \n",
      "\n",
      "                                                2704  \\\n",
      "0  [0, 0, 0, 0, 0, 0, 0, 0, 0, 0, 0, 0, 0, 0, 0, ...   \n",
      "\n",
      "                                                2705  \\\n",
      "0  [0, 0, 0, 0, 0, 0, 0, 0, 0, 0, 0, 0, 0, 0, 0, ...   \n",
      "\n",
      "                                                2706  \\\n",
      "0  [0, 0, 0, 0, 1, 0, 0, 0, 0, 0, 0, 0, 0, 0, 0, ...   \n",
      "\n",
      "                                                2707  \n",
      "0  [0, 0, 0, 0, 0, 0, 0, 0, 0, 0, 0, 0, 0, 0, 0, ...  \n",
      "\n",
      "[1 rows x 2708 columns]\n"
     ]
    }
   ],
   "source": [
    "# padd missing features with -1 and make all features the same length\n",
    "max_len = 0\n",
    "for f in fi:\n",
    "    if len(f) > max_len:\n",
    "        max_len = len(f)\n",
    "features = []\n",
    "for f in fi:\n",
    "    features.append(f + [-1]*(max_len-len(f)))\n"
   ]
  }
 ],
 "metadata": {
  "kernelspec": {
   "display_name": "rel-mm",
   "language": "python",
   "name": "python3"
  },
  "language_info": {
   "codemirror_mode": {
    "name": "ipython",
    "version": 3
   },
   "file_extension": ".py",
   "mimetype": "text/x-python",
   "name": "python",
   "nbconvert_exporter": "python",
   "pygments_lexer": "ipython3",
   "version": "3.10.14"
  }
 },
 "nbformat": 4,
 "nbformat_minor": 2
}
