{
 "cells": [
  {
   "cell_type": "code",
   "execution_count": null,
   "metadata": {},
   "outputs": [],
   "source": [
    "from icecream import ic\n",
    "from torch_frame.datasets import Yandex\n",
    "from torch_frame.data import DataLoader\n",
    "import sys\n",
    "\n",
    "dataset = Yandex(root='/tmp/yandex', name='adult')\n",
    "ic(dataset)\n",
    "# ic(dataset.feat_cols)\n",
    "dataset.materialize()\n",
    "is_classification = dataset.task_type.is_classification\n",
    "\n",
    "train_dataset, val_dataset, test_dataset = dataset.split()\n",
    "train_tensor_frame = train_dataset.tensor_frame\n",
    "train_loader = DataLoader(train_tensor_frame, batch_size=1, shuffle=True)\n",
    "example = next(iter(train_loader))\n",
    "# ic(example)\n",
    "# ic(example.get_col_feat('C_feature_1'))\n",
    "# ic(example.get_col_feat('N_feature_1'))\n",
    "\n",
    "numerical_encoder = LinearEncoder()\n",
    "stype_encoder_dict = {\n",
    "    stype.categorical: EmbeddingEncoder(),\n",
    "    stype.numerical: numerical_encoder\n",
    "}\n",
    "\n",
    "if is_classification:\n",
    "    output_channels = dataset.num_classes\n",
    "else:\n",
    "    output_channels = 1\n",
    "\n",
    "model = FTTransformer(\n",
    "    channels=32,\n",
    "    out_channels=output_channels,\n",
    "    num_layers=3,\n",
    "    col_stats=dataset.col_stats,\n",
    "    col_names_dict=train_tensor_frame.col_names_dict,\n",
    "    stype_encoder_dict=stype_encoder_dict,\n",
    "    pretrain=True\n",
    ")\n",
    "\n",
    "pred = model(example)\n",
    "ic(example.y)\n",
    "ic(pred[0])\n",
    "ic(pred[1])"
   ]
  }
 ],
 "metadata": {
  "language_info": {
   "name": "python"
  }
 },
 "nbformat": 4,
 "nbformat_minor": 2
}
